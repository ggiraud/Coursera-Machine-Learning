{
 "cells": [
  {
   "cell_type": "markdown",
   "metadata": {},
   "source": [
    "# Week 1 - Linear Regression Model"
   ]
  },
  {
   "cell_type": "markdown",
   "metadata": {},
   "source": [
    "## Hypothesis\n",
    "\n",
    "> $h_{\\theta}(x) = \\theta_{0} + \\theta_{1}x$"
   ]
  },
  {
   "cell_type": "markdown",
   "metadata": {},
   "source": [
    "## Cost Function\n",
    "\n",
    "> $\\displaystyle J(\\theta_{0},\\theta_{1}) = \\frac{1}{2m}\\sum_{i=1}^{m}(h_{\\theta}(x^{(i)}) - y^{(i)})^2$\n"
   ]
  },
  {
   "cell_type": "markdown",
   "metadata": {},
   "source": [
    "## Gradient Descent Algorithm\n",
    "\n",
    "repeat until convergence:\n",
    "\n",
    ">$\\displaystyle \\theta_{j} := \\theta_{j} - \\alpha\\frac{\\partial}{\\partial \\theta_{j}} J(\\theta_{0},\\theta_{1}), j \\in \\{0,1\\}$\n",
    ">\n",
    "> $\\alpha$ is the **learning rate**.\n",
    "\n",
    "**or**\n",
    "\n",
    ">$\\displaystyle \\theta_{0} := \\theta_{0} - \\alpha\\frac{1}{m} \\sum_{i=1}^{m} (h_{\\theta}(x^{(i)}) - y^{(i)})$\n",
    ">\n",
    ">$\\displaystyle \\theta_{1} := \\theta_{1} - \\alpha\\frac{1}{m} \\sum_{i=1}^{m} (h_{\\theta}(x^{(i)}) - y^{(i)})\\cdot x^{(i)}$\n"
   ]
  },
  {
   "cell_type": "markdown",
   "metadata": {},
   "source": [
    "## Batch Gradient Descent\n",
    "\n",
    "Each step of gradient descent uses all the training examples\n"
   ]
  },
  {
   "cell_type": "markdown",
   "metadata": {},
   "source": [
    "## Matrix Notation\n",
    "\n",
    "> $\\mathbf{A} = \\begin{bmatrix}\n",
    "    1 & 2 & 3 \\\\\n",
    "    4 & 5 & 6\n",
    "\\end{bmatrix} \\in \\mathbb{R}^{2 \\times 3}$ \n",
    ">\n",
    "> $\\mathbf{A}_{ij}$ = entry in the $i^{th}$ row and the $j^{th}$ column.\n",
    ">\n",
    "> $\\mathbf{A}_{21} = 4$"
   ]
  },
  {
   "cell_type": "markdown",
   "metadata": {},
   "source": [
    "## Vector Notation\n",
    "\n",
    "> $\\mathbf{y} = \\begin{bmatrix}\n",
    "    460 \\\\\n",
    "    232 \\\\\n",
    "    315 \\\\\n",
    "    178\n",
    "\\end{bmatrix} \\in \\mathbb{R}^{4}$\n",
    ">\n",
    "> $\\mathbf{y_{i}} = i^{th}$ element.\n",
    ">\n",
    "> $\\mathbf{y_2} = 232$\n",
    ">\n",
    "> Prefer 1-indexed vectors."
   ]
  },
  {
   "cell_type": "markdown",
   "metadata": {},
   "source": [
    "## Matrix Addition\n",
    "\n",
    "> $\\begin{bmatrix}\n",
    "    1 & 0 \\\\\n",
    "    2 & 5 \\\\\n",
    "    3 & 1\n",
    "\\end{bmatrix} + \\begin{bmatrix}\n",
    "    4 & 0.5 \\\\\n",
    "    2 & 5 \\\\\n",
    "    0 & 1\n",
    "\\end{bmatrix} = \\begin{bmatrix}\n",
    "    5 & 0.5 \\\\\n",
    "    4 & 10 \\\\\n",
    "    3 & 2\n",
    "\\end{bmatrix}$\n",
    ">\n",
    "> Only add matrices of same dimensions."
   ]
  },
  {
   "cell_type": "markdown",
   "metadata": {},
   "source": [
    "## Scalar Multiplication\n",
    "\n",
    "> $3 \\times \\begin{bmatrix}\n",
    "    1 & 0 \\\\\n",
    "    2 & 5 \\\\\n",
    "    3 & 1\n",
    "\\end{bmatrix} = \\begin{bmatrix}\n",
    "    3 & 0 \\\\\n",
    "    6 & 15 \\\\\n",
    "    9 & 3\n",
    "\\end{bmatrix}$\n",
    ">\n",
    "> $\\begin{bmatrix}\n",
    "    4 & 0 \\\\\n",
    "    6 & 3\n",
    "\\end{bmatrix} / 4 = \\begin{bmatrix}\n",
    "    1 & 0 \\\\\n",
    "    \\frac{3}{2} & \\frac{3}{4}\n",
    "\\end{bmatrix}$"
   ]
  },
  {
   "cell_type": "markdown",
   "metadata": {},
   "source": [
    "## Matrix Multiplication\n",
    "\n",
    "> $\\begin{bmatrix}\n",
    "    1 & 3 \\\\\n",
    "    4 & 0 \\\\\n",
    "    2 & 1\n",
    "\\end{bmatrix} \\begin{bmatrix}\n",
    "    1 \\\\\n",
    "    5\n",
    "\\end{bmatrix} = \\begin{bmatrix}\n",
    "    16 \\\\\n",
    "    4 \\\\\n",
    "    7\n",
    "\\end{bmatrix}$"
   ]
  },
  {
   "cell_type": "markdown",
   "metadata": {},
   "source": [
    "## Matrix Matrix Multiplication\n",
    "\n",
    "> $\\begin{bmatrix}\n",
    "    1 & 3 & 2 \\\\\n",
    "    4 & 0 & 1\n",
    "\\end{bmatrix} \\begin{bmatrix}\n",
    "    1 & 3 \\\\\n",
    "    0 & 1 \\\\\n",
    "    5 & 2\n",
    "\\end{bmatrix} = \\begin{bmatrix}\n",
    "    11 & 10 \\\\\n",
    "    9 & 14\n",
    "\\end{bmatrix}$\n",
    ">\n",
    "> $\\mathbf{A} \\times \\mathbf{B} = \\mathbf{C},\n",
    "    \\mathbf{A} \\in \\mathbb{R}^{m \\times n},\n",
    "    \\mathbf{B} \\in \\mathbb{R}^{n \\times o},\n",
    "    \\mathbf{C} \\in \\mathbb{R}^{m \\times o}$\n",
    "    \n",
    "Matrix multiplication is not commutative.\n",
    "\n",
    "> $\\mathbf{A} \\times \\mathbf{B} \\neq \\mathbf{B} \\times \\mathbf{A}$\n",
    "\n",
    "Matrix multiplication is associative.\n",
    "\n",
    "> $(\\mathbf{A} \\times \\mathbf{B}) \\times \\mathbf{C} = \\mathbf{B} \\times (\\mathbf{A} \\times \\mathbf{C})$"
   ]
  },
  {
   "cell_type": "markdown",
   "metadata": {},
   "source": [
    "## Identity Matrix\n",
    "\n",
    "> $I \\text{ or } I_{n \\times n}$\n",
    ">\n",
    "> $\\begin{bmatrix}\n",
    "    1\n",
    "\\end{bmatrix} \\in \\mathbb{R}^{1\\times 1}$\n",
    ">    \n",
    "> $\\begin{bmatrix}\n",
    "    1 & 0 \\\\\n",
    "    0 & 1\n",
    "\\end{bmatrix} \\in \\mathbb{R}^{2\\times 2}$\n",
    ">\n",
    "> $\\begin{bmatrix}\n",
    "    1 & 0 & 0 \\\\\n",
    "    0 & 1 & 0 \\\\\n",
    "    0 & 0 & 1\n",
    "\\end{bmatrix} \\in \\mathbb{R}^{3\\times 3}$\n",
    ">\n",
    "> $\\begin{bmatrix}\n",
    "    1 & 0 & 0 & 0 \\\\\n",
    "    0 & 1 & 0 & 0 \\\\\n",
    "    0 & 0 & 1 & 0 \\\\\n",
    "    0 & 0 & 0 & 1\n",
    "\\end{bmatrix} \\in \\mathbb{R}^{4\\times 4}$\n",
    ">\n",
    "> $\\mathbf{A} \\cdot \\mathbf{I} = \\mathbf{I} \\cdot \\mathbf{A}$"
   ]
  },
  {
   "cell_type": "markdown",
   "metadata": {},
   "source": [
    "## Inverse Matrix\n",
    "\n",
    "> $\\mathbf{A}\\mathbf{A}^{-1} = \\mathbf{A}^{-1}\\mathbf{A} = \\mathbf{I}, \\mathbf{A} \\in \\mathbb{R}^{m \\times m}$\n",
    "\n",
    "Only square matrices have inverses.\n",
    "\n",
    "Matrix that don't have an inverse are \"singular\" or \"degenerate\".\n",
    "\n",
    "> $\\begin{bmatrix}\n",
    "    0 & 0 \\\\\n",
    "    0 & 0\n",
    "\\end{bmatrix}$"
   ]
  },
  {
   "cell_type": "markdown",
   "metadata": {},
   "source": [
    "## Matrix Transpose\n",
    "\n",
    "> $\\mathbf{A} = \\begin{bmatrix}\n",
    "    1 & 2 & 0 \\\\\n",
    "    3 & 5 & 9\n",
    "\\end{bmatrix}$\n",
    ">\n",
    "> $\\mathbf{A}^{\\top} = \\begin{bmatrix}\n",
    "    1 & 3 \\\\\n",
    "    2 & 5 \\\\\n",
    "    0 & 9\n",
    "\\end{bmatrix}$\n",
    ">\n",
    "> $\\mathbf{B} = \\mathbf{A}^{\\top},\n",
    "    \\mathbf{A} \\in \\mathbb{R}^{m \\times n},\n",
    "    \\mathbf{B} \\in \\mathbb{R}^{n \\times m},\n",
    "    \\mathbf{B}_{ij} = \\mathbf{A}_{ji}$"
   ]
  }
 ],
 "metadata": {
  "kernelspec": {
   "display_name": "Python [conda root]",
   "language": "python",
   "name": "conda-root-py"
  },
  "language_info": {
   "codemirror_mode": {
    "name": "ipython",
    "version": 3
   },
   "file_extension": ".py",
   "mimetype": "text/x-python",
   "name": "python",
   "nbconvert_exporter": "python",
   "pygments_lexer": "ipython3",
   "version": "3.5.4"
  }
 },
 "nbformat": 4,
 "nbformat_minor": 2
}
