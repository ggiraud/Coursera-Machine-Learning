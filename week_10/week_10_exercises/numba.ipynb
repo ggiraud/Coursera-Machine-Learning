{
 "cells": [
  {
   "cell_type": "code",
   "execution_count": 113,
   "metadata": {},
   "outputs": [],
   "source": [
    "%matplotlib inline\n",
    "import matplotlib.pyplot as plt\n",
    "import numpy as np\n",
    "from sklearn.datasets import make_regression\n",
    "from numba import jit, autojit, vectorize, guvectorize, float64, int64"
   ]
  },
  {
   "cell_type": "code",
   "execution_count": 90,
   "metadata": {},
   "outputs": [
    {
     "data": {
      "image/png": "[encoded data removed]",
      "text/plain": [
       "<Figure size 432x288 with 1 Axes>"
      ]
     },
     "metadata": {
      "needs_background": "light"
     },
     "output_type": "display_data"
    }
   ],
   "source": [
    "X, y = make_regression(100000, 1, noise=18.3, bias=1000, random_state=15)\n",
    "plt.scatter(X,y);"
   ]
  },
  {
   "cell_type": "code",
   "execution_count": 156,
   "metadata": {},
   "outputs": [],
   "source": [
    "@jit(float64[:,:](float64[:,:], float64[:,:], float64[:,:], int64, float64), nopython=True, cache=True)\n",
    "def solve(X, y, w, nepochs, lr):\n",
    "    m,n = X.shape\n",
    "    for i in range(nepochs):\n",
    "        grad = (1/m * np.dot(X.T, (np.dot(X,w) - y)))\n",
    "        w = w - lr * grad\n",
    "    return w"
   ]
  },
  {
   "cell_type": "code",
   "execution_count": 158,
   "metadata": {},
   "outputs": [
    {
     "name": "stdout",
     "output_type": "stream",
     "text": [
      "CPU times: user 4.33 s, sys: 509 ms, total: 4.84 s\n",
      "Wall time: 2.76 s\n"
     ]
    },
    {
     "data": {
      "text/plain": [
       "array([[1000.00219658],\n",
       "       [  55.9763183 ]])"
      ]
     },
     "execution_count": 158,
     "metadata": {},
     "output_type": "execute_result"
    }
   ],
   "source": [
    "Xbias = np.insert(X,0,1,axis=1)\n",
    "w = np.zeros((2,1))\n",
    "yrs = y.reshape((-1,1))\n",
    "\n",
    "%time solve(Xbias, yrs, w, 1000, 0.1)"
   ]
  },
  {
   "cell_type": "code",
   "execution_count": 150,
   "metadata": {},
   "outputs": [
    {
     "name": "stdout",
     "output_type": "stream",
     "text": [
      "solve (array(float64, 2d, A), array(float64, 2d, A), array(float64, 2d, A), int64, float64)\n",
      "--------------------------------------------------------------------------------\n",
      "# File: <ipython-input-146-b5f3c22c62c3>\n",
      "# --- LINE 1 --- \n",
      "# label 0\n",
      "\n",
      "@jit(float64[:,:](float64[:,:], float64[:,:], float64[:,:], int64, float64), nopython=True)\n",
      "\n",
      "# --- LINE 2 --- \n",
      "\n",
      "def solve(X, y, w, nepochs, lr):\n",
      "\n",
      "    # --- LINE 3 --- \n",
      "    #   X = arg(0, name=X)  :: array(float64, 2d, A)\n",
      "    #   y = arg(1, name=y)  :: array(float64, 2d, A)\n",
      "    #   w = arg(2, name=w)  :: array(float64, 2d, A)\n",
      "    #   nepochs = arg(3, name=nepochs)  :: int64\n",
      "    #   lr = arg(4, name=lr)  :: float64\n",
      "    #   $0.2 = getattr(value=X, attr=shape)  :: tuple(int64 x 2)\n",
      "    #   $0.5 = exhaust_iter(value=$0.2, count=2)  :: tuple(int64 x 2)\n",
      "    #   del $0.2\n",
      "    #   $0.3 = static_getitem(value=$0.5, index=0, index_var=None)  :: int64\n",
      "    #   $0.4 = static_getitem(value=$0.5, index=1, index_var=None)  :: int64\n",
      "    #   del $0.5\n",
      "    #   m = $0.3  :: int64\n",
      "    #   del $0.3\n",
      "    #   n = $0.4  :: int64\n",
      "    #   del n\n",
      "    #   del $0.4\n",
      "    #   jump 10\n",
      "    # label 10\n",
      "\n",
      "    m,n = X.shape\n",
      "\n",
      "    # --- LINE 4 --- \n",
      "    #   jump 12\n",
      "    # label 12\n",
      "    #   $12.1 = global(range: <class 'range'>)  :: Function(<class 'range'>)\n",
      "    #   $12.3 = call $12.1(nepochs, func=$12.1, args=[Var(nepochs, <ipython-input-146-b5f3c22c62c3> (3))], kws=(), vararg=None)  :: (int64,) -> range_state_int64\n",
      "    #   del nepochs\n",
      "    #   del $12.1\n",
      "    #   $12.4 = getiter(value=$12.3)  :: range_iter_int64\n",
      "    #   del $12.3\n",
      "    #   $phi20.1 = $12.4  :: range_iter_int64\n",
      "    #   del $12.4\n",
      "    #   jump 20\n",
      "    # label 20\n",
      "    #   $20.2 = iternext(value=$phi20.1)  :: pair<int64, bool>\n",
      "    #   $20.3 = pair_first(value=$20.2)  :: int64\n",
      "    #   $20.4 = pair_second(value=$20.2)  :: bool\n",
      "    #   del $20.2\n",
      "    #   $phi22.1 = $20.3  :: int64\n",
      "    #   $phi72.1 = $20.3  :: int64\n",
      "    #   del $phi72.1\n",
      "    #   del $20.3\n",
      "    #   $phi72.2 = $phi20.1  :: range_iter_int64\n",
      "    #   del $phi72.2\n",
      "    #   branch $20.4, 22, 72\n",
      "    # label 22\n",
      "    #   del $20.4\n",
      "    #   i = $phi22.1  :: int64\n",
      "    #   del i\n",
      "    #   del $phi22.1\n",
      "\n",
      "    for i in range(nepochs):\n",
      "\n",
      "        # --- LINE 5 --- \n",
      "        #   $const22.2 = const(int, 1)  :: int64\n",
      "        #   $22.4 = $const22.2 / m  :: float64\n",
      "        #   del $const22.2\n",
      "        #   $22.5 = global(np: <module 'numpy' from '/Users/guillaume/anaconda3/lib/python3.6/site-packages/numpy/__init__.py'>)  :: Module(<module 'numpy' from '/Users/guillaume/anaconda3/lib/python3.6/site-packages/numpy/__init__.py'>)\n",
      "        #   $22.6 = getattr(value=$22.5, attr=dot)  :: Function(<built-in function dot>)\n",
      "        #   del $22.5\n",
      "        #   $22.8 = getattr(value=X, attr=T)  :: array(float64, 2d, A)\n",
      "        #   $22.9 = global(np: <module 'numpy' from '/Users/guillaume/anaconda3/lib/python3.6/site-packages/numpy/__init__.py'>)  :: Module(<module 'numpy' from '/Users/guillaume/anaconda3/lib/python3.6/site-packages/numpy/__init__.py'>)\n",
      "        #   $22.10 = getattr(value=$22.9, attr=dot)  :: Function(<built-in function dot>)\n",
      "        #   del $22.9\n",
      "        #   $22.13 = call $22.10(X, w, func=$22.10, args=[Var(X, <ipython-input-146-b5f3c22c62c3> (3)), Var(w, <ipython-input-146-b5f3c22c62c3> (3))], kws=(), vararg=None)  :: (array(float64, 2d, A), array(float64, 2d, A)) -> array(float64, 2d, C)\n",
      "        #   del $22.10\n",
      "        #   $22.15 = arrayexpr(expr=('-', [Var($22.13, <ipython-input-146-b5f3c22c62c3> (5)), Var(y, <ipython-input-146-b5f3c22c62c3> (3))]), ty=array(float64, 2d, C))  :: array(float64, 2d, C)\n",
      "        #   del $22.13\n",
      "        #   $22.16 = call $22.6($22.8, $22.15, func=$22.6, args=[Var($22.8, <ipython-input-146-b5f3c22c62c3> (5)), Var($22.15, <ipython-input-146-b5f3c22c62c3> (5))], kws=(), vararg=None)  :: (array(float64, 2d, A), array(float64, 2d, C)) -> array(float64, 2d, C)\n",
      "        #   del $22.8\n",
      "        #   del $22.6\n",
      "        #   del $22.15\n",
      "        #   $22.17 = arrayexpr(expr=('*', [Var($22.4, <ipython-input-146-b5f3c22c62c3> (5)), Var($22.16, <ipython-input-146-b5f3c22c62c3> (5))]), ty=array(float64, 2d, C))  :: array(float64, 2d, C)\n",
      "        #   del $22.4\n",
      "        #   del $22.16\n",
      "        #   grad = $22.17  :: array(float64, 2d, C)\n",
      "        #   del $22.17\n",
      "\n",
      "        grad = (1/m * np.dot(X.T, (np.dot(X,w) - y)))\n",
      "\n",
      "        # --- LINE 6 --- \n",
      "        #   $22.22 = arrayexpr(expr=('-', [Var(w, <ipython-input-146-b5f3c22c62c3> (3)), ('*', [Var(lr, <ipython-input-146-b5f3c22c62c3> (3)), Var(grad, <ipython-input-146-b5f3c22c62c3> (5))])]), ty=array(float64, 2d, C))  :: array(float64, 2d, C)\n",
      "        #   del grad\n",
      "        #   w = $22.22  :: array(float64, 2d, A)\n",
      "        #   del $22.22\n",
      "        #   jump 20\n",
      "        # label 72\n",
      "        #   del y\n",
      "        #   del m\n",
      "        #   del lr\n",
      "        #   del X\n",
      "        #   del $phi22.1\n",
      "        #   del $phi20.1\n",
      "        #   del $20.4\n",
      "        #   jump 74\n",
      "        # label 74\n",
      "\n",
      "        w = w - lr * grad\n",
      "\n",
      "    # --- LINE 7 --- \n",
      "    #   $74.2 = cast(value=w)  :: array(float64, 2d, A)\n",
      "    #   del w\n",
      "    #   return $74.2\n",
      "\n",
      "    return w\n",
      "\n",
      "\n",
      "================================================================================\n"
     ]
    }
   ],
   "source": [
    "solve.inspect_types()"
   ]
  },
  {
   "cell_type": "code",
   "execution_count": 96,
   "metadata": {},
   "outputs": [],
   "source": [
    "def solve2(X, y, w, nepochs, lr):\n",
    "    m,n = X.shape\n",
    "    for i in np.arange(nepochs):\n",
    "        w = w - lr * (1/(2*m)) * np.dot(X.T, (np.dot(X,w) - y))\n",
    "    return w"
   ]
  },
  {
   "cell_type": "code",
   "execution_count": 134,
   "metadata": {},
   "outputs": [
    {
     "name": "stdout",
     "output_type": "stream",
     "text": [
      "CPU times: user 2.25 s, sys: 28.3 ms, total: 2.28 s\n",
      "Wall time: 1.2 s\n"
     ]
    },
    {
     "data": {
      "text/plain": [
       "array([[1000.00219658],\n",
       "       [  55.9763183 ]])"
      ]
     },
     "execution_count": 134,
     "metadata": {},
     "output_type": "execute_result"
    }
   ],
   "source": [
    "Xbias = np.insert(X,0,1,axis=1)\n",
    "w = np.zeros((2,1))\n",
    "\n",
    "%time solve2(Xbias, y.reshape((-1,1)), w, 1000, 0.1)"
   ]
  }
 ],
 "metadata": {
  "kernelspec": {
   "display_name": "Python 3",
   "language": "python",
   "name": "python3"
  },
  "language_info": {
   "codemirror_mode": {
    "name": "ipython",
    "version": 3
   },
   "file_extension": ".py",
   "mimetype": "text/x-python",
   "name": "python",
   "nbconvert_exporter": "python",
   "pygments_lexer": "ipython3",
   "version": "3.6.6"
  }
 },
 "nbformat": 4,
 "nbformat_minor": 2
}
