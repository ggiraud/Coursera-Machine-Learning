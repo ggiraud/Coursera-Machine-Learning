{
 "cells": [
  {
   "cell_type": "markdown",
   "metadata": {},
   "source": [
    "# Multivariable Linear Regression"
   ]
  },
  {
   "cell_type": "code",
   "execution_count": 1,
   "metadata": {},
   "outputs": [
    {
     "name": "stdout",
     "output_type": "stream",
     "text": [
      "Populating the interactive namespace from numpy and matplotlib\n"
     ]
    }
   ],
   "source": [
    "%pylab inline\n",
    "#import sklearn.preprocessing as pre\n",
    "import doctest"
   ]
  },
  {
   "cell_type": "markdown",
   "metadata": {},
   "source": [
    "## Load Data"
   ]
  },
  {
   "cell_type": "code",
   "execution_count": 2,
   "metadata": {},
   "outputs": [],
   "source": [
    "data = np.loadtxt('ex1data2.txt',delimiter=',')\n",
    "X = data[:,:-1]\n",
    "y = data[:,-1].reshape((-1,1))"
   ]
  },
  {
   "cell_type": "markdown",
   "metadata": {},
   "source": [
    "## Normalize features"
   ]
  },
  {
   "cell_type": "code",
   "execution_count": 3,
   "metadata": {},
   "outputs": [],
   "source": [
    "def normalize_features(X, mu=None, sigma=None):\n",
    "    \"\"\"Apply Standardization method to an unbiased array of features.\n",
    "    \n",
    "    The features will be rescaled so that they’ll have the properties\n",
    "    of a standard normal distribution with mean=0 and std=1.\n",
    "    \n",
    "    Parameters\n",
    "    ----------\n",
    "    X : array_like\n",
    "        Input array.\n",
    "        The input array must not include the bias column.\n",
    "        If `X` is a 1-D array of shape ``(m,)``, it will be reshaped to ``(m,1)``\n",
    "        before standardization.\n",
    "    mu : array_like, optional\n",
    "        The mean to be used in the Standardization algorithm.\n",
    "        If `mu` is not provided, it will be computed as the mean of `X`.\n",
    "    sigma : array_like, optional\n",
    "        The standard deviation to be used in the Standardization algorithm.\n",
    "        If `sigma` is not provided, it will be computed as the standard\n",
    "        deviation of `X`.\n",
    "        \n",
    "    Returns\n",
    "    -------\n",
    "    z : numpy.ndarray\n",
    "        The standard scores (z-scores) of the features\n",
    "        as an array of `numpy.float64`.\n",
    "    mu : numpy.ndarray\n",
    "        The features means used in Standardization algorithm\n",
    "        as an array of `numpy.float64`.\n",
    "    sigma : numpy.ndarray\n",
    "        The features standard deviations used in the Standardization algorithm\n",
    "        as an array of `numpy.float64`.\n",
    "        \n",
    "    Examples\n",
    "    --------\n",
    "    >>> x = [[2, 3],[4, 5],[6, 7]]\n",
    "    >>> print(normalize_features(x))\n",
    "    (array([[-1.22474487, -1.22474487],\n",
    "           [ 0.        ,  0.        ],\n",
    "           [ 1.22474487,  1.22474487]]), array([4., 5.]), array([1.63299316, 1.63299316]))\n",
    "    \n",
    "    >>> mu = [4., 5.]\n",
    "    >>> sigma = [1.63299316, 1.63299316]\n",
    "    >>> print(normalize_features(x,mu,sigma))\n",
    "    (array([[-1.22474487, -1.22474487],\n",
    "           [ 0.        ,  0.        ],\n",
    "           [ 1.22474487,  1.22474487]]), array([4., 5.]), array([1.63299316, 1.63299316]))\n",
    "    \"\"\"\n",
    "    if np.ndim(X) == 1:\n",
    "        X = np.reshape(X, (-1,1))\n",
    "        \n",
    "    mu = np.mean(X, axis=0) if mu is None else np.array(mu)\n",
    "    sigma = np.std(X, axis=0) if sigma is None else np.array(sigma)\n",
    "    Z = (np.array(X) - mu) / sigma\n",
    "    return Z, mu, sigma"
   ]
  },
  {
   "cell_type": "markdown",
   "metadata": {},
   "source": [
    "## Insert Bias Feature"
   ]
  },
  {
   "cell_type": "code",
   "execution_count": 4,
   "metadata": {},
   "outputs": [],
   "source": [
    "def insert_bias_feature(X):\n",
    "    \"\"\"Insert a column filled with ones in front of an unbiased array of features.\n",
    "    \n",
    "    The new column is inserted at index ``0`` on axis ``1``.\n",
    "    \n",
    "    Parameters\n",
    "    ----------\n",
    "    X : array_like\n",
    "        Input array.\n",
    "        The input array must not include the bias column.\n",
    "        If `X` is a 1-D array of shape ``(m,)``, it will be reshaped to ``(m,1)``\n",
    "        before the new column insertion.\n",
    "        \n",
    "    Returns\n",
    "    -------\n",
    "    numpy.ndarray\n",
    "        Output array.\n",
    "        If `X` has ``(m,n)`` shape, the return value will have ``(m,n+1)``shape.\n",
    "        \n",
    "    Examples\n",
    "    --------\n",
    "    >>> x = np.array([[2,3],[4,5],[6,7]])\n",
    "    >>> insert_bias_feature(x)\n",
    "    array([[1, 2, 3],\n",
    "           [1, 4, 5],\n",
    "           [1, 6, 7]])\n",
    "     \n",
    "    >>> x = np.array([[2],[3],[4]])\n",
    "    >>> insert_bias_feature(x)\n",
    "    array([[1, 2],\n",
    "           [1, 3],\n",
    "           [1, 4]])\n",
    "     \n",
    "    >>> x = [2,3,4]\n",
    "    >>> insert_bias_feature(x)\n",
    "    array([[1, 2],\n",
    "           [1, 3],\n",
    "           [1, 4]])\n",
    "    \"\"\"\n",
    "    if np.ndim(X) == 1:\n",
    "        X = np.reshape(X, (-1,1))\n",
    "        \n",
    "    return np.insert(X,0,1,axis=1)"
   ]
  },
  {
   "cell_type": "markdown",
   "metadata": {},
   "source": [
    "## Initialize Theta"
   ]
  },
  {
   "cell_type": "code",
   "execution_count": 5,
   "metadata": {},
   "outputs": [],
   "source": [
    "def initialize_theta(shape, order='C'):\n",
    "    \"\"\"Return a new array of given shape, filled with `numpy.float64` zeros.\n",
    "    \n",
    "    Parameters\n",
    "    ----------\n",
    "    shape : int or sequence of ints\n",
    "        Shape of the new array, e.g., ``(2, 3)`` or ``2``.\n",
    "    order : {'C', 'F'}, optional\n",
    "        Whether to store multidimensional data in C- or Fortran-contiguous\n",
    "        (row- or column-wise) order in memory.\n",
    "        \n",
    "    Returns\n",
    "    -------\n",
    "    numpy.ndarray\n",
    "        Array of `numpy.float64` zeros with the given shape and order.\n",
    "    \n",
    "    Examples\n",
    "    --------\n",
    "    >>> initialize_theta(5)\n",
    "    array([0., 0., 0., 0., 0.])\n",
    "    \n",
    "    >>> initialize_theta((5,))\n",
    "    array([0., 0., 0., 0., 0.])\n",
    "    \n",
    "    >>> initialize_theta((2, 1))\n",
    "    array([[0.],\n",
    "           [0.]])\n",
    "    \n",
    "    >>> initialize_theta((2,2))\n",
    "    array([[0., 0.],\n",
    "           [0., 0.]])\n",
    "    \"\"\"\n",
    "    return np.zeros(shape)"
   ]
  },
  {
   "cell_type": "markdown",
   "metadata": {},
   "source": [
    "## Cost Function"
   ]
  },
  {
   "cell_type": "code",
   "execution_count": 6,
   "metadata": {},
   "outputs": [],
   "source": [
    "def linear_loss(theta,X,y):\n",
    "    \"\"\"Compute linear regression cost from unbiased examples.\n",
    "    \n",
    "    The cost is the result of the Mean Squared Error computation.\n",
    "\n",
    "    Parameters\n",
    "    ----------\n",
    "    theta : array_like\n",
    "        Parameters (weights) of the model, including the bias parameter.\n",
    "        If `theta` is a 1-D array of shape ``(m,)``, it will be reshaped to ``(m,1)``.\n",
    "    X : array_like\n",
    "        Input examples.\n",
    "        The input array must not include the bias column.\n",
    "        If `X` is a 1-D array of shape ``(m,)``, it will be reshaped to ``(m,1)``.\n",
    "    y : array_like\n",
    "        Output examples.\n",
    "        If `y` is a 1-D array of shape ``(m,)``, it will be reshaped to ``(m,1)```.\n",
    "        \n",
    "    Returns\n",
    "    -------\n",
    "    J : numpy.float64\n",
    "        Cost value.\n",
    "    \n",
    "    Examples\n",
    "    --------\n",
    "    >>> t = [[0],[0]]\n",
    "    >>> x = [[6.1101], [5.5277], [8.5186], [7.0032], [5.8598]]\n",
    "    >>> y = [[17.592], [9.1302], [13.662], [11.854], [6.8233]]\n",
    "    >>> linear_loss(t,x,y)\n",
    "    76.656399893\n",
    "    \n",
    "    >>> t = [0,0]\n",
    "    >>> x = [6.1101, 5.5277, 8.5186, 7.0032, 5.8598]\n",
    "    >>> y = [17.592, 9.1302, 13.662, 11.854, 6.8233]\n",
    "    >>> linear_loss(t,x,y)\n",
    "    76.656399893\n",
    "    \"\"\"\n",
    "    if np.ndim(theta) == 1:\n",
    "        theta = np.reshape(theta,(-1,1))\n",
    "    if np.ndim(y) == 1:\n",
    "        y = np.reshape(y, (-1,1))\n",
    "        \n",
    "    X_biased = insert_bias_feature(X)\n",
    "    z = X_biased @ theta\n",
    "    J = np.sum(np.square(z - y)) / (2*len(y))\n",
    "    return J"
   ]
  },
  {
   "cell_type": "markdown",
   "metadata": {},
   "source": [
    "## Gradient Descent"
   ]
  },
  {
   "cell_type": "code",
   "execution_count": 7,
   "metadata": {},
   "outputs": [],
   "source": [
    "def linear_gradient_descent(X,y,alpha,iterations):\n",
    "    \"\"\"Minimize linear loss from unbiased examples using gradient descent method.\n",
    "    \n",
    "    Parameters\n",
    "    ----------\n",
    "    X : array_like\n",
    "        Input examples.\n",
    "        The input array must not include the bias column.\n",
    "        If `X` is a 1-D array of shape ``(m,)``, it will be reshaped to ``(m,1)``.\n",
    "    y : array_like\n",
    "        Output examples.\n",
    "        If `y` is a 1-D array of shape ``(m,)``, it will be reshaped to ``(m,1)``.\n",
    "    alpha: float\n",
    "        The learning rate.\n",
    "        Usually choosen from: ``[0.0001, 0.0003, 0.001, 0.003, 0.01, 0.03, 0.1, 0.3, 1, 3]``.\n",
    "    iterations: int\n",
    "        The number of iterations of the gradient descent algorithm.\n",
    "        \n",
    "    Returns\n",
    "    -------\n",
    "    theta : numpy.ndarray\n",
    "        The model's parameters (weights).\n",
    "    costs : numpy.ndarray\n",
    "        An array of cost values per iteration.\n",
    "    \n",
    "    Examples\n",
    "    --------\n",
    "    >>> x = [[6.1101], [5.5277], [8.5186], [7.0032], [5.8598]]\n",
    "    >>> y = [[17.592], [9.1302], [13.662], [11.854], [6.8233]]\n",
    "    >>> a = 0.01\n",
    "    >>> i = 3\n",
    "    >>> print(linear_gradient_descent(x,y,a,i))\n",
    "    (array([[0.21793241],\n",
    "           [1.45965607]]), array([26.87250936, 12.21653968,  7.90190872]))\n",
    "    \n",
    "    >>> x = [6.1101, 5.5277, 8.5186, 7.0032, 5.8598]\n",
    "    >>> y = [17.592, 9.1302, 13.662, 11.854, 6.8233]\n",
    "    >>> linear_gradient_descent(x,y,a,i)\n",
    "    (array([[0.21793241],\n",
    "           [1.45965607]]), array([26.87250936, 12.21653968,  7.90190872]))\n",
    "    \"\"\"\n",
    "    if np.ndim(y) == 1:\n",
    "        y = np.reshape(y, (-1,1))\n",
    "        \n",
    "    X_biased = insert_bias_feature(X)\n",
    "    m, n = X_biased.shape\n",
    "    theta = initialize_theta((n,1))\n",
    "    costs = np.zeros(iterations)\n",
    "    for i in range(iterations):\n",
    "        z = X_biased @ theta\n",
    "        D = X_biased.T @ (z - y) / len(y)\n",
    "        theta -= alpha * D\n",
    "        costs[i] = linear_loss(theta,X,y)\n",
    "    return theta, costs"
   ]
  },
  {
   "cell_type": "code",
   "execution_count": 8,
   "metadata": {},
   "outputs": [
    {
     "data": {
      "image/png": "[encoded data removed]",
      "text/plain": [
       "<matplotlib.figure.Figure at 0x1137f5518>"
      ]
     },
     "metadata": {},
     "output_type": "display_data"
    }
   ],
   "source": [
    "def plot_gradient_descent(X,y,alphas,iterations):\n",
    "    X_norm, mu, sigma = normalize_features(X)\n",
    "    colors = plt.cm.viridis(np.linspace(0,1,len(alphas)))\n",
    "    for i, alpha in enumerate(alphas):\n",
    "        theta, costs = linear_gradient_descent(X_norm,y,alpha,iterations)\n",
    "        plt.plot(costs,'-g',label=rf'$\\alpha = {alpha}$',color=colors[i]);\n",
    "        \n",
    "    plt.legend();\n",
    "    plt.xlabel('Number of iterations')\n",
    "    plt.ylabel('Cost');\n",
    "    \n",
    "plot_gradient_descent(X,y,alphas=[0.01,0.03,0.1,0.3,1],iterations=400)"
   ]
  },
  {
   "cell_type": "markdown",
   "metadata": {},
   "source": [
    "## Predict with Gradient Descent"
   ]
  },
  {
   "cell_type": "code",
   "execution_count": 9,
   "metadata": {},
   "outputs": [
    {
     "name": "stdout",
     "output_type": "stream",
     "text": [
      "The estimated price of a house with 1650 square feet and 3 bedrooms is $293081.46\n"
     ]
    }
   ],
   "source": [
    "def make_predictions(X,y,xs):\n",
    "    X_norm, mu, sigma = normalize_features(X)\n",
    "    theta, _ = linear_gradient_descent(X_norm,y,alpha=1,iterations=400)\n",
    "    xs_norm, _, _ = normalize_features(xs, mu=mu, sigma=sigma)\n",
    "    xs_biased = insert_bias_feature(xs_norm)\n",
    "    ys = xs_biased @ theta\n",
    "    print(f'The estimated price of a house with {xs[0,0]} square feet and {xs[0,1]} bedrooms is ${ys[0,0]:.2f}')\n",
    "    \n",
    "make_predictions(X,y,xs=np.array([[1650,3]]))"
   ]
  },
  {
   "cell_type": "markdown",
   "metadata": {},
   "source": [
    "## Predict with Normal Equations"
   ]
  },
  {
   "cell_type": "code",
   "execution_count": 10,
   "metadata": {},
   "outputs": [],
   "source": [
    "def normal_equations(X,y):\n",
    "    \"\"\"Solves the linear least squares for unbiased examples,\n",
    "    using the derivation of the normal equations.\n",
    "    \n",
    "    Parameters\n",
    "    ----------\n",
    "    X : array_like\n",
    "        Input examples.\n",
    "        The input array must not include the bias column.\n",
    "        If `X` is a 1-D array of shape ``(m,)``, it will be reshaped to ``(m,1)``.\n",
    "    y : array_like\n",
    "        Output examples.\n",
    "        If `y` is a 1-D array of shape ``(m,)``, it will be reshaped to ``(m,1)``.\n",
    "        \n",
    "    Returns\n",
    "    -------\n",
    "    theta : numpy.ndarray\n",
    "        The model's parameters (weights).\n",
    "    \n",
    "    Examples\n",
    "    --------\n",
    "    >>> x = [[6.1101], [5.5277], [8.5186], [7.0032], [5.8598]]\n",
    "    >>> y = [[17.592], [9.1302], [13.662], [11.854], [6.8233]]\n",
    "    >>> normal_equations(x,y)\n",
    "    array([[3.47007754],\n",
    "           [1.26323047]])\n",
    "    \"\"\"\n",
    "    X_biased = insert_bias_feature(X)\n",
    "    theta = np.linalg.pinv(X_biased.T @ X_biased) @ X_biased.T @ y\n",
    "    return theta"
   ]
  },
  {
   "cell_type": "code",
   "execution_count": 11,
   "metadata": {},
   "outputs": [
    {
     "name": "stdout",
     "output_type": "stream",
     "text": [
      "The estimated price of a house with 1650 square feet and 3 bedrooms is $293081.46\n"
     ]
    }
   ],
   "source": [
    "def make_predictions_with_normal_equations(X,y,xs):\n",
    "    theta = normal_equations(X,y)\n",
    "    xs_biased = insert_bias_feature(xs)\n",
    "    ys = xs_biased @ theta\n",
    "    print(f'The estimated price of a house with {xs[0,0]} square feet and {xs[0,1]} bedrooms is ${ys[0,0]:.2f}')\n",
    "    \n",
    "make_predictions_with_normal_equations(X,y,xs=np.array([[1650,3]]))"
   ]
  },
  {
   "cell_type": "markdown",
   "metadata": {},
   "source": [
    "## Unit Tests"
   ]
  },
  {
   "cell_type": "code",
   "execution_count": 12,
   "metadata": {},
   "outputs": [
    {
     "data": {
      "text/plain": [
       "TestResults(failed=0, attempted=34)"
      ]
     },
     "execution_count": 12,
     "metadata": {},
     "output_type": "execute_result"
    }
   ],
   "source": [
    "doctest.testmod()"
   ]
  },
  {
   "cell_type": "code",
   "execution_count": 13,
   "metadata": {},
   "outputs": [],
   "source": [
    "# set the file name (required)\n",
    "__file__ = 'ex1_multi.ipynb'\n",
    "\n",
    "# add ipython magics\n",
    "import ipytest.magics\n",
    "import pytest"
   ]
  },
  {
   "cell_type": "code",
   "execution_count": 15,
   "metadata": {},
   "outputs": [
    {
     "name": "stdout",
     "output_type": "stream",
     "text": [
      ".......                                                                                                                                                                                              [100%]\n",
      "7 passed in 0.11 seconds\n"
     ]
    }
   ],
   "source": [
    "%%run_pytest[clean] -qq -v\n",
    "\n",
    "def test_insert_bias_feature():\n",
    "    ipytest.assert_equals(insert_bias_feature([[2,3], [4,5], [6,7]]),\n",
    "                          np.array([[1, 2, 3], [1, 4, 5], [1, 6, 7]]))\n",
    "    ipytest.assert_equals(insert_bias_feature(np.array([[2],[3],[4]])),\n",
    "                          np.array([[1, 2], [1, 3], [1, 4]]))\n",
    "    ipytest.assert_equals(insert_bias_feature([2,3,4]),\n",
    "                          np.array([[1, 2], [1, 3], [1, 4]]))\n",
    "\n",
    "def test_initialize_theta():\n",
    "    ipytest.assert_equals(initialize_theta(5), np.array([0., 0., 0., 0., 0.]))\n",
    "    ipytest.assert_equals(initialize_theta((5,)), np.array([0., 0., 0., 0., 0.]))\n",
    "    ipytest.assert_equals(initialize_theta((2, 1)), np.array([[0.], [0.]]))\n",
    "    ipytest.assert_equals(initialize_theta((2,2)), np.array([[0., 0.], [0., 0.]]))\n",
    "    \n",
    "def test_linear_loss():\n",
    "    ipytest.assert_equals(linear_loss(\n",
    "        theta=[[0],[0]],\n",
    "        X=[[6.1101], [5.5277], [8.5186], [7.0032], [5.8598]],\n",
    "        y=[[17.592], [9.1302], [13.662], [11.854], [6.8233]]), 76.656399893)\n",
    "    ipytest.assert_equals(linear_loss(\n",
    "        theta=[0,0],\n",
    "        X=[6.1101, 5.5277, 8.5186, 7.0032, 5.8598],\n",
    "        y=[17.592, 9.1302, 13.662, 11.854, 6.8233]), 76.656399893)\n",
    "\n",
    "def test_normalize_features():\n",
    "    a1 = np.array([[1,2,3],[4,3,2],[2,3,4],[3,2,1]])\n",
    "    mu1 = np.array([2.5, 2.5, 2.5])\n",
    "    sigma1 = np.array([1.11803399, 0.5, 1.11803399])\n",
    "    a2 = np.array([[-1.34164079, -1., 0.4472136],\n",
    "                [1.34164079, 1., -0.4472136],\n",
    "                [-0.4472136, 1., 1.34164079],\n",
    "                [0.4472136, -1., -1.34164079]])\n",
    "    a3, mu2, sigma2 = normalize_features(a1)\n",
    "    ipytest.assert_equals(a3, a2)\n",
    "    ipytest.assert_equals(mu2, mu1)\n",
    "    ipytest.assert_equals(sigma2, sigma1)\n",
    "    \n",
    "def test_normalize_features_with_parameters():\n",
    "    a1 = np.array([[1,2,3],[4,3,2],[2,3,4],[3,2,1]])\n",
    "    mu1 = np.array([2.5, 2.5, 2.5])\n",
    "    sigma1 = np.array([1.11803399, 0.5, 1.11803399])\n",
    "    a2 = np.array([[-1.34164079, -1., 0.4472136],\n",
    "                [1.34164079, 1., -0.4472136],\n",
    "                [-0.4472136, 1., 1.34164079],\n",
    "                [0.4472136, -1., -1.34164079]])\n",
    "    a3, mu2, sigma2 = normalize_features(a1, mu=mu1, sigma=sigma1)\n",
    "    ipytest.assert_equals(a3, a2)\n",
    "    ipytest.assert_equals(mu2, mu1)\n",
    "    ipytest.assert_equals(sigma2, sigma1)\n",
    "    \n",
    "def test_linear_gradient_descent():\n",
    "    theta, costs = linear_gradient_descent(\n",
    "        X=[[6.1101], [5.5277], [8.5186], [7.0032], [5.8598]],\n",
    "        y=[[17.592], [9.1302], [13.662], [11.854], [6.8233]],\n",
    "        alpha=0.01, iterations=5)\n",
    "    ipytest.assert_equals(theta, np.array([[0.2484605],[1.65525105]]))\n",
    "    ipytest.assert_equals(costs, np.array([26.87250936, 12.21653968, 7.90190872, 6.63167333, 6.25768018]))\n",
    "    \n",
    "    theta, costs = linear_gradient_descent(\n",
    "        X=[6.1101, 5.5277, 8.5186, 7.0032, 5.8598],\n",
    "        y=[17.592, 9.1302, 13.662, 11.854, 6.8233],\n",
    "        alpha=0.01, iterations=5)\n",
    "    ipytest.assert_equals(theta, np.array([[0.2484605],[1.65525105]]))\n",
    "    ipytest.assert_equals(costs, np.array([26.87250936, 12.21653968, 7.90190872, 6.63167333, 6.25768018]))\n",
    "    \n",
    "def test_normal_equations():\n",
    "    X = [[6.1101], [5.5277], [8.5186], [7.0032], [5.8598]]\n",
    "    y = [[17.592], [9.1302], [13.662], [11.854], [6.8233]]\n",
    "    ipytest.assert_equals(normal_equations(X,y),\n",
    "                         np.array([[3.47007754],[1.26323047]]))"
   ]
  }
 ],
 "metadata": {
  "kernelspec": {
   "display_name": "Python 3",
   "language": "python",
   "name": "python3"
  },
  "language_info": {
   "codemirror_mode": {
    "name": "ipython",
    "version": 3
   },
   "file_extension": ".py",
   "mimetype": "text/x-python",
   "name": "python",
   "nbconvert_exporter": "python",
   "pygments_lexer": "ipython3",
   "version": "3.6.4"
  }
 },
 "nbformat": 4,
 "nbformat_minor": 2
}
