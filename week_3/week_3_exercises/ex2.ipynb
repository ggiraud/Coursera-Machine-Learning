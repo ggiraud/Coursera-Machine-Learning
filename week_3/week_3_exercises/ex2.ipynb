{
 "cells": [
  {
   "cell_type": "markdown",
   "metadata": {},
   "source": [
    "# Logistic Regression"
   ]
  },
  {
   "cell_type": "code",
   "execution_count": 1,
   "metadata": {},
   "outputs": [
    {
     "name": "stdout",
     "output_type": "stream",
     "text": [
      "Populating the interactive namespace from numpy and matplotlib\n"
     ]
    }
   ],
   "source": [
    "%pylab inline\n",
    "import scipy.optimize as op\n",
    "import doctest"
   ]
  },
  {
   "cell_type": "code",
   "execution_count": 2,
   "metadata": {},
   "outputs": [
    {
     "name": "stdout",
     "output_type": "stream",
     "text": [
      "34.62365962451697,78.0246928153624,0\n",
      "30.28671076822607,43.89499752400101,0\n",
      "35.84740876993872,72.90219802708364,0\n",
      "60.18259938620976,86.30855209546826,1\n",
      "79.0327360507101,75.3443764369103,1\n"
     ]
    }
   ],
   "source": [
    "!head -n 5 ex2data1.txt"
   ]
  },
  {
   "cell_type": "markdown",
   "metadata": {},
   "source": [
    "## Load Data"
   ]
  },
  {
   "cell_type": "code",
   "execution_count": 3,
   "metadata": {
    "collapsed": true
   },
   "outputs": [],
   "source": [
    "data = np.loadtxt('ex2data1.txt', delimiter=',')\n",
    "X = data[:,:-1]\n",
    "y = data[:,-1].reshape((-1,1))\n",
    "X_pos = X[y[:,0] == 1]\n",
    "X_neg = X[y[:,0] == 0]"
   ]
  },
  {
   "cell_type": "markdown",
   "metadata": {},
   "source": [
    "## Plot Data"
   ]
  },
  {
   "cell_type": "code",
   "execution_count": 4,
   "metadata": {},
   "outputs": [
    {
     "data": {
      "image/png": "[encoded data removed]",
      "text/plain": [
       "<matplotlib.figure.Figure at 0x106642710>"
      ]
     },
     "metadata": {},
     "output_type": "display_data"
    }
   ],
   "source": [
    "def plot_data(X_pos,X_neg):\n",
    "    plt.plot(*X_pos.T,'k+',label='Admitted')\n",
    "    plt.plot(*X_neg.T,'ko',label='Not Admitted')\n",
    "    plt.xlabel('Exam 1 score')\n",
    "    plt.ylabel('Exam 2 score')\n",
    "    plt.legend(loc=1);\n",
    "\n",
    "plot_data(X_pos,X_neg)"
   ]
  },
  {
   "cell_type": "markdown",
   "metadata": {},
   "source": [
    "## Insert Bias Feature"
   ]
  },
  {
   "cell_type": "code",
   "execution_count": 5,
   "metadata": {},
   "outputs": [],
   "source": [
    "def insert_bias_feature(X):\n",
    "    \"\"\"Insert a column filled with ones in front of an unbiased array of features.\n",
    "    \n",
    "    The new column is inserted at index ``0`` on axis ``1``.\n",
    "    \n",
    "    Parameters\n",
    "    ----------\n",
    "    X : array_like\n",
    "        Input array.\n",
    "        The input array must not include the bias column.\n",
    "        If `X` is a 1-D array of shape ``(m,)``, it will be reshaped to ``(m,1)``\n",
    "        before the new column insertion.\n",
    "        \n",
    "    Returns\n",
    "    -------\n",
    "    numpy.ndarray\n",
    "        Output array.\n",
    "        If `X` has ``(m,n)`` shape, the return value will have ``(m,n+1)``shape.\n",
    "        \n",
    "    Examples\n",
    "    --------\n",
    "    >>> x = np.array([[2,3],[4,5],[6,7]])\n",
    "    >>> insert_bias_feature(x)\n",
    "    array([[1, 2, 3],\n",
    "           [1, 4, 5],\n",
    "           [1, 6, 7]])\n",
    "     \n",
    "    >>> x = np.array([[2],[3],[4]])\n",
    "    >>> insert_bias_feature(x)\n",
    "    array([[1, 2],\n",
    "           [1, 3],\n",
    "           [1, 4]])\n",
    "     \n",
    "    >>> x = [2,3,4]\n",
    "    >>> insert_bias_feature(x)\n",
    "    array([[1, 2],\n",
    "           [1, 3],\n",
    "           [1, 4]])\n",
    "    \"\"\"\n",
    "    if np.ndim(X) == 1:\n",
    "        X = np.reshape(X, (-1,1))\n",
    "        \n",
    "    return np.insert(X,0,1,axis=1)"
   ]
  },
  {
   "cell_type": "markdown",
   "metadata": {},
   "source": [
    "## Initialize Theta"
   ]
  },
  {
   "cell_type": "code",
   "execution_count": 6,
   "metadata": {},
   "outputs": [],
   "source": [
    "def initialize_theta(shape, order='C'):\n",
    "    \"\"\"Return a new array of given shape, filled with `numpy.float64` zeros.\n",
    "    \n",
    "    Parameters\n",
    "    ----------\n",
    "    shape : int or sequence of ints\n",
    "        Shape of the new array, e.g., ``(2, 3)`` or ``2``.\n",
    "    order : {'C', 'F'}, optional\n",
    "        Whether to store multidimensional data in C- or Fortran-contiguous\n",
    "        (row- or column-wise) order in memory.\n",
    "        \n",
    "    Returns\n",
    "    -------\n",
    "    numpy.ndarray\n",
    "        Array of `numpy.float64` zeros with the given shape and order.\n",
    "    \n",
    "    Examples\n",
    "    --------\n",
    "    >>> initialize_theta(5)\n",
    "    array([0., 0., 0., 0., 0.])\n",
    "    \n",
    "    >>> initialize_theta((5,))\n",
    "    array([0., 0., 0., 0., 0.])\n",
    "    \n",
    "    >>> initialize_theta((2, 1))\n",
    "    array([[0.],\n",
    "           [0.]])\n",
    "    \n",
    "    >>> initialize_theta((2,2))\n",
    "    array([[0., 0.],\n",
    "           [0., 0.]])\n",
    "    \"\"\"\n",
    "    return np.zeros(shape)"
   ]
  },
  {
   "cell_type": "markdown",
   "metadata": {},
   "source": [
    "## Sigmoid Function"
   ]
  },
  {
   "cell_type": "code",
   "execution_count": 7,
   "metadata": {
    "collapsed": true
   },
   "outputs": [],
   "source": [
    "def sigmoid(z):\n",
    "    '''Compute the sigmoid function.\n",
    "    \n",
    "    Parameters\n",
    "    ----------\n",
    "    z : array_like\n",
    "        Input data.\n",
    "        \n",
    "    Returns\n",
    "    -------\n",
    "    numpy.ndarray\n",
    "        Element-wise ``sigmoid(z)``, of the same shape and dtype as `x`.\n",
    "        Returns scalar if `x` is a scalar.\n",
    "        \n",
    "    Examples\n",
    "    --------\n",
    "    >>> sigmoid(0)\n",
    "    0.5\n",
    "    \n",
    "    >>> sigmoid([-1,1])\n",
    "    array([0.26894142, 0.73105858])\n",
    "\n",
    "    >>> sigmoid(np.array([-1,1e2]))\n",
    "    array([0.26894142, 1.        ])\n",
    "    '''\n",
    "    return 1 / (1 + np.exp(np.negative(z)))"
   ]
  },
  {
   "cell_type": "markdown",
   "metadata": {},
   "source": [
    "## Cost Function"
   ]
  },
  {
   "cell_type": "code",
   "execution_count": 8,
   "metadata": {},
   "outputs": [],
   "source": [
    "def logistic_loss(theta,X,y):\n",
    "    \"\"\"Compute logistic regression cost from unbiased examples.\n",
    "\n",
    "    Parameters\n",
    "    ----------\n",
    "    theta : array_like\n",
    "        Parameters (weights) of the model, including the bias parameter.\n",
    "        If `theta` is a 1-D array of shape ``(m,)``, it will be reshaped to ``(m,1)``.\n",
    "    X : array_like\n",
    "        Input examples.\n",
    "        The input array must not include the bias column.\n",
    "        If `X` is a 1-D array of shape ``(m,)``, it will be reshaped to ``(m,1)``.\n",
    "    y : array_like\n",
    "        Output examples.\n",
    "        If `y` is a 1-D array of shape ``(m,)``, it will be reshaped to ``(m,1)```.\n",
    "        \n",
    "    Returns\n",
    "    -------\n",
    "    J : numpy.float64\n",
    "        Cost value.\n",
    "    \n",
    "    Examples\n",
    "    --------\n",
    "    >>> t = [[0],[0],[0]]\n",
    "    >>> x = [[67.37202755, 42.83843832],\n",
    "    ...      [89.67677575, 65.79936593],\n",
    "    ...      [50.53478829, 48.85581153],\n",
    "    ...      [34.21206098, 44.2095286 ],\n",
    "    ...      [77.92409145, 68.97235999]]\n",
    "    >>> y = [[0],[1],[0],[0],[1]]\n",
    "    >>> logistic_loss(t,x,y)\n",
    "    0.6931471805599453\n",
    "    \n",
    "    >>> t = [0,0,0]\n",
    "    >>> x = [[67.37202755, 42.83843832],\n",
    "    ...      [89.67677575, 65.79936593],\n",
    "    ...      [50.53478829, 48.85581153],\n",
    "    ...      [34.21206098, 44.2095286 ],\n",
    "    ...      [77.92409145, 68.97235999]]\n",
    "    >>> y = [0,1,0,0,1]\n",
    "    >>> logistic_loss(t,x,y)\n",
    "    0.6931471805599453\n",
    "    \"\"\"\n",
    "    if np.ndim(theta) == 1:\n",
    "        theta = np.reshape(theta,(-1,1))\n",
    "    if np.ndim(y) == 1:\n",
    "        y = np.reshape(y, (-1,1))\n",
    "    else:\n",
    "        y = np.array(y)\n",
    "        \n",
    "    X_biased = insert_bias_feature(X)\n",
    "    z = X_biased @ theta\n",
    "    a = sigmoid(z)\n",
    "    J = (1/len(y)) * ((-y).T @ log(a) - (1-y).T @ log(1-a))\n",
    "    return np.sum(J)"
   ]
  },
  {
   "cell_type": "markdown",
   "metadata": {},
   "source": [
    "## Gradient Function"
   ]
  },
  {
   "cell_type": "code",
   "execution_count": 9,
   "metadata": {},
   "outputs": [],
   "source": [
    "def logistic_gradient(theta,X,y):\n",
    "    \"\"\"Compute logistic regression gradient from unbiased features.\n",
    "\n",
    "    Parameters\n",
    "    ----------\n",
    "    theta : array_like\n",
    "        Parameters (weights) of the model, including the bias parameter.\n",
    "        If `theta` is a 1-D array of shape ``(m,)``, it will be reshaped to ``(m,1)``.\n",
    "    X : array_like\n",
    "        Input examples.\n",
    "        The input array must not include the bias column.\n",
    "        If `X` is a 1-D array of shape ``(m,)``, it will be reshaped to ``(m,1)``.\n",
    "    y : array_like\n",
    "        Output examples.\n",
    "        If `y` is a 1-D array of shape ``(m,)``, it will be reshaped to ``(m,1)```.\n",
    "        \n",
    "    Returns\n",
    "    -------\n",
    "    J : numpy.float64\n",
    "        Cost gradient.\n",
    "    \n",
    "    Examples\n",
    "    --------\n",
    "    >>> t = [[0],[0],[0]]\n",
    "    >>> x = [[67.37202755, 42.83843832],\n",
    "    ...      [89.67677575, 65.79936593],\n",
    "    ...      [50.53478829, 48.85581153],\n",
    "    ...      [34.21206098, 44.2095286 ],\n",
    "    ...      [77.92409145, 68.97235999]]\n",
    "    >>> y = [[0],[1],[0],[0],[1]]\n",
    "    >>> logistic_gradient(t,x,y)\n",
    "    array([ 0.1       , -1.54819904,  0.11320525])\n",
    "    \n",
    "    >>> t = [0,0,0]\n",
    "    >>> x = [[67.37202755, 42.83843832],\n",
    "    ...      [89.67677575, 65.79936593],\n",
    "    ...      [50.53478829, 48.85581153],\n",
    "    ...      [34.21206098, 44.2095286 ],\n",
    "    ...      [77.92409145, 68.97235999]]\n",
    "    >>> y = [0,1,0,0,1]\n",
    "    >>> logistic_gradient(t,x,y)\n",
    "    array([ 0.1       , -1.54819904,  0.11320525])\n",
    "    \"\"\"\n",
    "    if np.ndim(theta) == 1:\n",
    "        theta = np.reshape(theta,(-1,1))\n",
    "    if np.ndim(y) == 1:\n",
    "        y = np.reshape(y, (-1,1))\n",
    "        \n",
    "    X_biased = insert_bias_feature(X)\n",
    "    z = X_biased @ theta\n",
    "    a = sigmoid(z)\n",
    "    D = (1/len(y)) * X_biased.T @ (a-y)\n",
    "    return D.squeeze()"
   ]
  },
  {
   "cell_type": "markdown",
   "metadata": {},
   "source": [
    "## Gradient Descent"
   ]
  },
  {
   "cell_type": "code",
   "execution_count": 17,
   "metadata": {},
   "outputs": [],
   "source": [
    "def logistic_gradient_descent(X,y,method='tnc'):\n",
    "    \"\"\"Minimize logistic loss from unbiased examples using gradient descent method.\n",
    "        \n",
    "    It uses the `minimize` function from `scipy.optimize` as an optimizer,\n",
    "    with 'tnc' as default method.\n",
    "    \n",
    "    Parameters\n",
    "    ----------\n",
    "    X : array_like\n",
    "        Input examples.\n",
    "        The input array must not include the bias column.\n",
    "        If `X` is a 1-D array of shape ``(m,)``, it will be reshaped to ``(m,1)``.\n",
    "    y : array_like\n",
    "        Output examples.\n",
    "        If `y` is a 1-D array of shape ``(m,)``, it will be reshaped to ``(m,1)``.\n",
    "    method : str or callable, optional\n",
    "        Type of solver.  Should be one of `scipy.optimize.minimize` solvers.\n",
    "        Default to 'tnc'.\n",
    "        \n",
    "    Returns\n",
    "    -------\n",
    "    theta : numpy.ndarray\n",
    "        The model's parameters (weights).\n",
    "    \n",
    "    Examples\n",
    "    --------\n",
    "    >>> x = [[67.37202755, 42.83843832],\n",
    "    ...      [89.67677575, 65.79936593],\n",
    "    ...      [50.53478829, 48.85581153],\n",
    "    ...      [34.21206098, 44.2095286 ],\n",
    "    ...      [77.92409145, 68.97235999]]\n",
    "    >>> y = [[0],[1],[0],[0],[1]]\n",
    "    >>> logistic_gradient_descent(x,y)\n",
    "    array([-78.56057718,   0.32265913,   0.98440437])\n",
    "    \n",
    "    >>> x = [[67.37202755, 42.83843832],\n",
    "    ...      [89.67677575, 65.79936593],\n",
    "    ...      [50.53478829, 48.85581153],\n",
    "    ...      [34.21206098, 44.2095286 ],\n",
    "    ...      [77.92409145, 68.97235999]]\n",
    "    >>> y = [0,1,0,0,1]\n",
    "    >>> logistic_gradient_descent(x,y)\n",
    "    array([-78.56057718,   0.32265913,   0.98440437])\n",
    "    \"\"\"\n",
    "    m, n = np.shape(X)\n",
    "    initial_theta = initialize_theta((n+1,1))\n",
    "    result = op.minimize(fun=logistic_loss, x0=initial_theta, args=(X,y), method=method, jac=logistic_gradient)\n",
    "    theta = result.x\n",
    "    return theta"
   ]
  },
  {
   "cell_type": "code",
   "execution_count": 11,
   "metadata": {},
   "outputs": [
    {
     "data": {
      "image/png": "[encoded data removed]",
      "text/plain": [
       "<matplotlib.figure.Figure at 0x10691dac8>"
      ]
     },
     "metadata": {},
     "output_type": "display_data"
    }
   ],
   "source": [
    "def plot_gradient_descent(X,y):\n",
    "    theta = logistic_gradient_descent(X,y)\n",
    "    x_fit = np.arange(X[:,0].min(), X[:,0].max())\n",
    "    y_fit = -(theta[0] + theta[1]*x_fit)/theta[2] # ax+by+c=0 --> y=-(c + ax)/b\n",
    "    \n",
    "    plt.plot(*X_pos.T, 'k+', label='Admitted')\n",
    "    plt.plot(*X_neg.T, 'ko', label='Not Admitted')\n",
    "    plt.plot(x_fit, y_fit, 'r-', label='Decision Boundary') \n",
    "    plt.xlabel('Exam 1 score')\n",
    "    plt.ylabel('Exam 2 score')\n",
    "    plt.legend(loc=1);\n",
    "\n",
    "plot_gradient_descent(X,y)"
   ]
  },
  {
   "cell_type": "markdown",
   "metadata": {},
   "source": [
    "## Predict with Logistic Regression"
   ]
  },
  {
   "cell_type": "code",
   "execution_count": 12,
   "metadata": {},
   "outputs": [
    {
     "name": "stdout",
     "output_type": "stream",
     "text": [
      "For a student with Exam1 score of 45 and Exam2 score of 85, the probability of admission is 77.63%\n"
     ]
    }
   ],
   "source": [
    "def make_prediction(X,y,xs):\n",
    "    theta = logistic_gradient_descent(X,y)\n",
    "    xs_biased = insert_bias_feature(xs)\n",
    "    z = xs_biased @ theta.reshape((-1,1))\n",
    "    ys = sigmoid(z)\n",
    "    print(f'For a student with Exam1 score of {xs[0,0]} and Exam2 score of {xs[0,1]}, '\n",
    "          f'the probability of admission is {ys[0,0] * 100:.2f}%')\n",
    "    \n",
    "make_prediction(X,y,xs=np.array([[45,85]]))"
   ]
  },
  {
   "cell_type": "markdown",
   "metadata": {},
   "source": [
    "## Prediction Accuracy"
   ]
  },
  {
   "cell_type": "code",
   "execution_count": 13,
   "metadata": {},
   "outputs": [
    {
     "name": "stdout",
     "output_type": "stream",
     "text": [
      "The classifier has an accuracy of 89.00%\n"
     ]
    }
   ],
   "source": [
    "def compute_model_accuracy(X,y):\n",
    "    theta = logistic_gradient_descent(X,y)\n",
    "    X_biased = insert_bias_feature(X)\n",
    "    z = X_biased @ theta\n",
    "    accuracy = np.mean((z >= 0) == y.flatten())\n",
    "    print(f'The classifier has an accuracy of {accuracy * 100:.2f}%')\n",
    "\n",
    "compute_model_accuracy(X,y)"
   ]
  },
  {
   "cell_type": "markdown",
   "metadata": {},
   "source": [
    "## Unit Tests"
   ]
  },
  {
   "cell_type": "code",
   "execution_count": 14,
   "metadata": {},
   "outputs": [
    {
     "data": {
      "text/plain": [
       "TestResults(failed=0, attempted=35)"
      ]
     },
     "execution_count": 14,
     "metadata": {},
     "output_type": "execute_result"
    }
   ],
   "source": [
    "doctest.testmod()"
   ]
  },
  {
   "cell_type": "code",
   "execution_count": 15,
   "metadata": {},
   "outputs": [],
   "source": [
    "# set the file name (required)\n",
    "__file__ = 'ex2.ipynb'\n",
    "\n",
    "# add ipython magics\n",
    "import ipytest.magics\n",
    "import pytest"
   ]
  },
  {
   "cell_type": "code",
   "execution_count": 18,
   "metadata": {},
   "outputs": [
    {
     "name": "stdout",
     "output_type": "stream",
     "text": [
      "......                                                                                                                                                                                               [100%]\n",
      "6 passed in 0.09 seconds\n"
     ]
    }
   ],
   "source": [
    "%%run_pytest[clean] -qq -v\n",
    "\n",
    "def test_insert_bias_feature():\n",
    "    ipytest.assert_equals(insert_bias_feature([[2,3], [4,5], [6,7]]),\n",
    "                          np.array([[1, 2, 3], [1, 4, 5], [1, 6, 7]]))\n",
    "    ipytest.assert_equals(insert_bias_feature(np.array([[2],[3],[4]])),\n",
    "                          np.array([[1, 2], [1, 3], [1, 4]]))\n",
    "    ipytest.assert_equals(insert_bias_feature([2,3,4]),\n",
    "                          np.array([[1, 2], [1, 3], [1, 4]]))\n",
    "\n",
    "def test_initialize_theta():\n",
    "    ipytest.assert_equals(initialize_theta(5), np.array([0., 0., 0., 0., 0.]))\n",
    "    ipytest.assert_equals(initialize_theta((5,)), np.array([0., 0., 0., 0., 0.]))\n",
    "    ipytest.assert_equals(initialize_theta((2, 1)), np.array([[0.], [0.]]))\n",
    "    ipytest.assert_equals(initialize_theta((2,2)), np.array([[0., 0.], [0., 0.]]))\n",
    "    \n",
    "def test_sigmoid():\n",
    "    ipytest.assert_equals(sigmoid(0), 0.5)\n",
    "    ipytest.assert_equals(sigmoid([-1,1]), np.array([0.26894142, 0.73105858]))\n",
    "    ipytest.assert_equals(sigmoid(np.array([-1,1e2])), np.array([0.26894142, 1.]))\n",
    "    \n",
    "def test_logistic_loss():\n",
    "    ipytest.assert_equals(logistic_loss(\n",
    "        theta=[[0],[0],[0]],\n",
    "        X=[[67.37202755, 42.83843832],\n",
    "           [89.67677575, 65.79936593],\n",
    "           [50.53478829, 48.85581153],\n",
    "           [34.21206098, 44.2095286 ],\n",
    "           [77.92409145, 68.97235999]],\n",
    "        y=[[0],[1],[0],[0],[1]]), 0.6931471805599453)\n",
    "    ipytest.assert_equals(logistic_loss(\n",
    "        theta=[0,0,0],\n",
    "        X=[[67.37202755, 42.83843832],\n",
    "           [89.67677575, 65.79936593],\n",
    "           [50.53478829, 48.85581153],\n",
    "           [34.21206098, 44.2095286 ],\n",
    "           [77.92409145, 68.97235999]],\n",
    "        y=[0,1,0,0,1]), 0.6931471805599453)\n",
    "\n",
    "def test_logistic_gradient():\n",
    "    ipytest.assert_equals(logistic_gradient(\n",
    "        theta=[[0],[0],[0]],\n",
    "        X=[[67.37202755, 42.83843832],\n",
    "           [89.67677575, 65.79936593],\n",
    "           [50.53478829, 48.85581153],\n",
    "           [34.21206098, 44.2095286 ],\n",
    "           [77.92409145, 68.97235999]],\n",
    "        y=[[0],[1],[0],[0],[1]]),\n",
    "        np.array([0.1, -1.54819904, 0.11320525]))\n",
    "    ipytest.assert_equals(logistic_gradient(\n",
    "        theta=[0,0,0],\n",
    "        X=[[67.37202755, 42.83843832],\n",
    "           [89.67677575, 65.79936593],\n",
    "           [50.53478829, 48.85581153],\n",
    "           [34.21206098, 44.2095286 ],\n",
    "           [77.92409145, 68.97235999]],\n",
    "        y=[0,1,0,0,1]),\n",
    "        np.array([0.1, -1.54819904, 0.11320525]))\n",
    "    \n",
    "def test_logistic_gradient_descent():\n",
    "    ipytest.assert_equals(logistic_gradient_descent(\n",
    "        X=[[67.37202755, 42.83843832],\n",
    "           [89.67677575, 65.79936593],\n",
    "           [50.53478829, 48.85581153],\n",
    "           [34.21206098, 44.2095286 ],\n",
    "           [77.92409145, 68.97235999]],\n",
    "        y=[[0],[1],[0],[0],[1]]),\n",
    "        np.array([-78.56057718,   0.32265913,   0.98440437]))\n",
    "    ipytest.assert_equals(logistic_gradient_descent(\n",
    "        X=[[67.37202755, 42.83843832],\n",
    "           [89.67677575, 65.79936593],\n",
    "           [50.53478829, 48.85581153],\n",
    "           [34.21206098, 44.2095286 ],\n",
    "           [77.92409145, 68.97235999]],\n",
    "        y=[0,1,0,0,1]),\n",
    "        np.array([-78.56057718,   0.32265913,   0.98440437]))"
   ]
  }
 ],
 "metadata": {
  "kernelspec": {
   "display_name": "Python 3",
   "language": "python",
   "name": "python3"
  },
  "language_info": {
   "codemirror_mode": {
    "name": "ipython",
    "version": 3
   },
   "file_extension": ".py",
   "mimetype": "text/x-python",
   "name": "python",
   "nbconvert_exporter": "python",
   "pygments_lexer": "ipython3",
   "version": "3.6.4"
  }
 },
 "nbformat": 4,
 "nbformat_minor": 2
}
