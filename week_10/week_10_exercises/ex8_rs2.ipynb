{
 "cells": [
  {
   "cell_type": "code",
   "execution_count": 2,
   "metadata": {},
   "outputs": [],
   "source": [
    "%matplotlib inline\n",
    "import matplotlib.pyplot as plt\n",
    "import autograd.numpy as np\n",
    "from autograd import grad\n",
    "from scipy.io import loadmat\n",
    "from scipy.optimize import minimize, fmin_cg\n",
    "from IPython import display\n",
    "from collections import namedtuple\n",
    "from surprise.prediction_algorithms.matrix_factorization import SVD"
   ]
  },
  {
   "cell_type": "markdown",
   "metadata": {},
   "source": [
    "## Load Data"
   ]
  },
  {
   "cell_type": "markdown",
   "metadata": {},
   "source": [
    "$Y$ is the **ratings** matrix, $Y(i,j) \\in \\{0,1,2,3,4,5\\}$\n",
    "\n",
    "$R$ is the **rated status** matrix, $R(i,j) \\in \\{0,1\\}$\n",
    "\n",
    "$Y, R \\in \\mathbb{R}^{n_m \\times n_u}$"
   ]
  },
  {
   "cell_type": "code",
   "execution_count": 3,
   "metadata": {},
   "outputs": [],
   "source": [
    "data = loadmat('ex8_movies.mat')\n",
    "Y, R = data['Y'].astype(np.float64), data['R'].astype(np.float64)"
   ]
  },
  {
   "cell_type": "code",
   "execution_count": 4,
   "metadata": {},
   "outputs": [
    {
     "data": {
      "text/plain": [
       "((1682, 943), (1682, 943))"
      ]
     },
     "execution_count": 4,
     "metadata": {},
     "output_type": "execute_result"
    }
   ],
   "source": [
    "Y.shape, R.shape"
   ]
  },
  {
   "cell_type": "markdown",
   "metadata": {},
   "source": [
    "$X$ is the **movie features** matrix, $X \\in \\mathbb{R}^{n_m \\times 10}$\n",
    "\n",
    "$Theta$ is the **user parameters** matrix, $Theta \\in \\mathbb{R}^{n_u \\times 10}$"
   ]
  },
  {
   "cell_type": "code",
   "execution_count": 5,
   "metadata": {},
   "outputs": [],
   "source": [
    "n_features = 100\n",
    "X = np.zeros((Y.shape[0], n_features))\n",
    "Theta = np.zeros((Y.shape[1], n_features))"
   ]
  },
  {
   "cell_type": "code",
   "execution_count": 6,
   "metadata": {},
   "outputs": [
    {
     "data": {
      "text/plain": [
       "((1682, 100), (943, 100))"
      ]
     },
     "execution_count": 6,
     "metadata": {},
     "output_type": "execute_result"
    }
   ],
   "source": [
    "X.shape, Theta.shape"
   ]
  },
  {
   "cell_type": "markdown",
   "metadata": {},
   "source": [
    "## Cost Function\n",
    "\n",
    "$\\displaystyle J(x^{(1)},\\dots,x^{(n_m)},\\theta^{(1)},\\dots,\\theta^{(n_u)}) = \\frac{1}{2} \\sum_{(i,j):r(i,j)=1} ((\\theta^{(j)})^{\\top} x^{(i)} - y^{(i,j)})^2 + \\left(\\frac{\\lambda}{2}\\sum_{j=1}^{n_u}\\sum_{k=1}^{n}(\\theta_{k}^{(j)})^2\\right) + \\left(\\frac{\\lambda}{2}\\sum_{i=1}^{n_m}\\sum_{k=1}^{n}(x_{k}^{(i)})^2\\right)$"
   ]
  },
  {
   "cell_type": "code",
   "execution_count": 7,
   "metadata": {},
   "outputs": [],
   "source": [
    "params = loadmat('ex8_movieParams.mat')\n",
    "X, Theta = params['X'], params['Theta']"
   ]
  },
  {
   "cell_type": "code",
   "execution_count": 8,
   "metadata": {},
   "outputs": [],
   "source": [
    "def cost(X, Theta, Y, R, lamb=0):\n",
    "    X_reg = (lamb/2) * np.sum(X**2)\n",
    "    Theta_reg = (lamb/2) * np.sum(Theta**2)\n",
    "    return (np.sum(np.square(R * (X @ Theta.T - Y))) / 2) + X_reg + Theta_reg"
   ]
  },
  {
   "cell_type": "code",
   "execution_count": 9,
   "metadata": {},
   "outputs": [
    {
     "name": "stdout",
     "output_type": "stream",
     "text": [
      "The cost is 22.22\n"
     ]
    }
   ],
   "source": [
    "c = cost(X[:5,:3], Theta[:4,:3], Y[:5,:4], R[:5,:4])\n",
    "print(f'The cost is {c:.2f}')"
   ]
  },
  {
   "cell_type": "code",
   "execution_count": 10,
   "metadata": {},
   "outputs": [
    {
     "name": "stdout",
     "output_type": "stream",
     "text": [
      "The regularized cost is 31.34\n"
     ]
    }
   ],
   "source": [
    "c = cost(X[:5,:3], Theta[:4,:3], Y[:5,:4], R[:5,:4], lamb=1.5)\n",
    "print(f'The regularized cost is {c:.2f}')"
   ]
  },
  {
   "cell_type": "code",
   "execution_count": 11,
   "metadata": {},
   "outputs": [
    {
     "data": {
      "text/plain": [
       "27918.64012454421"
      ]
     },
     "execution_count": 11,
     "metadata": {},
     "output_type": "execute_result"
    }
   ],
   "source": [
    "cost(X, Theta, Y, R)"
   ]
  },
  {
   "cell_type": "markdown",
   "metadata": {},
   "source": [
    "## Gradient Function\n",
    "\n",
    "$\\displaystyle \\frac{\\partial\\,J}{\\partial\\,x_{k}^{(i)}} = \\sum_{j:r(i,\\,j)=1} ((\\theta^{(j)})^{\\top}x^{(i)}-y^{(i,\\,j)})\\theta_{k}^{(j)} + \\lambda x_{k}^{(i)}$\n",
    "\n",
    "$\\displaystyle \\frac{\\partial\\,J}{\\partial\\,\\theta_{k}^{(j)}} = \\sum_{i:r(i,\\,j)=1} ((\\theta^{(j)})^{\\top}x^{(i)}-y^{(i,\\,j)})x_{k}^{(i)} + \\lambda \\theta_{k}^{(j)}$"
   ]
  },
  {
   "cell_type": "code",
   "execution_count": 12,
   "metadata": {},
   "outputs": [],
   "source": [
    "def gradient(X, Theta, Y, R, lamb=0):\n",
    "    diffs = R * (X @ Theta.T - Y)\n",
    "    X_reg = lamb * X\n",
    "    Theta_reg = lamb * Theta\n",
    "    X_grad = diffs @ Theta + X_reg\n",
    "    Theta_grad = diffs.T @ X + Theta_reg\n",
    "    return X_grad, Theta_grad"
   ]
  },
  {
   "cell_type": "code",
   "execution_count": 13,
   "metadata": {},
   "outputs": [
    {
     "data": {
      "text/plain": [
       "True"
      ]
     },
     "execution_count": 13,
     "metadata": {},
     "output_type": "execute_result"
    }
   ],
   "source": [
    "np.all(np.isclose(gradient(X, Theta, Y, R)[0], grad(cost, 0)(X, Theta, Y, R)))"
   ]
  },
  {
   "cell_type": "markdown",
   "metadata": {},
   "source": [
    "### Plot Cost Function"
   ]
  },
  {
   "cell_type": "code",
   "execution_count": 14,
   "metadata": {},
   "outputs": [],
   "source": [
    "def plot_costs(n_epoch, costs):\n",
    "    display.clear_output(wait=True)\n",
    "    print(f'epoch {n_epoch} done: {costs[-1]}.')\n",
    "    plt.clf()\n",
    "    plt.plot(costs);\n",
    "    plt.xlabel('epochs')\n",
    "    plt.ylabel('costs')\n",
    "    display.display(plt.gcf())"
   ]
  },
  {
   "cell_type": "markdown",
   "metadata": {},
   "source": [
    "### Normalized Ratings by Gradient Descent"
   ]
  },
  {
   "cell_type": "code",
   "execution_count": 15,
   "metadata": {},
   "outputs": [
    {
     "name": "stdout",
     "output_type": "stream",
     "text": [
      "epoch 11 done: 3612.7380779346636.\n"
     ]
    },
    {
     "data": {
      "image/png": "[encoded data removed]",
      "text/plain": [
       "<Figure size 432x288 with 1 Axes>"
      ]
     },
     "metadata": {},
     "output_type": "display_data"
    },
    {
     "ename": "KeyboardInterrupt",
     "evalue": "",
     "output_type": "error",
     "traceback": [
      "\u001b[0;31m---------------------------------------------------------------------------\u001b[0m",
      "\u001b[0;31mKeyboardInterrupt\u001b[0m                         Traceback (most recent call last)",
      "\u001b[0;32m<ipython-input-15-f1424f6da91a>\u001b[0m in \u001b[0;36m<module>\u001b[0;34m()\u001b[0m\n\u001b[1;32m     21\u001b[0m \u001b[0mY_mean\u001b[0m \u001b[0;34m=\u001b[0m \u001b[0mnp\u001b[0m\u001b[0;34m.\u001b[0m\u001b[0maverage\u001b[0m\u001b[0;34m(\u001b[0m\u001b[0mY\u001b[0m\u001b[0;34m,\u001b[0m \u001b[0maxis\u001b[0m\u001b[0;34m=\u001b[0m\u001b[0;36m1\u001b[0m\u001b[0;34m,\u001b[0m \u001b[0mweights\u001b[0m\u001b[0;34m=\u001b[0m\u001b[0mR\u001b[0m\u001b[0;34m)\u001b[0m\u001b[0;34m.\u001b[0m\u001b[0mreshape\u001b[0m\u001b[0;34m(\u001b[0m\u001b[0;34m(\u001b[0m\u001b[0;34m-\u001b[0m\u001b[0;36m1\u001b[0m\u001b[0;34m,\u001b[0m\u001b[0;36m1\u001b[0m\u001b[0;34m)\u001b[0m\u001b[0;34m)\u001b[0m\u001b[0;34m\u001b[0m\u001b[0m\n\u001b[1;32m     22\u001b[0m \u001b[0mY_norm\u001b[0m \u001b[0;34m=\u001b[0m \u001b[0mR\u001b[0m \u001b[0;34m*\u001b[0m \u001b[0;34m(\u001b[0m\u001b[0mY\u001b[0m \u001b[0;34m-\u001b[0m \u001b[0mY_mean\u001b[0m\u001b[0;34m)\u001b[0m\u001b[0;34m\u001b[0m\u001b[0m\n\u001b[0;32m---> 23\u001b[0;31m \u001b[0mresults\u001b[0m \u001b[0;34m=\u001b[0m \u001b[0mgd\u001b[0m\u001b[0;34m(\u001b[0m\u001b[0mY_norm\u001b[0m\u001b[0;34m,\u001b[0m \u001b[0mR\u001b[0m\u001b[0;34m,\u001b[0m \u001b[0mY\u001b[0m\u001b[0;34m.\u001b[0m\u001b[0mshape\u001b[0m\u001b[0;34m[\u001b[0m\u001b[0;36m0\u001b[0m\u001b[0;34m]\u001b[0m\u001b[0;34m,\u001b[0m \u001b[0mY\u001b[0m\u001b[0;34m.\u001b[0m\u001b[0mshape\u001b[0m\u001b[0;34m[\u001b[0m\u001b[0;36m1\u001b[0m\u001b[0;34m]\u001b[0m\u001b[0;34m,\u001b[0m \u001b[0mn_params\u001b[0m\u001b[0;34m=\u001b[0m\u001b[0;36m100\u001b[0m\u001b[0;34m,\u001b[0m \u001b[0mlamb\u001b[0m\u001b[0;34m=\u001b[0m\u001b[0;36m0\u001b[0m\u001b[0;34m,\u001b[0m \u001b[0mepochs\u001b[0m\u001b[0;34m=\u001b[0m\u001b[0;36m100\u001b[0m\u001b[0;34m,\u001b[0m \u001b[0mlearning_rate\u001b[0m\u001b[0;34m=\u001b[0m\u001b[0;36m0.013\u001b[0m\u001b[0;34m,\u001b[0m \u001b[0mcallback\u001b[0m\u001b[0;34m=\u001b[0m\u001b[0mplot_costs\u001b[0m\u001b[0;34m)\u001b[0m\u001b[0;34m\u001b[0m\u001b[0m\n\u001b[0m",
      "\u001b[0;32m<ipython-input-15-f1424f6da91a>\u001b[0m in \u001b[0;36mgd\u001b[0;34m(Y, R, n_movies, n_users, n_params, lamb, epochs, learning_rate, callback)\u001b[0m\n\u001b[1;32m      7\u001b[0m     \u001b[0mcosts\u001b[0m \u001b[0;34m=\u001b[0m \u001b[0;34m[\u001b[0m\u001b[0;34m]\u001b[0m\u001b[0;34m\u001b[0m\u001b[0m\n\u001b[1;32m      8\u001b[0m     \u001b[0;32mfor\u001b[0m \u001b[0mi\u001b[0m \u001b[0;32min\u001b[0m \u001b[0mrange\u001b[0m\u001b[0;34m(\u001b[0m\u001b[0mepochs\u001b[0m\u001b[0;34m)\u001b[0m\u001b[0;34m:\u001b[0m\u001b[0;34m\u001b[0m\u001b[0m\n\u001b[0;32m----> 9\u001b[0;31m         \u001b[0mepoch_cost\u001b[0m \u001b[0;34m=\u001b[0m \u001b[0mcost\u001b[0m\u001b[0;34m(\u001b[0m\u001b[0mX\u001b[0m\u001b[0;34m,\u001b[0m \u001b[0mTheta\u001b[0m\u001b[0;34m,\u001b[0m \u001b[0mY\u001b[0m\u001b[0;34m,\u001b[0m \u001b[0mR\u001b[0m\u001b[0;34m,\u001b[0m \u001b[0mlamb\u001b[0m\u001b[0;34m)\u001b[0m\u001b[0;34m\u001b[0m\u001b[0m\n\u001b[0m\u001b[1;32m     10\u001b[0m         \u001b[0mX_grad\u001b[0m\u001b[0;34m,\u001b[0m \u001b[0mTheta_grad\u001b[0m \u001b[0;34m=\u001b[0m \u001b[0mgradient\u001b[0m\u001b[0;34m(\u001b[0m\u001b[0mX\u001b[0m\u001b[0;34m,\u001b[0m \u001b[0mTheta\u001b[0m\u001b[0;34m,\u001b[0m \u001b[0mY\u001b[0m\u001b[0;34m,\u001b[0m \u001b[0mR\u001b[0m\u001b[0;34m,\u001b[0m \u001b[0mlamb\u001b[0m\u001b[0;34m)\u001b[0m\u001b[0;34m\u001b[0m\u001b[0m\n\u001b[1;32m     11\u001b[0m         \u001b[0mX\u001b[0m \u001b[0;34m-=\u001b[0m \u001b[0mlearning_rate\u001b[0m \u001b[0;34m*\u001b[0m \u001b[0mX_grad\u001b[0m\u001b[0;34m\u001b[0m\u001b[0m\n",
      "\u001b[0;32m<ipython-input-8-ca6eb8f14b3e>\u001b[0m in \u001b[0;36mcost\u001b[0;34m(X, Theta, Y, R, lamb)\u001b[0m\n\u001b[1;32m      2\u001b[0m     \u001b[0mX_reg\u001b[0m \u001b[0;34m=\u001b[0m \u001b[0;34m(\u001b[0m\u001b[0mlamb\u001b[0m\u001b[0;34m/\u001b[0m\u001b[0;36m2\u001b[0m\u001b[0;34m)\u001b[0m \u001b[0;34m*\u001b[0m \u001b[0mnp\u001b[0m\u001b[0;34m.\u001b[0m\u001b[0msum\u001b[0m\u001b[0;34m(\u001b[0m\u001b[0mX\u001b[0m\u001b[0;34m**\u001b[0m\u001b[0;36m2\u001b[0m\u001b[0;34m)\u001b[0m\u001b[0;34m\u001b[0m\u001b[0m\n\u001b[1;32m      3\u001b[0m     \u001b[0mTheta_reg\u001b[0m \u001b[0;34m=\u001b[0m \u001b[0;34m(\u001b[0m\u001b[0mlamb\u001b[0m\u001b[0;34m/\u001b[0m\u001b[0;36m2\u001b[0m\u001b[0;34m)\u001b[0m \u001b[0;34m*\u001b[0m \u001b[0mnp\u001b[0m\u001b[0;34m.\u001b[0m\u001b[0msum\u001b[0m\u001b[0;34m(\u001b[0m\u001b[0mTheta\u001b[0m\u001b[0;34m**\u001b[0m\u001b[0;36m2\u001b[0m\u001b[0;34m)\u001b[0m\u001b[0;34m\u001b[0m\u001b[0m\n\u001b[0;32m----> 4\u001b[0;31m     \u001b[0;32mreturn\u001b[0m \u001b[0;34m(\u001b[0m\u001b[0mnp\u001b[0m\u001b[0;34m.\u001b[0m\u001b[0msum\u001b[0m\u001b[0;34m(\u001b[0m\u001b[0mnp\u001b[0m\u001b[0;34m.\u001b[0m\u001b[0msquare\u001b[0m\u001b[0;34m(\u001b[0m\u001b[0mR\u001b[0m \u001b[0;34m*\u001b[0m \u001b[0;34m(\u001b[0m\u001b[0mX\u001b[0m \u001b[0;34m@\u001b[0m \u001b[0mTheta\u001b[0m\u001b[0;34m.\u001b[0m\u001b[0mT\u001b[0m \u001b[0;34m-\u001b[0m \u001b[0mY\u001b[0m\u001b[0;34m)\u001b[0m\u001b[0;34m)\u001b[0m\u001b[0;34m)\u001b[0m \u001b[0;34m/\u001b[0m \u001b[0;36m2\u001b[0m\u001b[0;34m)\u001b[0m \u001b[0;34m+\u001b[0m \u001b[0mX_reg\u001b[0m \u001b[0;34m+\u001b[0m \u001b[0mTheta_reg\u001b[0m\u001b[0;34m\u001b[0m\u001b[0m\n\u001b[0m",
      "\u001b[0;31mKeyboardInterrupt\u001b[0m: "
     ]
    },
    {
     "data": {
      "image/png": "[encoded data removed]",
      "text/plain": [
       "<Figure size 432x288 with 1 Axes>"
      ]
     },
     "metadata": {
      "needs_background": "light"
     },
     "output_type": "display_data"
    }
   ],
   "source": [
    "def gd(Y, R, n_movies, n_users, n_params, lamb=0, epochs=10, learning_rate=0.01, callback=None):\n",
    "    u, s, vh = np.linalg.svd(Y, full_matrices=False)\n",
    "    d = np.diag(np.sqrt(s))\n",
    "    X = u@d[:,:n_params]\n",
    "    Theta = np.transpose(d[:n_params] @ vh)\n",
    "    \n",
    "    costs = []\n",
    "    for i in range(epochs):\n",
    "        epoch_cost = cost(X, Theta, Y, R, lamb)\n",
    "        X_grad, Theta_grad = gradient(X, Theta, Y, R, lamb)\n",
    "        X -= learning_rate * X_grad\n",
    "        Theta -= learning_rate * Theta_grad\n",
    "        \n",
    "        costs.append(epoch_cost)\n",
    "        if callback:\n",
    "            callback(i, costs);\n",
    "    \n",
    "    GDResult = namedtuple('SGDResult', ['X', 'Theta', 'costs'])\n",
    "    return GDResult(X=X, Theta=Theta, costs=costs)\n",
    "\n",
    "Y_mean = np.average(Y, axis=1, weights=R).reshape((-1,1))\n",
    "Y_norm = R * (Y - Y_mean)\n",
    "results = gd(Y_norm, R, Y.shape[0], Y.shape[1], n_params=100, lamb=0, epochs=100, learning_rate=0.013, callback=plot_costs)"
   ]
  },
  {
   "cell_type": "code",
   "execution_count": 405,
   "metadata": {},
   "outputs": [
    {
     "data": {
      "text/plain": [
       "array([[4.88345805, 3.98274162, 4.62488778, ..., 4.99546536, 4.57668805,\n",
       "        2.46354949],\n",
       "       [2.98882529, 3.08399794, 3.24014579, ..., 2.99368355, 2.91896497,\n",
       "        5.00406076],\n",
       "       [4.03914831, 2.59507883, 3.14513016, ..., 3.40855888, 4.03502322,\n",
       "        2.39659587],\n",
       "       ...,\n",
       "       [2.        , 2.        , 2.        , ..., 2.        , 2.        ,\n",
       "        2.        ],\n",
       "       [3.        , 3.        , 3.        , ..., 3.        , 3.        ,\n",
       "        3.        ],\n",
       "       [3.        , 3.        , 3.        , ..., 3.        , 3.        ,\n",
       "        3.        ]])"
      ]
     },
     "execution_count": 405,
     "metadata": {},
     "output_type": "execute_result"
    }
   ],
   "source": [
    "(results.X @ results.Theta.T) + Y_mean"
   ]
  },
  {
   "cell_type": "markdown",
   "metadata": {},
   "source": [
    "### Normalized Ratings by Adagrad Gradient Descent"
   ]
  },
  {
   "cell_type": "code",
   "execution_count": 406,
   "metadata": {},
   "outputs": [
    {
     "name": "stdout",
     "output_type": "stream",
     "text": [
      "epoch 99 done: 44.428201975852744.\n"
     ]
    },
    {
     "data": {
      "image/png": "[encoded data removed]",
      "text/plain": [
       "<Figure size 432x288 with 1 Axes>"
      ]
     },
     "metadata": {},
     "output_type": "display_data"
    },
    {
     "data": {
      "image/png": "[encoded data removed]",
      "text/plain": [
       "<Figure size 432x288 with 1 Axes>"
      ]
     },
     "metadata": {
      "needs_background": "light"
     },
     "output_type": "display_data"
    }
   ],
   "source": [
    "def agd(Y, R, n_movies, n_users, n_params, lamb=0, epochs=10, learning_rate=0.01, eps=1e-6, callback=None):\n",
    "    u, s, vh = np.linalg.svd(Y, full_matrices=False)\n",
    "    d = np.diag(np.sqrt(s))\n",
    "    X = u@d[:,:n_params]\n",
    "    Theta = np.transpose(d[:n_params] @ vh)\n",
    "    \n",
    "    costs = []\n",
    "    X_cache = np.zeros_like(X)\n",
    "    Theta_cache = np.zeros_like(Theta)\n",
    "    for i in range(epochs):\n",
    "        epoch_cost = cost(X, Theta, Y, R, lamb)\n",
    "        X_grad, Theta_grad = gradient(X, Theta, Y, R, lamb)\n",
    "        \n",
    "        X_cache += X_grad**2\n",
    "        X += - learning_rate * X_grad / (np.sqrt(X_cache) + eps)\n",
    "        Theta_cache += Theta_grad**2\n",
    "        Theta += - learning_rate * Theta_grad / (np.sqrt(Theta_cache) + eps)\n",
    "        \n",
    "        costs.append(epoch_cost)\n",
    "        if callback:\n",
    "            callback(i, costs);\n",
    "    \n",
    "    AGDResult = namedtuple('SGDResult', ['X', 'Theta', 'costs'])\n",
    "    return AGDResult(X=X, Theta=Theta, costs=costs)\n",
    "\n",
    "Y_mean = np.average(Y, axis=1, weights=R).reshape((-1,1))\n",
    "Y_norm = R * (Y - Y_mean)\n",
    "results = agd(Y_norm, R, Y.shape[0], Y.shape[1], n_params=100, lamb=0, epochs=100, learning_rate=0.11, callback=plot_costs)"
   ]
  },
  {
   "cell_type": "code",
   "execution_count": 319,
   "metadata": {},
   "outputs": [
    {
     "data": {
      "text/plain": [
       "array([[4.94804305, 4.02586138, 4.38838451, ..., 5.0050058 , 4.70195795,\n",
       "        2.0888387 ],\n",
       "       [3.03680888, 3.18229848, 2.71116389, ..., 2.97796369, 2.2143601 ,\n",
       "        4.99662086],\n",
       "       [3.97000088, 2.41718473, 2.94615573, ..., 3.61346779, 3.50020034,\n",
       "        1.80857816],\n",
       "       ...,\n",
       "       [2.        , 2.        , 2.        , ..., 2.        , 2.        ,\n",
       "        2.        ],\n",
       "       [3.        , 3.        , 3.        , ..., 3.        , 3.        ,\n",
       "        3.        ],\n",
       "       [3.        , 3.        , 3.        , ..., 3.        , 3.        ,\n",
       "        3.        ]])"
      ]
     },
     "execution_count": 319,
     "metadata": {},
     "output_type": "execute_result"
    }
   ],
   "source": [
    "(results.X @ results.Theta.T) + Y_mean"
   ]
  },
  {
   "cell_type": "markdown",
   "metadata": {},
   "source": [
    "### Normalized Ratings by ADAM Gradient Descent"
   ]
  },
  {
   "cell_type": "code",
   "execution_count": 417,
   "metadata": {},
   "outputs": [
    {
     "name": "stdout",
     "output_type": "stream",
     "text": [
      "epoch 99 done: 1.6183570718323332.\n"
     ]
    },
    {
     "data": {
      "image/png": "[encoded data removed]",
      "text/plain": [
       "<Figure size 432x288 with 1 Axes>"
      ]
     },
     "metadata": {},
     "output_type": "display_data"
    },
    {
     "data": {
      "image/png": "[encoded data removed]",
      "text/plain": [
       "<Figure size 432x288 with 1 Axes>"
      ]
     },
     "metadata": {
      "needs_background": "light"
     },
     "output_type": "display_data"
    }
   ],
   "source": [
    "def adamgd(Y, R, n_movies, n_users, n_params, lamb=0, epochs=10, learning_rate=0.01, eps=1e-8, beta1=0.9, beta2=0.999, callback=None):\n",
    "    u, s, vh = np.linalg.svd(Y, full_matrices=False)\n",
    "    d = np.diag(np.sqrt(s))\n",
    "    X = u@d[:,:n_params]\n",
    "    Theta = np.transpose(d[:n_params] @ vh)\n",
    "    \n",
    "    costs = []\n",
    "    X_m = np.zeros_like(X)\n",
    "    Theta_m = np.zeros_like(Theta)\n",
    "    X_v = np.zeros_like(X)\n",
    "    Theta_v = np.zeros_like(Theta)\n",
    "    for i in range(epochs):\n",
    "        epoch_cost = cost(X, Theta, Y, R, lamb)\n",
    "        X_grad, Theta_grad = gradient(X, Theta, Y, R, lamb)\n",
    "        \n",
    "        X_m = beta1*X_m + (1-beta1)*X_grad\n",
    "        X_v = beta2*X_v + (1-beta2)*(X_grad**2)\n",
    "        X += - learning_rate * X_m / (np.sqrt(X_v) + eps)\n",
    "        Theta_m = beta1*Theta_m + (1-beta1)*Theta_grad\n",
    "        Theta_v = beta2*Theta_v + (1-beta2)*(Theta_grad**2)\n",
    "        Theta += - learning_rate * Theta_m / (np.sqrt(Theta_v) + eps)\n",
    "        \n",
    "        costs.append(epoch_cost)\n",
    "        if callback:\n",
    "            callback(i, costs);\n",
    "    \n",
    "    ADAMGDResult = namedtuple('SGDResult', ['X', 'Theta', 'costs'])\n",
    "    return ADAMGDResult(X=X, Theta=Theta, costs=costs)\n",
    "\n",
    "Y_mean = np.average(Y, axis=1, weights=R).reshape((-1,1))\n",
    "Y_norm = R * (Y - Y_mean)\n",
    "results = adamgd(Y_norm, R, Y.shape[0], Y.shape[1], n_params=100, lamb=0, epochs=100, learning_rate=0.03, callback=plot_costs)"
   ]
  },
  {
   "cell_type": "code",
   "execution_count": 418,
   "metadata": {},
   "outputs": [
    {
     "data": {
      "text/plain": [
       "array([[4.98703463, 3.99946848, 3.84798728, ..., 4.99877936, 4.79745432,\n",
       "        2.65467606],\n",
       "       [3.00385433, 0.89516776, 3.37819489, ..., 0.98227201, 2.92077684,\n",
       "        5.00152969],\n",
       "       [3.99849776, 4.10765562, 2.60673408, ..., 4.13563122, 4.17994759,\n",
       "        3.21549063],\n",
       "       ...,\n",
       "       [2.        , 2.        , 2.        , ..., 2.        , 2.        ,\n",
       "        2.        ],\n",
       "       [3.        , 3.        , 3.        , ..., 3.        , 3.        ,\n",
       "        3.        ],\n",
       "       [3.        , 3.        , 3.        , ..., 3.        , 3.        ,\n",
       "        3.        ]])"
      ]
     },
     "execution_count": 418,
     "metadata": {},
     "output_type": "execute_result"
    }
   ],
   "source": [
    "(results.X @ results.Theta.T) + Y_mean"
   ]
  },
  {
   "cell_type": "markdown",
   "metadata": {},
   "source": [
    "### Normalized Ratings by Stochastic Gradient Descent"
   ]
  },
  {
   "cell_type": "code",
   "execution_count": 321,
   "metadata": {},
   "outputs": [
    {
     "name": "stdout",
     "output_type": "stream",
     "text": [
      "epoch 2 done: 11844.475204621513.\n"
     ]
    },
    {
     "data": {
      "image/png": "[encoded data removed]",
      "text/plain": [
       "<Figure size 432x288 with 1 Axes>"
      ]
     },
     "metadata": {},
     "output_type": "display_data"
    },
    {
     "ename": "KeyboardInterrupt",
     "evalue": "",
     "output_type": "error",
     "traceback": [
      "\u001b[0;31m---------------------------------------------------------------------------\u001b[0m",
      "\u001b[0;31mKeyboardInterrupt\u001b[0m                         Traceback (most recent call last)",
      "\u001b[0;32m<ipython-input-321-51dc497a2bb0>\u001b[0m in \u001b[0;36m<module>\u001b[0;34m()\u001b[0m\n\u001b[1;32m     25\u001b[0m \u001b[0mY_mean\u001b[0m \u001b[0;34m=\u001b[0m \u001b[0mnp\u001b[0m\u001b[0;34m.\u001b[0m\u001b[0maverage\u001b[0m\u001b[0;34m(\u001b[0m\u001b[0mY\u001b[0m\u001b[0;34m,\u001b[0m \u001b[0maxis\u001b[0m\u001b[0;34m=\u001b[0m\u001b[0;36m1\u001b[0m\u001b[0;34m,\u001b[0m \u001b[0mweights\u001b[0m\u001b[0;34m=\u001b[0m\u001b[0mR\u001b[0m\u001b[0;34m)\u001b[0m\u001b[0;34m.\u001b[0m\u001b[0mreshape\u001b[0m\u001b[0;34m(\u001b[0m\u001b[0;34m(\u001b[0m\u001b[0;34m-\u001b[0m\u001b[0;36m1\u001b[0m\u001b[0;34m,\u001b[0m\u001b[0;36m1\u001b[0m\u001b[0;34m)\u001b[0m\u001b[0;34m)\u001b[0m\u001b[0;34m\u001b[0m\u001b[0m\n\u001b[1;32m     26\u001b[0m \u001b[0mY_norm\u001b[0m \u001b[0;34m=\u001b[0m \u001b[0mR\u001b[0m \u001b[0;34m*\u001b[0m \u001b[0;34m(\u001b[0m\u001b[0mY\u001b[0m \u001b[0;34m-\u001b[0m \u001b[0mY_mean\u001b[0m\u001b[0;34m)\u001b[0m\u001b[0;34m\u001b[0m\u001b[0m\n\u001b[0;32m---> 27\u001b[0;31m \u001b[0mresults\u001b[0m \u001b[0;34m=\u001b[0m \u001b[0msgd\u001b[0m\u001b[0;34m(\u001b[0m\u001b[0mY_norm\u001b[0m\u001b[0;34m,\u001b[0m \u001b[0mR\u001b[0m\u001b[0;34m,\u001b[0m \u001b[0mY\u001b[0m\u001b[0;34m.\u001b[0m\u001b[0mshape\u001b[0m\u001b[0;34m[\u001b[0m\u001b[0;36m0\u001b[0m\u001b[0;34m]\u001b[0m\u001b[0;34m,\u001b[0m \u001b[0mY\u001b[0m\u001b[0;34m.\u001b[0m\u001b[0mshape\u001b[0m\u001b[0;34m[\u001b[0m\u001b[0;36m1\u001b[0m\u001b[0;34m]\u001b[0m\u001b[0;34m,\u001b[0m \u001b[0mn_params\u001b[0m\u001b[0;34m=\u001b[0m\u001b[0;36m100\u001b[0m\u001b[0;34m,\u001b[0m \u001b[0mlamb\u001b[0m\u001b[0;34m=\u001b[0m\u001b[0;36m0\u001b[0m\u001b[0;34m,\u001b[0m \u001b[0mepochs\u001b[0m\u001b[0;34m=\u001b[0m\u001b[0;36m100\u001b[0m\u001b[0;34m,\u001b[0m \u001b[0mlearning_rate\u001b[0m\u001b[0;34m=\u001b[0m\u001b[0;36m0.01\u001b[0m\u001b[0;34m,\u001b[0m \u001b[0mcallback\u001b[0m\u001b[0;34m=\u001b[0m\u001b[0mplot_costs\u001b[0m\u001b[0;34m)\u001b[0m\u001b[0;34m\u001b[0m\u001b[0m\n\u001b[0m",
      "\u001b[0;32m<ipython-input-321-51dc497a2bb0>\u001b[0m in \u001b[0;36msgd\u001b[0;34m(Y, R, n_movies, n_users, n_params, lamb, epochs, learning_rate, callback)\u001b[0m\n\u001b[1;32m     13\u001b[0m             \u001b[0mx\u001b[0m\u001b[0;34m,\u001b[0m \u001b[0mt\u001b[0m\u001b[0;34m,\u001b[0m \u001b[0mr\u001b[0m \u001b[0;34m=\u001b[0m \u001b[0mX\u001b[0m\u001b[0;34m[\u001b[0m\u001b[0mix\u001b[0m\u001b[0;34m]\u001b[0m\u001b[0;34m,\u001b[0m \u001b[0mTheta\u001b[0m\u001b[0;34m[\u001b[0m\u001b[0mit\u001b[0m\u001b[0;34m]\u001b[0m\u001b[0;34m,\u001b[0m \u001b[0mY\u001b[0m\u001b[0;34m[\u001b[0m\u001b[0mix\u001b[0m\u001b[0;34m,\u001b[0m \u001b[0mit\u001b[0m\u001b[0;34m]\u001b[0m\u001b[0;34m\u001b[0m\u001b[0m\n\u001b[1;32m     14\u001b[0m             \u001b[0mepoch_cost\u001b[0m \u001b[0;34m+=\u001b[0m \u001b[0;34m(\u001b[0m\u001b[0;36m1\u001b[0m\u001b[0;34m/\u001b[0m\u001b[0;36m2\u001b[0m\u001b[0;34m)\u001b[0m \u001b[0;34m*\u001b[0m \u001b[0;34m(\u001b[0m\u001b[0;34m(\u001b[0m\u001b[0mt\u001b[0m\u001b[0;34m.\u001b[0m\u001b[0mT\u001b[0m \u001b[0;34m@\u001b[0m \u001b[0mx\u001b[0m \u001b[0;34m-\u001b[0m \u001b[0mr\u001b[0m\u001b[0;34m)\u001b[0m\u001b[0;34m**\u001b[0m\u001b[0;36m2\u001b[0m \u001b[0;34m+\u001b[0m \u001b[0mlamb\u001b[0m \u001b[0;34m*\u001b[0m \u001b[0;34m(\u001b[0m\u001b[0mnp\u001b[0m\u001b[0;34m.\u001b[0m\u001b[0msum\u001b[0m\u001b[0;34m(\u001b[0m\u001b[0mx\u001b[0m\u001b[0;34m**\u001b[0m\u001b[0;36m2\u001b[0m\u001b[0;34m)\u001b[0m \u001b[0;34m+\u001b[0m \u001b[0mnp\u001b[0m\u001b[0;34m.\u001b[0m\u001b[0msum\u001b[0m\u001b[0;34m(\u001b[0m\u001b[0mt\u001b[0m\u001b[0;34m**\u001b[0m\u001b[0;36m2\u001b[0m\u001b[0;34m)\u001b[0m\u001b[0;34m)\u001b[0m\u001b[0;34m)\u001b[0m\u001b[0;34m\u001b[0m\u001b[0m\n\u001b[0;32m---> 15\u001b[0;31m             \u001b[0mX\u001b[0m\u001b[0;34m[\u001b[0m\u001b[0mix\u001b[0m\u001b[0;34m]\u001b[0m \u001b[0;34m-=\u001b[0m \u001b[0mlearning_rate\u001b[0m \u001b[0;34m*\u001b[0m \u001b[0;34m(\u001b[0m\u001b[0;34m(\u001b[0m\u001b[0mt\u001b[0m\u001b[0;34m.\u001b[0m\u001b[0mT\u001b[0m \u001b[0;34m@\u001b[0m \u001b[0mx\u001b[0m \u001b[0;34m-\u001b[0m \u001b[0mr\u001b[0m\u001b[0;34m)\u001b[0m\u001b[0;34m*\u001b[0m\u001b[0mt\u001b[0m \u001b[0;34m+\u001b[0m \u001b[0mlamb\u001b[0m\u001b[0;34m*\u001b[0m\u001b[0mx\u001b[0m\u001b[0;34m)\u001b[0m\u001b[0;34m\u001b[0m\u001b[0m\n\u001b[0m\u001b[1;32m     16\u001b[0m             \u001b[0mTheta\u001b[0m\u001b[0;34m[\u001b[0m\u001b[0mit\u001b[0m\u001b[0;34m]\u001b[0m \u001b[0;34m-=\u001b[0m \u001b[0mlearning_rate\u001b[0m \u001b[0;34m*\u001b[0m \u001b[0;34m(\u001b[0m\u001b[0;34m(\u001b[0m\u001b[0mt\u001b[0m\u001b[0;34m.\u001b[0m\u001b[0mT\u001b[0m \u001b[0;34m@\u001b[0m \u001b[0mx\u001b[0m \u001b[0;34m-\u001b[0m \u001b[0mr\u001b[0m\u001b[0;34m)\u001b[0m\u001b[0;34m*\u001b[0m\u001b[0mx\u001b[0m \u001b[0;34m+\u001b[0m \u001b[0mlamb\u001b[0m\u001b[0;34m*\u001b[0m\u001b[0mt\u001b[0m\u001b[0;34m)\u001b[0m\u001b[0;34m\u001b[0m\u001b[0m\n\u001b[1;32m     17\u001b[0m \u001b[0;34m\u001b[0m\u001b[0m\n",
      "\u001b[0;31mKeyboardInterrupt\u001b[0m: "
     ]
    },
    {
     "data": {
      "image/png": "[encoded data removed]",
      "text/plain": [
       "<Figure size 432x288 with 1 Axes>"
      ]
     },
     "metadata": {
      "needs_background": "light"
     },
     "output_type": "display_data"
    }
   ],
   "source": [
    "def sgd(Y, R, n_movies, n_users, n_params, lamb=0, epochs=10, learning_rate=0.01, callback=None):\n",
    "    u, s, vh = np.linalg.svd(Y, full_matrices=False)\n",
    "    d = np.diag(np.sqrt(s))\n",
    "    X = u@d[:,:n_params]\n",
    "    Theta = np.transpose(d[:n_params] @ vh)\n",
    "    \n",
    "    costs = []\n",
    "    indices = np.argwhere(R)\n",
    "    np.random.shuffle(indices)\n",
    "    for i in range(epochs):\n",
    "        epoch_cost = 0\n",
    "        for ix, it in indices:\n",
    "            x, t, r = X[ix], Theta[it], Y[ix, it]\n",
    "            epoch_cost += (1/2) * ((t.T @ x - r)**2 + lamb * (np.sum(x**2) + np.sum(t**2)))\n",
    "            X[ix] -= learning_rate * ((t.T @ x - r)*t + lamb*x)\n",
    "            Theta[it] -= learning_rate * ((t.T @ x - r)*x + lamb*t)\n",
    "        \n",
    "        costs.append(epoch_cost)\n",
    "        if callback:\n",
    "            callback(i, costs)\n",
    "    \n",
    "    SGDResult = namedtuple('SGDResult', ['X', 'Theta', 'costs'])\n",
    "    return SGDResult(X=X, Theta=Theta, costs=costs)\n",
    "\n",
    "Y_mean = np.average(Y, axis=1, weights=R).reshape((-1,1))\n",
    "Y_norm = R * (Y - Y_mean)\n",
    "results = sgd(Y_norm, R, Y.shape[0], Y.shape[1], n_params=100, lamb=0, epochs=100, learning_rate=0.01, callback=plot_costs)"
   ]
  },
  {
   "cell_type": "code",
   "execution_count": 206,
   "metadata": {},
   "outputs": [
    {
     "data": {
      "text/plain": [
       "array([[4.85600914, 3.97332913, 4.56501713, ..., 4.99174633, 4.55743009,\n",
       "        2.62642833],\n",
       "       [2.97227653, 3.05818065, 3.30452264, ..., 3.00702179, 2.93179169,\n",
       "        4.99579538],\n",
       "       [4.06125878, 2.56048199, 3.16290043, ..., 3.40397088, 3.94512326,\n",
       "        2.41693417],\n",
       "       ...,\n",
       "       [2.        , 2.        , 2.        , ..., 2.        , 2.        ,\n",
       "        2.        ],\n",
       "       [3.        , 3.        , 3.        , ..., 3.        , 3.        ,\n",
       "        3.        ],\n",
       "       [3.        , 3.        , 3.        , ..., 3.        , 3.        ,\n",
       "        3.        ]])"
      ]
     },
     "execution_count": 206,
     "metadata": {},
     "output_type": "execute_result"
    }
   ],
   "source": [
    "(results.X @ results.Theta.T) + Y_mean"
   ]
  },
  {
   "cell_type": "markdown",
   "metadata": {},
   "source": [
    "### Normalized Ratings by Adagrad Stochastic Gradient Descent"
   ]
  },
  {
   "cell_type": "code",
   "execution_count": 407,
   "metadata": {},
   "outputs": [
    {
     "name": "stdout",
     "output_type": "stream",
     "text": [
      "epoch 1 done: 7349024.590850858.\n"
     ]
    },
    {
     "data": {
      "image/png": "[encoded data removed]",
      "text/plain": [
       "<Figure size 432x288 with 1 Axes>"
      ]
     },
     "metadata": {},
     "output_type": "display_data"
    },
    {
     "ename": "KeyboardInterrupt",
     "evalue": "",
     "output_type": "error",
     "traceback": [
      "\u001b[0;31m---------------------------------------------------------------------------\u001b[0m",
      "\u001b[0;31mKeyboardInterrupt\u001b[0m                         Traceback (most recent call last)",
      "\u001b[0;32m<ipython-input-407-ebff3305e0dc>\u001b[0m in \u001b[0;36m<module>\u001b[0;34m()\u001b[0m\n\u001b[1;32m     32\u001b[0m \u001b[0mY_mean\u001b[0m \u001b[0;34m=\u001b[0m \u001b[0mnp\u001b[0m\u001b[0;34m.\u001b[0m\u001b[0maverage\u001b[0m\u001b[0;34m(\u001b[0m\u001b[0mY\u001b[0m\u001b[0;34m,\u001b[0m \u001b[0maxis\u001b[0m\u001b[0;34m=\u001b[0m\u001b[0;36m1\u001b[0m\u001b[0;34m,\u001b[0m \u001b[0mweights\u001b[0m\u001b[0;34m=\u001b[0m\u001b[0mR\u001b[0m\u001b[0;34m)\u001b[0m\u001b[0;34m.\u001b[0m\u001b[0mreshape\u001b[0m\u001b[0;34m(\u001b[0m\u001b[0;34m(\u001b[0m\u001b[0;34m-\u001b[0m\u001b[0;36m1\u001b[0m\u001b[0;34m,\u001b[0m\u001b[0;36m1\u001b[0m\u001b[0;34m)\u001b[0m\u001b[0;34m)\u001b[0m\u001b[0;34m\u001b[0m\u001b[0m\n\u001b[1;32m     33\u001b[0m \u001b[0mY_norm\u001b[0m \u001b[0;34m=\u001b[0m \u001b[0mR\u001b[0m \u001b[0;34m*\u001b[0m \u001b[0;34m(\u001b[0m\u001b[0mY\u001b[0m \u001b[0;34m-\u001b[0m \u001b[0mY_mean\u001b[0m\u001b[0;34m)\u001b[0m\u001b[0;34m\u001b[0m\u001b[0m\n\u001b[0;32m---> 34\u001b[0;31m \u001b[0mresults\u001b[0m \u001b[0;34m=\u001b[0m \u001b[0masgd\u001b[0m\u001b[0;34m(\u001b[0m\u001b[0mY_norm\u001b[0m\u001b[0;34m,\u001b[0m \u001b[0mR\u001b[0m\u001b[0;34m,\u001b[0m \u001b[0mY\u001b[0m\u001b[0;34m.\u001b[0m\u001b[0mshape\u001b[0m\u001b[0;34m[\u001b[0m\u001b[0;36m0\u001b[0m\u001b[0;34m]\u001b[0m\u001b[0;34m,\u001b[0m \u001b[0mY\u001b[0m\u001b[0;34m.\u001b[0m\u001b[0mshape\u001b[0m\u001b[0;34m[\u001b[0m\u001b[0;36m1\u001b[0m\u001b[0;34m]\u001b[0m\u001b[0;34m,\u001b[0m \u001b[0mn_params\u001b[0m\u001b[0;34m=\u001b[0m\u001b[0;36m100\u001b[0m\u001b[0;34m,\u001b[0m \u001b[0mlamb\u001b[0m\u001b[0;34m=\u001b[0m\u001b[0;36m0\u001b[0m\u001b[0;34m,\u001b[0m \u001b[0mepochs\u001b[0m\u001b[0;34m=\u001b[0m\u001b[0;36m100\u001b[0m\u001b[0;34m,\u001b[0m \u001b[0mlearning_rate\u001b[0m\u001b[0;34m=\u001b[0m\u001b[0;36m1\u001b[0m\u001b[0;34m,\u001b[0m \u001b[0mcallback\u001b[0m\u001b[0;34m=\u001b[0m\u001b[0mplot_costs\u001b[0m\u001b[0;34m)\u001b[0m\u001b[0;34m\u001b[0m\u001b[0m\n\u001b[0m",
      "\u001b[0;32m<ipython-input-407-ebff3305e0dc>\u001b[0m in \u001b[0;36masgd\u001b[0;34m(Y, R, n_movies, n_users, n_params, lamb, epochs, learning_rate, eps, callback)\u001b[0m\n\u001b[1;32m     14\u001b[0m         \u001b[0;32mfor\u001b[0m \u001b[0mix\u001b[0m\u001b[0;34m,\u001b[0m \u001b[0mit\u001b[0m \u001b[0;32min\u001b[0m \u001b[0mindices\u001b[0m\u001b[0;34m:\u001b[0m\u001b[0;34m\u001b[0m\u001b[0m\n\u001b[1;32m     15\u001b[0m             \u001b[0mx\u001b[0m\u001b[0;34m,\u001b[0m \u001b[0mt\u001b[0m\u001b[0;34m,\u001b[0m \u001b[0mr\u001b[0m \u001b[0;34m=\u001b[0m \u001b[0mX\u001b[0m\u001b[0;34m[\u001b[0m\u001b[0mix\u001b[0m\u001b[0;34m]\u001b[0m\u001b[0;34m,\u001b[0m \u001b[0mTheta\u001b[0m\u001b[0;34m[\u001b[0m\u001b[0mit\u001b[0m\u001b[0;34m]\u001b[0m\u001b[0;34m,\u001b[0m \u001b[0mY\u001b[0m\u001b[0;34m[\u001b[0m\u001b[0mix\u001b[0m\u001b[0;34m,\u001b[0m \u001b[0mit\u001b[0m\u001b[0;34m]\u001b[0m\u001b[0;34m\u001b[0m\u001b[0m\n\u001b[0;32m---> 16\u001b[0;31m             \u001b[0mepoch_cost\u001b[0m \u001b[0;34m+=\u001b[0m \u001b[0;34m(\u001b[0m\u001b[0;36m1\u001b[0m\u001b[0;34m/\u001b[0m\u001b[0;36m2\u001b[0m\u001b[0;34m)\u001b[0m \u001b[0;34m*\u001b[0m \u001b[0;34m(\u001b[0m\u001b[0;34m(\u001b[0m\u001b[0mt\u001b[0m\u001b[0;34m.\u001b[0m\u001b[0mT\u001b[0m \u001b[0;34m@\u001b[0m \u001b[0mx\u001b[0m \u001b[0;34m-\u001b[0m \u001b[0mr\u001b[0m\u001b[0;34m)\u001b[0m\u001b[0;34m**\u001b[0m\u001b[0;36m2\u001b[0m \u001b[0;34m+\u001b[0m \u001b[0mlamb\u001b[0m \u001b[0;34m*\u001b[0m \u001b[0;34m(\u001b[0m\u001b[0mnp\u001b[0m\u001b[0;34m.\u001b[0m\u001b[0msum\u001b[0m\u001b[0;34m(\u001b[0m\u001b[0mx\u001b[0m\u001b[0;34m**\u001b[0m\u001b[0;36m2\u001b[0m\u001b[0;34m)\u001b[0m \u001b[0;34m+\u001b[0m \u001b[0mnp\u001b[0m\u001b[0;34m.\u001b[0m\u001b[0msum\u001b[0m\u001b[0;34m(\u001b[0m\u001b[0mt\u001b[0m\u001b[0;34m**\u001b[0m\u001b[0;36m2\u001b[0m\u001b[0;34m)\u001b[0m\u001b[0;34m)\u001b[0m\u001b[0;34m)\u001b[0m\u001b[0;34m\u001b[0m\u001b[0m\n\u001b[0m\u001b[1;32m     17\u001b[0m             \u001b[0mX_grad\u001b[0m \u001b[0;34m=\u001b[0m \u001b[0;34m(\u001b[0m\u001b[0;34m(\u001b[0m\u001b[0mt\u001b[0m\u001b[0;34m.\u001b[0m\u001b[0mT\u001b[0m \u001b[0;34m@\u001b[0m \u001b[0mx\u001b[0m \u001b[0;34m-\u001b[0m \u001b[0mr\u001b[0m\u001b[0;34m)\u001b[0m\u001b[0;34m*\u001b[0m\u001b[0mt\u001b[0m \u001b[0;34m+\u001b[0m \u001b[0mlamb\u001b[0m\u001b[0;34m*\u001b[0m\u001b[0mx\u001b[0m\u001b[0;34m)\u001b[0m\u001b[0;34m\u001b[0m\u001b[0m\n\u001b[1;32m     18\u001b[0m             \u001b[0mTheta_grad\u001b[0m \u001b[0;34m=\u001b[0m \u001b[0;34m(\u001b[0m\u001b[0;34m(\u001b[0m\u001b[0mt\u001b[0m\u001b[0;34m.\u001b[0m\u001b[0mT\u001b[0m \u001b[0;34m@\u001b[0m \u001b[0mx\u001b[0m \u001b[0;34m-\u001b[0m \u001b[0mr\u001b[0m\u001b[0;34m)\u001b[0m\u001b[0;34m*\u001b[0m\u001b[0mx\u001b[0m \u001b[0;34m+\u001b[0m \u001b[0mlamb\u001b[0m\u001b[0;34m*\u001b[0m\u001b[0mt\u001b[0m\u001b[0;34m)\u001b[0m\u001b[0;34m\u001b[0m\u001b[0m\n",
      "\u001b[0;31mKeyboardInterrupt\u001b[0m: "
     ]
    },
    {
     "data": {
      "image/png": "[encoded data removed]",
      "text/plain": [
       "<Figure size 432x288 with 1 Axes>"
      ]
     },
     "metadata": {
      "needs_background": "light"
     },
     "output_type": "display_data"
    }
   ],
   "source": [
    "def asgd(Y, R, n_movies, n_users, n_params, lamb=0, epochs=10, learning_rate=0.01, eps=1e-6, callback=None):\n",
    "    u, s, vh = np.linalg.svd(Y, full_matrices=False)\n",
    "    d = np.diag(np.sqrt(s))\n",
    "    X = u@d[:,:n_params]\n",
    "    Theta = np.transpose(d[:n_params] @ vh)\n",
    "    \n",
    "    costs = []\n",
    "    indices = np.argwhere(R)\n",
    "    np.random.shuffle(indices)\n",
    "    X_cache = np.zeros_like(X)\n",
    "    Theta_cache = np.zeros_like(Theta)\n",
    "    for i in range(epochs):\n",
    "        epoch_cost = 0\n",
    "        for ix, it in indices:\n",
    "            x, t, r = X[ix], Theta[it], Y[ix, it]\n",
    "            epoch_cost += (1/2) * ((t.T @ x - r)**2 + lamb * (np.sum(x**2) + np.sum(t**2)))\n",
    "            X_grad = ((t.T @ x - r)*t + lamb*x)\n",
    "            Theta_grad = ((t.T @ x - r)*x + lamb*t)\n",
    "            \n",
    "            X_cache[ix] += X_grad**2\n",
    "            X[ix] += - learning_rate * X_grad / (np.sqrt(X_cache[ix]) + eps)\n",
    "            Theta_cache[it] += Theta_grad**2\n",
    "            Theta[it] += - learning_rate * Theta_grad / (np.sqrt(Theta_cache[it]) + eps)\n",
    "        \n",
    "        costs.append(epoch_cost)\n",
    "        if callback:\n",
    "            callback(i, costs)\n",
    "    \n",
    "    SGDResult = namedtuple('SGDResult', ['X', 'Theta', 'costs'])\n",
    "    return SGDResult(X=X, Theta=Theta, costs=costs)\n",
    "\n",
    "Y_mean = np.average(Y, axis=1, weights=R).reshape((-1,1))\n",
    "Y_norm = R * (Y - Y_mean)\n",
    "results = asgd(Y_norm, R, Y.shape[0], Y.shape[1], n_params=100, lamb=0, epochs=100, learning_rate=1, callback=plot_costs)"
   ]
  },
  {
   "cell_type": "code",
   "execution_count": 334,
   "metadata": {},
   "outputs": [
    {
     "data": {
      "text/plain": [
       "array([[4.94804305, 4.02586138, 4.38838451, ..., 5.0050058 , 4.70195795,\n",
       "        2.0888387 ],\n",
       "       [3.03680888, 3.18229848, 2.71116389, ..., 2.97796369, 2.2143601 ,\n",
       "        4.99662086],\n",
       "       [3.97000088, 2.41718473, 2.94615573, ..., 3.61346779, 3.50020034,\n",
       "        1.80857816],\n",
       "       ...,\n",
       "       [2.        , 2.        , 2.        , ..., 2.        , 2.        ,\n",
       "        2.        ],\n",
       "       [3.        , 3.        , 3.        , ..., 3.        , 3.        ,\n",
       "        3.        ],\n",
       "       [3.        , 3.        , 3.        , ..., 3.        , 3.        ,\n",
       "        3.        ]])"
      ]
     },
     "execution_count": 334,
     "metadata": {},
     "output_type": "execute_result"
    }
   ],
   "source": [
    "(results.X @ results.Theta.T) + Y_mean"
   ]
  },
  {
   "cell_type": "markdown",
   "metadata": {},
   "source": [
    "## Latent Factors Method"
   ]
  },
  {
   "cell_type": "code",
   "execution_count": 18,
   "metadata": {},
   "outputs": [],
   "source": [
    "def baseline_cost(X, Theta, Y, R, bias, bias_items, bias_users, lamb=0):\n",
    "    X_reg = (lamb/2) * np.sum(X**2)\n",
    "    Theta_reg = (lamb/2) * np.sum(Theta**2)\n",
    "    bi_reg = (lamb/2) * np.sum(bias_items**2)\n",
    "    bu_reg = (lamb/2) * np.sum(bias_users**2)\n",
    "    return (np.sum(np.square(R * (bias + bias_users + bias_items + (X @ Theta.T) - Y))) / 2) + X_reg + Theta_reg + bi_reg + bu_reg"
   ]
  },
  {
   "cell_type": "code",
   "execution_count": 19,
   "metadata": {},
   "outputs": [],
   "source": [
    "def baseline_gradient(X, Theta, Y, R, bias, bias_items, bias_users, lamb=0):\n",
    "    diffs = R * (bias + bias_users + bias_items + (X @ Theta.T) - Y) #(1682, 943)\n",
    "    X_reg = lamb * X #(1682, 10)\n",
    "    Theta_reg = lamb * Theta #(943, 10)\n",
    "    bi_reg = lamb * bias_items #(1682, 1)\n",
    "    bu_reg = lamb * bias_users #(1, 943)\n",
    "    X_grad = diffs @ Theta + X_reg \n",
    "    Theta_grad = diffs.T @ X + Theta_reg\n",
    "    bi_grad = np.sum(diffs) + bi_reg\n",
    "    bu_grad = np.sum(diffs) + bu_reg\n",
    "    return X_grad, Theta_grad, bi_grad, bu_grad"
   ]
  },
  {
   "cell_type": "markdown",
   "metadata": {},
   "source": [
    "### Latent Factors with Baseline by Adagrad Gradient Descent"
   ]
  },
  {
   "cell_type": "code",
   "execution_count": 20,
   "metadata": {},
   "outputs": [
    {
     "name": "stdout",
     "output_type": "stream",
     "text": [
      "epoch 99 done: 45.081010707180404.\n"
     ]
    },
    {
     "data": {
      "image/png": "[encoded data removed]",
      "text/plain": [
       "<Figure size 432x288 with 1 Axes>"
      ]
     },
     "metadata": {},
     "output_type": "display_data"
    },
    {
     "data": {
      "image/png": "[encoded data removed]",
      "text/plain": [
       "<Figure size 432x288 with 1 Axes>"
      ]
     },
     "metadata": {
      "needs_background": "light"
     },
     "output_type": "display_data"
    }
   ],
   "source": [
    "def agd2(Y, R, n_movies, n_users, n_params, lamb=0, epochs=10, learning_rate=0.01, eps=1e-6, callback=None):\n",
    "    u, s, vh = np.linalg.svd(Y, full_matrices=False)\n",
    "    d = np.diag(np.sqrt(s))\n",
    "    X = u@d[:,:n_params]\n",
    "    Theta = np.transpose(d[:n_params] @ vh)\n",
    "    \n",
    "    bias = np.average(Y, weights=R)\n",
    "    bias_items = (np.average(Y, axis=1, weights=R) - bias).reshape(-1,1)\n",
    "    bias_users = (np.average(Y, axis=0, weights=R) - bias).reshape(1,-1)\n",
    "    \n",
    "    costs = []\n",
    "    X_cache = np.zeros_like(X)\n",
    "    Theta_cache = np.zeros_like(Theta)\n",
    "    bias_users_cache =  np.zeros_like(bias_users)\n",
    "    bias_items_cache = np.zeros_like(bias_items)\n",
    "    for i in range(epochs):\n",
    "        epoch_cost = baseline_cost(X, Theta, Y, R, bias, bias_items, bias_users, lamb)\n",
    "        print(bias_items.shape)\n",
    "        X_grad, Theta_grad, bias_items_grad, bias_users_grad = baseline_gradient(X, Theta, Y, R, bias, bias_items, bias_users, lamb)\n",
    "        \n",
    "        X_cache += X_grad**2\n",
    "        X += - learning_rate * X_grad / (np.sqrt(X_cache) + eps)\n",
    "        Theta_cache += Theta_grad**2\n",
    "        Theta += - learning_rate * Theta_grad / (np.sqrt(Theta_cache) + eps)\n",
    "        bias_users_cache += bias_users_grad**2\n",
    "        bias_users += - learning_rate * bias_users_grad / (np.sqrt(bias_users_cache) + eps)\n",
    "        bias_items_cache += bias_items_grad**2\n",
    "        bias_items += - learning_rate * bias_items_grad / (np.sqrt(bias_items_cache) + eps)\n",
    "        \n",
    "        costs.append(epoch_cost)\n",
    "        if callback:\n",
    "            callback(i, costs);\n",
    "    \n",
    "    AGD2Result = namedtuple('SGDResult', ['X', 'Theta', 'bu', 'bi', 'costs'])\n",
    "    return AGD2Result(X=X, Theta=Theta, bu=bias_users, bi=bias_items, costs=costs)\n",
    "\n",
    "Y_mean = np.average(Y, axis=1, weights=R).reshape((-1,1))\n",
    "Y_norm = R * (Y - Y_mean)\n",
    "results = agd2(Y_norm, R, Y.shape[0], Y.shape[1], n_params=100, lamb=0, epochs=100, learning_rate=0.11, callback=plot_costs)"
   ]
  },
  {
   "cell_type": "markdown",
   "metadata": {},
   "source": [
    "### Latent Factors with Baseline by ADAM Gradient Descent"
   ]
  },
  {
   "cell_type": "code",
   "execution_count": 424,
   "metadata": {},
   "outputs": [
    {
     "name": "stdout",
     "output_type": "stream",
     "text": [
      "epoch 199 done: 0.1468562468250032.\n"
     ]
    },
    {
     "data": {
      "image/png": "[encoded data removed]",
      "text/plain": [
       "<Figure size 432x288 with 1 Axes>"
      ]
     },
     "metadata": {},
     "output_type": "display_data"
    },
    {
     "data": {
      "image/png": "[encoded data removed]",
      "text/plain": [
       "<Figure size 432x288 with 1 Axes>"
      ]
     },
     "metadata": {
      "needs_background": "light"
     },
     "output_type": "display_data"
    }
   ],
   "source": [
    "def adamgd2(Y, R, n_movies, n_users, n_params, lamb=0, epochs=10, learning_rate=0.01, eps=1e-8, beta1=0.9, beta2=0.999, callback=None):\n",
    "    u, s, vh = np.linalg.svd(Y, full_matrices=False)\n",
    "    d = np.diag(np.sqrt(s))\n",
    "    X = u@d[:,:n_params]\n",
    "    Theta = np.transpose(d[:n_params] @ vh)\n",
    "    \n",
    "    bias = np.average(Y, weights=R)\n",
    "    bias_items = (np.average(Y, axis=1, weights=R) - bias).reshape(-1,1)\n",
    "    bias_users = (np.average(Y, axis=0, weights=R) - bias).reshape(1,-1)\n",
    "    \n",
    "    costs = []\n",
    "    X_m = np.zeros_like(X)\n",
    "    X_v = np.zeros_like(X)\n",
    "    Theta_m = np.zeros_like(Theta)\n",
    "    Theta_v = np.zeros_like(Theta)\n",
    "    bias_users_m =  np.zeros_like(bias_users)\n",
    "    bias_users_v =  np.zeros_like(bias_users)\n",
    "    bias_items_m = np.zeros_like(bias_items)\n",
    "    bias_items_v = np.zeros_like(bias_items)\n",
    "    for i in range(epochs):\n",
    "        epoch_cost = baseline_cost(X, Theta, Y, R, bias, bias_items, bias_users, lamb)\n",
    "        print(bias_items.shape)\n",
    "        X_grad, Theta_grad, bias_items_grad, bias_users_grad = baseline_gradient(X, Theta, Y, R, bias, bias_items, bias_users, lamb)\n",
    "        \n",
    "        X_m = beta1*X_m + (1-beta1)*X_grad\n",
    "        X_v = beta2*X_v + (1-beta2)*(X_grad**2)\n",
    "        X += - learning_rate * X_m / (np.sqrt(X_v) + eps)\n",
    "        Theta_m = beta1*Theta_m + (1-beta1)*Theta_grad\n",
    "        Theta_v = beta2*Theta_v + (1-beta2)*(Theta_grad**2)\n",
    "        Theta += - learning_rate * Theta_m / (np.sqrt(Theta_v) + eps)\n",
    "        bias_users_m = beta1*bias_users_m + (1-beta1)* bias_users_grad\n",
    "        bias_users_v = beta2*bias_users_v + (1-beta2)*(bias_users_grad**2)\n",
    "        bias_users += - learning_rate * bias_users_m / (np.sqrt(bias_users_v) + eps)\n",
    "        bias_items_m = beta1*bias_items_m + (1-beta1)* bias_items_grad\n",
    "        bias_items_v = beta2*bias_items_v + (1-beta2)*(bias_items_grad**2)\n",
    "        bias_items += - learning_rate * bias_items_m / (np.sqrt(bias_items_v) + eps)\n",
    "        \n",
    "        costs.append(epoch_cost)\n",
    "        if callback:\n",
    "            callback(i, costs);\n",
    "    \n",
    "    ADAMGD2Result = namedtuple('SGDResult', ['X', 'Theta', 'bu', 'bi', 'costs'])\n",
    "    return ADAMGD2Result(X=X, Theta=Theta, bu=bias_users, bi=bias_items, costs=costs)\n",
    "\n",
    "Y_mean = np.average(Y, axis=1, weights=R).reshape((-1,1))\n",
    "Y_norm = R * (Y - Y_mean)\n",
    "results = adamgd2(Y_norm, R, Y.shape[0], Y.shape[1], n_params=100, lamb=0, epochs=200, learning_rate=0.03, callback=plot_costs)"
   ]
  },
  {
   "cell_type": "markdown",
   "metadata": {},
   "source": [
    "### Latent Factors with Baseline by Stochastic Gradient Descent"
   ]
  },
  {
   "cell_type": "code",
   "execution_count": 1,
   "metadata": {},
   "outputs": [
    {
     "ename": "NameError",
     "evalue": "name 'Y' is not defined",
     "output_type": "error",
     "traceback": [
      "\u001b[0;31m---------------------------------------------------------------------------\u001b[0m",
      "\u001b[0;31mNameError\u001b[0m                                 Traceback (most recent call last)",
      "\u001b[0;32m<ipython-input-1-c8e76d9324dd>\u001b[0m in \u001b[0;36m<module>\u001b[0;34m()\u001b[0m\n\u001b[1;32m     30\u001b[0m     \u001b[0;32mreturn\u001b[0m \u001b[0mBSGDResult\u001b[0m\u001b[0;34m(\u001b[0m\u001b[0mX\u001b[0m\u001b[0;34m=\u001b[0m\u001b[0mX\u001b[0m\u001b[0;34m,\u001b[0m \u001b[0mTheta\u001b[0m\u001b[0;34m=\u001b[0m\u001b[0mTheta\u001b[0m\u001b[0;34m,\u001b[0m \u001b[0mbu\u001b[0m\u001b[0;34m=\u001b[0m\u001b[0mbias_users\u001b[0m\u001b[0;34m,\u001b[0m \u001b[0mbi\u001b[0m\u001b[0;34m=\u001b[0m\u001b[0mbias_items\u001b[0m\u001b[0;34m,\u001b[0m \u001b[0mcosts\u001b[0m\u001b[0;34m=\u001b[0m\u001b[0mcosts\u001b[0m\u001b[0;34m)\u001b[0m\u001b[0;34m\u001b[0m\u001b[0m\n\u001b[1;32m     31\u001b[0m \u001b[0;34m\u001b[0m\u001b[0m\n\u001b[0;32m---> 32\u001b[0;31m \u001b[0mresults\u001b[0m \u001b[0;34m=\u001b[0m \u001b[0mbaseline_sgd\u001b[0m\u001b[0;34m(\u001b[0m\u001b[0mY\u001b[0m\u001b[0;34m,\u001b[0m \u001b[0mR\u001b[0m\u001b[0;34m,\u001b[0m \u001b[0mY\u001b[0m\u001b[0;34m.\u001b[0m\u001b[0mshape\u001b[0m\u001b[0;34m[\u001b[0m\u001b[0;36m0\u001b[0m\u001b[0;34m]\u001b[0m\u001b[0;34m,\u001b[0m \u001b[0mY\u001b[0m\u001b[0;34m.\u001b[0m\u001b[0mshape\u001b[0m\u001b[0;34m[\u001b[0m\u001b[0;36m1\u001b[0m\u001b[0;34m]\u001b[0m\u001b[0;34m,\u001b[0m \u001b[0mn_params\u001b[0m\u001b[0;34m=\u001b[0m\u001b[0;36m100\u001b[0m\u001b[0;34m,\u001b[0m \u001b[0mlamb\u001b[0m\u001b[0;34m=\u001b[0m\u001b[0;36m0\u001b[0m\u001b[0;34m,\u001b[0m \u001b[0mepochs\u001b[0m\u001b[0;34m=\u001b[0m\u001b[0;36m100\u001b[0m\u001b[0;34m,\u001b[0m \u001b[0mlearning_rate\u001b[0m\u001b[0;34m=\u001b[0m\u001b[0;36m0.01\u001b[0m\u001b[0;34m,\u001b[0m \u001b[0mcallback\u001b[0m\u001b[0;34m=\u001b[0m\u001b[0mplot_costs\u001b[0m\u001b[0;34m)\u001b[0m\u001b[0;34m\u001b[0m\u001b[0m\n\u001b[0m",
      "\u001b[0;31mNameError\u001b[0m: name 'Y' is not defined"
     ]
    }
   ],
   "source": [
    "def baseline_sgd(Y, R, n_movies, n_users, n_params, lamb=0, epochs=10, learning_rate=0.01, callback=None):\n",
    "    u, s, vh = np.linalg.svd(Y, full_matrices=False)\n",
    "    d = np.diag(np.sqrt(s))\n",
    "    X = u@d[:,:n_params]\n",
    "    Theta = np.transpose(d[:n_params] @ vh)\n",
    "    \n",
    "    bias = np.average(Y, weights=R)\n",
    "    bias_items = np.average(Y, axis=1, weights=R) - bias\n",
    "    bias_users = np.average(Y, axis=0, weights=R) - bias\n",
    "\n",
    "    costs = []\n",
    "    indices = np.argwhere(R)\n",
    "    np.random.shuffle(indices)\n",
    "    for i in range(epochs):\n",
    "        epoch_cost = 0\n",
    "        for ix, it in indices:\n",
    "            x, t, r, bu, bi = X[ix], Theta[it], Y[ix, it], bias_users[it], bias_items[ix]\n",
    "            print(t)\n",
    "            epoch_cost += (1/2) * ((bias + bu + bi + (t.T @ x) - r)**2 + lamb*(np.sum(x**2) + np.sum(t**2) + bu**2 + bi**2))\n",
    "            X[[ix]] -= learning_rate * ((bias + bu + bi + (t.T @ x) - r)*t + lamb*x)\n",
    "            Theta[[it]] -= learning_rate * ((bias + bu + bi + (t.T @ x) - r)*x + lamb*t)\n",
    "            bias_users[it] -= learning_rate * ((bias + bu + bi + (t.T @ x) - r) + lamb*bu)\n",
    "            bias_items[ix] -= learning_rate * ((bias + bu + bi + (t.T @ x) - r) + lamb*bi)\n",
    "        \n",
    "        costs.append(epoch_cost)\n",
    "        if callback:\n",
    "            callback(i, costs)\n",
    "    \n",
    "    BSGDResult = namedtuple('SGDResult', ['X', 'Theta', 'bu', 'bi', 'costs'])\n",
    "    return BSGDResult(X=X, Theta=Theta, bu=bias_users, bi=bias_items, costs=costs)\n",
    "\n",
    "results = baseline_sgd(Y, R, Y.shape[0], Y.shape[1], n_params=100, lamb=0, epochs=100, learning_rate=0.01, callback=plot_costs)"
   ]
  },
  {
   "cell_type": "code",
   "execution_count": 16,
   "metadata": {},
   "outputs": [
    {
     "ename": "NameError",
     "evalue": "name 'results' is not defined",
     "output_type": "error",
     "traceback": [
      "\u001b[0;31m---------------------------------------------------------------------------\u001b[0m",
      "\u001b[0;31mNameError\u001b[0m                                 Traceback (most recent call last)",
      "\u001b[0;32m<ipython-input-16-ff0f457624b5>\u001b[0m in \u001b[0;36m<module>\u001b[0;34m()\u001b[0m\n\u001b[0;32m----> 1\u001b[0;31m \u001b[0;34m(\u001b[0m\u001b[0mnp\u001b[0m\u001b[0;34m.\u001b[0m\u001b[0maverage\u001b[0m\u001b[0;34m(\u001b[0m\u001b[0mY\u001b[0m\u001b[0;34m,\u001b[0m \u001b[0maxis\u001b[0m\u001b[0;34m=\u001b[0m\u001b[0;36m1\u001b[0m\u001b[0;34m,\u001b[0m \u001b[0mweights\u001b[0m\u001b[0;34m=\u001b[0m\u001b[0mR\u001b[0m\u001b[0;34m)\u001b[0m\u001b[0;34m.\u001b[0m\u001b[0mreshape\u001b[0m\u001b[0;34m(\u001b[0m\u001b[0;34m(\u001b[0m\u001b[0;34m-\u001b[0m\u001b[0;36m1\u001b[0m\u001b[0;34m,\u001b[0m\u001b[0;36m1\u001b[0m\u001b[0;34m)\u001b[0m\u001b[0;34m)\u001b[0m \u001b[0;34m+\u001b[0m \u001b[0;34m(\u001b[0m\u001b[0mresults\u001b[0m\u001b[0;34m.\u001b[0m\u001b[0mX\u001b[0m \u001b[0;34m@\u001b[0m \u001b[0mresults\u001b[0m\u001b[0;34m.\u001b[0m\u001b[0mTheta\u001b[0m\u001b[0;34m.\u001b[0m\u001b[0mT\u001b[0m\u001b[0;34m)\u001b[0m \u001b[0;34m+\u001b[0m \u001b[0mresults\u001b[0m\u001b[0;34m.\u001b[0m\u001b[0mbi\u001b[0m\u001b[0;34m.\u001b[0m\u001b[0mreshape\u001b[0m\u001b[0;34m(\u001b[0m\u001b[0;34m-\u001b[0m\u001b[0;36m1\u001b[0m\u001b[0;34m,\u001b[0m\u001b[0;36m1\u001b[0m\u001b[0;34m)\u001b[0m \u001b[0;34m+\u001b[0m \u001b[0mresults\u001b[0m\u001b[0;34m.\u001b[0m\u001b[0mbu\u001b[0m\u001b[0;34m.\u001b[0m\u001b[0mreshape\u001b[0m\u001b[0;34m(\u001b[0m\u001b[0;36m1\u001b[0m\u001b[0;34m,\u001b[0m\u001b[0;34m-\u001b[0m\u001b[0;36m1\u001b[0m\u001b[0;34m)\u001b[0m\u001b[0;34m)\u001b[0m\u001b[0;34m\u001b[0m\u001b[0m\n\u001b[0m",
      "\u001b[0;31mNameError\u001b[0m: name 'results' is not defined"
     ]
    }
   ],
   "source": [
    "(np.average(Y, axis=1, weights=R).reshape((-1,1)) + (results.X @ results.Theta.T) + results.bi.reshape(-1,1) + results.bu.reshape(1,-1))"
   ]
  },
  {
   "cell_type": "code",
   "execution_count": 388,
   "metadata": {},
   "outputs": [
    {
     "data": {
      "text/plain": [
       "array([[5., 4., 0., ..., 5., 0., 0.],\n",
       "       [3., 0., 0., ..., 0., 0., 5.],\n",
       "       [4., 0., 0., ..., 0., 0., 0.],\n",
       "       ...,\n",
       "       [0., 0., 0., ..., 0., 0., 0.],\n",
       "       [0., 0., 0., ..., 0., 0., 0.],\n",
       "       [0., 0., 0., ..., 0., 0., 0.]])"
      ]
     },
     "execution_count": 388,
     "metadata": {},
     "output_type": "execute_result"
    }
   ],
   "source": [
    "Y"
   ]
  },
  {
   "cell_type": "code",
   "execution_count": null,
   "metadata": {},
   "outputs": [],
   "source": [
    "movies = np.fromregex(file='movie_ids.txt',\n",
    "             dtype=[('index', 'i4'), ('title', 'U20')],\n",
    "             regexp=r'(\\d+) (.*)',\n",
    "             encoding='LATIN-1')"
   ]
  },
  {
   "cell_type": "code",
   "execution_count": 249,
   "metadata": {},
   "outputs": [
    {
     "data": {
      "text/plain": [
       "array([[-0.1589416 , -0.54038318, -0.54038318],\n",
       "       [-0.07609772, -0.30191909, -0.30191909],\n",
       "       [-0.1589416 , -0.54038318, -0.54038318]])"
      ]
     },
     "execution_count": 249,
     "metadata": {},
     "output_type": "execute_result"
    }
   ],
   "source": [
    "X[np.ix_([100,200,100], [5,7, 7])]"
   ]
  },
  {
   "cell_type": "code",
   "execution_count": 250,
   "metadata": {},
   "outputs": [
    {
     "data": {
      "text/plain": [
       "array([-0.1589416 , -0.30191909, -0.54038318])"
      ]
     },
     "execution_count": 250,
     "metadata": {},
     "output_type": "execute_result"
    }
   ],
   "source": [
    "X[[100,200,100], [5,7, 7]]"
   ]
  }
 ],
 "metadata": {
  "kernelspec": {
   "display_name": "Python 3",
   "language": "python",
   "name": "python3"
  },
  "language_info": {
   "codemirror_mode": {
    "name": "ipython",
    "version": 3
   },
   "file_extension": ".py",
   "mimetype": "text/x-python",
   "name": "python",
   "nbconvert_exporter": "python",
   "pygments_lexer": "ipython3",
   "version": "3.6.6"
  }
 },
 "nbformat": 4,
 "nbformat_minor": 2
}
