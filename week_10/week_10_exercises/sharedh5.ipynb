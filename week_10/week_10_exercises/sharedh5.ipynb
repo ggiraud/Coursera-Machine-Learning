{
 "cells": [
  {
   "cell_type": "code",
   "execution_count": 1,
   "metadata": {},
   "outputs": [],
   "source": [
    "using SharedArrays, HDF5"
   ]
  },
  {
   "cell_type": "markdown",
   "metadata": {},
   "source": [
    "### First Method\n",
    "\n",
    "Work with SharedArray and backup to hdf5 file.\n",
    "\n",
    "**Cons**: An additional file is created for SharedArray.\n",
    "\n",
    "1. Create shared array\n",
    "2. Fill shared array\n",
    "3. Write shared array to hdf5 file"
   ]
  },
  {
   "cell_type": "code",
   "execution_count": 8,
   "metadata": {},
   "outputs": [
    {
     "name": "stderr",
     "output_type": "stream",
     "text": [
      "HDF5-DIAG: Error detected in HDF5 (1.10.4) thread 0:\n",
      "  #000: H5O.c line 120 in H5Oopen(): unable to open object\n",
      "    major: Object header\n",
      "    minor: Can't open object\n",
      "  #001: H5Oint.c line 596 in H5O__open_name(): unable to open object\n",
      "    major: Object header\n",
      "    minor: Can't open object\n",
      "  #002: H5Oint.c line 551 in H5O_open_name(): object not found\n",
      "    major: Object header\n",
      "    minor: Object not found\n",
      "  #003: H5Gloc.c line 422 in H5G_loc_find(): can't find object\n",
      "    major: Symbol table\n",
      "    minor: Object not found\n",
      "  #004: H5Gtraverse.c line 851 in H5G_traverse(): internal path traversal failed\n",
      "    major: Symbol table\n",
      "    minor: Object not found\n",
      "  #005: H5Gtraverse.c line 627 in H5G__traverse_real(): traversal operator failed\n",
      "    major: Symbol table\n",
      "    minor: Callback failed\n",
      "  #006: H5Gloc.c line 378 in H5G__loc_find_cb(): object 'P' doesn't exist\n",
      "    major: Symbol table\n",
      "    minor: Object not found\n"
     ]
    },
    {
     "ename": "ErrorException",
     "evalue": "Error opening object //factors/P",
     "output_type": "error",
     "traceback": [
      "Error opening object //factors/P",
      "",
      "Stacktrace:",
      " [1] error(::String, ::String, ::String, ::String) at ./error.jl:42",
      " [2] h5o_open at /Users/guillaume/.julia/packages/HDF5/H0XJB/src/HDF5.jl:2250 [inlined]",
      " [3] h5o_open at /Users/guillaume/.julia/packages/HDF5/H0XJB/src/HDF5.jl:2022 [inlined]",
      " [4] o_open(::HDF5File, ::String) at /Users/guillaume/.julia/packages/HDF5/H0XJB/src/HDF5.jl:877",
      " [5] getindex at /Users/guillaume/.julia/packages/HDF5/H0XJB/src/HDF5.jl:888 [inlined]",
      " [6] h5read(::String, ::String) at /Users/guillaume/.julia/packages/HDF5/H0XJB/src/HDF5.jl:732",
      " [7] top-level scope at In[8]:16"
     ]
    }
   ],
   "source": [
    "# Create empty SharedArray\n",
    "A = SharedArray{Float64}(abspath(\"sharedmmap\"), (300,100), mode=\"w+\");\n",
    "\n",
    "# Fill SharedArray\n",
    "A .= rand(1:100, size(A)...);\n",
    "\n",
    "# Write SharedArray to HDF5File\n",
    "h5open(\"file.h5\", \"w\") do fid\n",
    "    write(fid, \"factors/P\", A)\n",
    "end\n",
    "\n",
    "# Read HDF5File\n",
    "B = h5read(\"file.h5\", \"factors/P\")\n",
    "\n",
    "# Remove files\n",
    "rm(\"file.h5\")\n",
    "rm(\"sharedmmap\")\n",
    "\n",
    "B"
   ]
  },
  {
   "cell_type": "markdown",
   "metadata": {},
   "source": [
    "### Second Method\n",
    "\n",
    "Back shared array on hdf5 file.\n",
    "\n",
    "**Cons**: Problems could arise with hdf5 file...\n",
    "\n",
    "1. Create hdf5 file and dataset\n",
    "2. Create shared array in realtion to hdf5 file"
   ]
  },
  {
   "cell_type": "code",
   "execution_count": 94,
   "metadata": {},
   "outputs": [
    {
     "data": {
      "text/plain": [
       "300×100 SharedArray{Float64,2}:\n",
       " 38.0  96.0  63.0   38.0  100.0  23.0  10.0  …   3.0  64.0   98.0  48.0  95.0\n",
       " 16.0  33.0  77.0    5.0   85.0  17.0  39.0     65.0  12.0   13.0  30.0  61.0\n",
       " 70.0  24.0  31.0   72.0   93.0  15.0  75.0      3.0   4.0   91.0  56.0  16.0\n",
       "  2.0  99.0  38.0   49.0   82.0  35.0  85.0     95.0  41.0   71.0  79.0  71.0\n",
       " 35.0  25.0  19.0   64.0    6.0  56.0  51.0     35.0   6.0   23.0  80.0  77.0\n",
       " 80.0  22.0  12.0    4.0   50.0  71.0  82.0  …  74.0  12.0    4.0   3.0  19.0\n",
       " 15.0  70.0  71.0   33.0   81.0  23.0  41.0     32.0  84.0   83.0   8.0  42.0\n",
       " 53.0  66.0  76.0   52.0   14.0  68.0  24.0     41.0  35.0   17.0  12.0  56.0\n",
       " 95.0  83.0  64.0   57.0   97.0  11.0   2.0     25.0   5.0   83.0  51.0  58.0\n",
       " 38.0  63.0  17.0   42.0   42.0  38.0  12.0     98.0   9.0   96.0  71.0  98.0\n",
       " 62.0  19.0  65.0  100.0    8.0  63.0  48.0  …   6.0   2.0   97.0  38.0  12.0\n",
       " 59.0  45.0  67.0   66.0   53.0  42.0  16.0     37.0  26.0   40.0  83.0  32.0\n",
       " 55.0  37.0  69.0   14.0   90.0   4.0  14.0     71.0  89.0   29.0  94.0   4.0\n",
       "  ⋮                               ⋮          ⋱   ⋮                           \n",
       " 81.0  65.0  75.0   10.0   26.0  14.0  54.0     45.0  68.0   95.0   1.0  45.0\n",
       " 32.0  82.0  96.0    7.0   61.0  73.0  52.0     45.0  42.0   98.0  63.0   4.0\n",
       " 93.0  17.0  13.0   52.0   23.0  16.0  96.0  …  13.0  69.0   58.0  78.0   9.0\n",
       " 26.0  91.0  88.0   76.0   97.0  62.0  13.0     31.0  67.0   74.0  24.0  66.0\n",
       " 80.0  21.0  80.0   47.0   99.0  33.0  16.0     42.0  38.0  100.0  86.0   2.0\n",
       " 83.0  72.0  81.0   43.0   36.0   7.0  16.0     55.0  53.0   34.0  23.0  41.0\n",
       " 77.0  85.0   5.0   93.0   35.0  18.0  46.0     49.0  18.0    8.0  77.0  37.0\n",
       " 79.0  41.0  26.0   97.0   51.0  28.0  60.0  …  15.0  31.0   47.0  93.0  77.0\n",
       " 24.0  12.0   2.0   66.0   69.0  87.0  59.0     62.0  49.0    4.0  51.0  52.0\n",
       " 58.0  20.0  64.0   10.0   53.0  58.0  58.0     56.0  84.0   93.0  78.0  99.0\n",
       " 96.0  37.0  51.0   22.0   72.0  59.0  10.0     29.0  81.0   42.0  39.0  33.0\n",
       " 83.0  11.0  80.0   55.0   43.0  41.0  29.0     62.0  67.0   10.0  58.0  66.0"
      ]
     },
     "execution_count": 94,
     "metadata": {},
     "output_type": "execute_result"
    }
   ],
   "source": [
    "# Create h5 file and dataset\n",
    "offset = h5open(\"file2.h5\", \"w\") do fid\n",
    "    dset = d_create(fid, \"factors/P\", datatype(Float64), dataspace((300,100)))\n",
    "    dset[:,:] = rand(1:100, 300, 100)\n",
    "    HDF5.h5d_get_offset(fid[\"factors/P\"])\n",
    "end\n",
    "\n",
    "# build SharedArray on top of h5 file\n",
    "B = SharedArray{Float64}(abspath(\"file2.h5\"), (300,100), offset, mode=\"r+\")\n",
    "\n",
    "# Remove files\n",
    "rm(\"file2.h5\")\n",
    "\n",
    "B"
   ]
  }
 ],
 "metadata": {
  "kernelspec": {
   "display_name": "Julia 1.1.0",
   "language": "julia",
   "name": "julia-1.1"
  },
  "language_info": {
   "file_extension": ".jl",
   "mimetype": "application/julia",
   "name": "julia",
   "version": "1.1.0"
  }
 },
 "nbformat": 4,
 "nbformat_minor": 2
}
