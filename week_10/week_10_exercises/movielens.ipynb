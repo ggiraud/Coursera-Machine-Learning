{
 "cells": [
  {
   "cell_type": "code",
   "execution_count": 1,
   "metadata": {},
   "outputs": [],
   "source": [
    "using IJulia, Plots, JuliaDB, RecommenderSystems, Statistics, CSV\n",
    "import OnlineStats"
   ]
  },
  {
   "cell_type": "code",
   "execution_count": 6,
   "metadata": {},
   "outputs": [
    {
     "data": {
      "text/plain": [
       "CSV.File(\"/Users/guillaume/Downloads/ml-latest-small/ratings.csv\", rows=100836):\n",
       "Tables.Schema:\n",
       " :userId     Union{Missing, Int64}  \n",
       " :movieId    Union{Missing, Int64}  \n",
       " :rating     Union{Missing, Float64}\n",
       " :timestamp  Union{Missing, Int64}  "
      ]
     },
     "execution_count": 6,
     "metadata": {},
     "output_type": "execute_result"
    }
   ],
   "source": [
    "f = CSV.File(\"/Users/guillaume/Downloads/ml-latest-small/ratings.csv\", use_mmap=true)"
   ]
  },
  {
   "cell_type": "code",
   "execution_count": 9,
   "metadata": {},
   "outputs": [
    {
     "data": {
      "text/plain": [
       "IOBuffer(data=UInt8[...], readable=true, writable=false, seekable=true, append=false, size=2483723, maxsize=Inf, ptr=34, mark=-1)"
      ]
     },
     "execution_count": 9,
     "metadata": {},
     "output_type": "execute_result"
    }
   ],
   "source": [
    "f.io"
   ]
  },
  {
   "cell_type": "code",
   "execution_count": 16,
   "metadata": {},
   "outputs": [
    {
     "data": {
      "text/plain": [
       "Mean: n=100836 | value=3.50156"
      ]
     },
     "execution_count": 16,
     "metadata": {},
     "output_type": "execute_result"
    }
   ],
   "source": [
    "OnlineStats.fit!(OnlineStats.Mean(), (row.rating for row in f))"
   ]
  },
  {
   "cell_type": "code",
   "execution_count": 30,
   "metadata": {},
   "outputs": [
    {
     "name": "stdout",
     "output_type": "stream",
     "text": [
      "Rating(item=307, user=1, value=3.5)\n",
      "Rating(item=481, user=1, value=3.5)\n",
      "Rating(item=1091, user=1, value=1.5)\n",
      "Rating(item=1257, user=1, value=4.5)\n",
      "Rating(item=1449, user=1, value=4.5)\n",
      "Rating(item=1590, user=1, value=2.5)\n",
      "Rating(item=1591, user=1, value=1.5)\n",
      "Rating(item=2134, user=1, value=4.5)\n",
      "Rating(item=2478, user=1, value=4.0)\n",
      " 28.435802 seconds (801 allocations: 228.870 MiB, 8.90% gc time)\n"
     ]
    }
   ],
   "source": [
    "m = 10\n",
    "i = 1\n",
    "@time for row in CSV.File(\"/Users/guillaume/Downloads/ml-latest/ratings.csv\", use_mmap=true)\n",
    "    println(Rating(row.movieId, row.userId, row.rating))\n",
    "    global i += 1\n",
    "    if i >= m\n",
    "        break\n",
    "    end\n",
    "end"
   ]
  },
  {
   "cell_type": "code",
   "execution_count": null,
   "metadata": {},
   "outputs": [],
   "source": [
    "function fit!(model::SVDModel{N,SGD}, csv::CSV.File; cb::Union{Function, Nothing}=nothing) where {N}\n",
    "    solver::SGD = model.solver\n",
    "    model.bias = mean(r.value for r in ratings)\n",
    "    \n",
    "    # initialize model's items and users sparse vectors from ratings\n",
    "    items, users = Dict{Int64,Item{N}}(), Dict{Int64,User{N}}()\n",
    "    foreach(ratings) do r\n",
    "        items[r.item] = Item{N}(model.std)\n",
    "        users[r.user] = User{N}(model.std)\n",
    "    end\n",
    "    model.items, model.users = sparsevec(items), sparsevec(users)\n",
    "    \n",
    "    for epoch in 1:solver.nepochs\n",
    "        currentcost::Float64 = zero(Float64)\n",
    "        for i in randperm(length(ratings))\n",
    "            r = ratings[i]\n",
    "            item::Item{N} = model.items[r.item]\n",
    "            user::User{N} = model.users[r.user]\n",
    "\n",
    "            e::Float64 = model.bias + item.bias + user.bias + dot(item.weights, user.weights) - r.value\n",
    "\n",
    "            currentcost += abs2(e)\n",
    "            \n",
    "            item.weights .-= solver.lr .* 2 .* (e .* user.weights .+ solver.reg .* item.weights)\n",
    "            user.weights .-= solver.lr .* 2 .* (e .* item.weights .+ solver.reg .* user.weights)\n",
    "            item.bias -= solver.lr * 2 * (e + solver.reg * item.bias)\n",
    "            user.bias -= solver.lr * 2 * (e + solver.reg * user.bias)\n",
    "        end\n",
    "        \n",
    "        if cb !== nothing\n",
    "            cb(epoch, currentcost)\n",
    "        end\n",
    "    end\n",
    "end"
   ]
  },
  {
   "cell_type": "code",
   "execution_count": 24,
   "metadata": {},
   "outputs": [],
   "source": [
    "df = loadtable(\"/Users/guillaume/Downloads/ml-latest-small/ratings.csv\");"
   ]
  },
  {
   "cell_type": "code",
   "execution_count": 10,
   "metadata": {},
   "outputs": [
    {
     "data": {
      "text/plain": [
       "Table with 10 rows, 4 columns:\n",
       "userId  movieId  rating  timestamp\n",
       "──────────────────────────────────\n",
       "1       1        4.0     964982703\n",
       "1       3        4.0     964981247\n",
       "1       6        4.0     964982224\n",
       "1       47       5.0     964983815\n",
       "1       50       5.0     964982931\n",
       "1       70       3.0     964982400\n",
       "1       101      5.0     964980868\n",
       "1       110      4.0     964982176\n",
       "1       151      5.0     964984041\n",
       "1       157      5.0     964984100"
      ]
     },
     "execution_count": 10,
     "metadata": {},
     "output_type": "execute_result"
    }
   ],
   "source": [
    "df[1:10]"
   ]
  },
  {
   "cell_type": "code",
   "execution_count": 25,
   "metadata": {},
   "outputs": [
    {
     "data": {
      "text/plain": [
       "5-element Array{Int64,1}:\n",
       "  1\n",
       "  3\n",
       "  6\n",
       " 47\n",
       " 50"
      ]
     },
     "execution_count": 25,
     "metadata": {},
     "output_type": "execute_result"
    }
   ],
   "source": [
    "select(df, (:movieId))[1:5]"
   ]
  },
  {
   "cell_type": "code",
   "execution_count": 26,
   "metadata": {},
   "outputs": [
    {
     "data": {
      "text/plain": [
       "(mean = 3.501556983616962,)"
      ]
     },
     "execution_count": 26,
     "metadata": {},
     "output_type": "execute_result"
    }
   ],
   "source": [
    "summarize(mean, df, select=:rating)"
   ]
  },
  {
   "cell_type": "code",
   "execution_count": 27,
   "metadata": {},
   "outputs": [
    {
     "data": {
      "text/plain": [
       "Mean: n=100836 | value=3.50156"
      ]
     },
     "execution_count": 27,
     "metadata": {},
     "output_type": "execute_result"
    }
   ],
   "source": [
    "reduce(OnlineStats.Mean(), df, select=:rating)"
   ]
  },
  {
   "cell_type": "code",
   "execution_count": 6,
   "metadata": {},
   "outputs": [],
   "source": [
    "ratings = [Rating(row.movieId, row.userId, row.rating) for row in rows(df)];"
   ]
  },
  {
   "cell_type": "markdown",
   "metadata": {},
   "source": [
    "## TODO: Make fit! accept an iterator or a stream as ratings, to cut preprocessing overhead. "
   ]
  },
  {
   "cell_type": "code",
   "execution_count": 37,
   "metadata": {},
   "outputs": [
    {
     "name": "stdout",
     "output_type": "stream",
     "text": [
      "Processed epoch #100: 18.749530568735793\n",
      " 10.250886 seconds (745.17 k allocations: 273.044 MiB, 1.31% gc time)\n"
     ]
    },
    {
     "data": {
      "image/svg+xml": [
       "<?xml version=\"1.0\" encoding=\"utf-8\"?>\n",
       "<svg xmlns=\"http://www.w3.org/2000/svg\" xmlns:xlink=\"http://www.w3.org/1999/xlink\" width=\"600\" height=\"400\" viewBox=\"0 0 2400 1600\">\n",
       "<defs>\n",
       "  <clipPath id=\"clip8200\">\n",
       "    <rect x=\"0\" y=\"0\" width=\"2000\" height=\"2000\"/>\n",
       "  </clipPath>\n",
       "</defs>\n",
       "<defs>\n",
       "  <clipPath id=\"clip8201\">\n",
       "    <rect x=\"0\" y=\"0\" width=\"2400\" height=\"1600\"/>\n",
       "  </clipPath>\n",
       "</defs>\n",
       "<polygon clip-path=\"url(#clip8201)\" points=\"\n",
       "0,1600 2400,1600 2400,0 0,0 \n",
       "  \" fill=\"#ffffff\" fill-rule=\"evenodd\" fill-opacity=\"1\"/>\n",
       "<defs>\n",
       "  <clipPath id=\"clip8202\">\n",
       "    <rect x=\"480\" y=\"0\" width=\"1681\" height=\"1600\"/>\n",
       "  </clipPath>\n",
       "</defs>\n",
       "<polygon clip-path=\"url(#clip8201)\" points=\"\n",
       "318.295,1440.48 2321.26,1440.48 2321.26,47.2441 318.295,47.2441 \n",
       "  \" fill=\"#ffffff\" fill-rule=\"evenodd\" fill-opacity=\"1\"/>\n",
       "<defs>\n",
       "  <clipPath id=\"clip8203\">\n",
       "    <rect x=\"318\" y=\"47\" width=\"2004\" height=\"1394\"/>\n",
       "  </clipPath>\n",
       "</defs>\n",
       "<polyline clip-path=\"url(#clip8203)\" style=\"stroke:#000000; stroke-width:2; stroke-opacity:0.1; fill:none\" points=\"\n",
       "  355.896,1440.48 355.896,47.2441 \n",
       "  \"/>\n",
       "<polyline clip-path=\"url(#clip8203)\" style=\"stroke:#000000; stroke-width:2; stroke-opacity:0.1; fill:none\" points=\"\n",
       "  833.065,1440.48 833.065,47.2441 \n",
       "  \"/>\n",
       "<polyline clip-path=\"url(#clip8203)\" style=\"stroke:#000000; stroke-width:2; stroke-opacity:0.1; fill:none\" points=\"\n",
       "  1310.23,1440.48 1310.23,47.2441 \n",
       "  \"/>\n",
       "<polyline clip-path=\"url(#clip8203)\" style=\"stroke:#000000; stroke-width:2; stroke-opacity:0.1; fill:none\" points=\"\n",
       "  1787.4,1440.48 1787.4,47.2441 \n",
       "  \"/>\n",
       "<polyline clip-path=\"url(#clip8203)\" style=\"stroke:#000000; stroke-width:2; stroke-opacity:0.1; fill:none\" points=\"\n",
       "  2264.57,1440.48 2264.57,47.2441 \n",
       "  \"/>\n",
       "<polyline clip-path=\"url(#clip8203)\" style=\"stroke:#000000; stroke-width:2; stroke-opacity:0.1; fill:none\" points=\"\n",
       "  318.295,1401.34 2321.26,1401.34 \n",
       "  \"/>\n",
       "<polyline clip-path=\"url(#clip8203)\" style=\"stroke:#000000; stroke-width:2; stroke-opacity:0.1; fill:none\" points=\"\n",
       "  318.295,1092.32 2321.26,1092.32 \n",
       "  \"/>\n",
       "<polyline clip-path=\"url(#clip8203)\" style=\"stroke:#000000; stroke-width:2; stroke-opacity:0.1; fill:none\" points=\"\n",
       "  318.295,783.308 2321.26,783.308 \n",
       "  \"/>\n",
       "<polyline clip-path=\"url(#clip8203)\" style=\"stroke:#000000; stroke-width:2; stroke-opacity:0.1; fill:none\" points=\"\n",
       "  318.295,474.292 2321.26,474.292 \n",
       "  \"/>\n",
       "<polyline clip-path=\"url(#clip8203)\" style=\"stroke:#000000; stroke-width:2; stroke-opacity:0.1; fill:none\" points=\"\n",
       "  318.295,165.276 2321.26,165.276 \n",
       "  \"/>\n",
       "<polyline clip-path=\"url(#clip8201)\" style=\"stroke:#000000; stroke-width:4; stroke-opacity:1; fill:none\" points=\"\n",
       "  318.295,1440.48 2321.26,1440.48 \n",
       "  \"/>\n",
       "<polyline clip-path=\"url(#clip8201)\" style=\"stroke:#000000; stroke-width:4; stroke-opacity:1; fill:none\" points=\"\n",
       "  318.295,1440.48 318.295,47.2441 \n",
       "  \"/>\n",
       "<polyline clip-path=\"url(#clip8201)\" style=\"stroke:#000000; stroke-width:4; stroke-opacity:1; fill:none\" points=\"\n",
       "  355.896,1440.48 355.896,1419.58 \n",
       "  \"/>\n",
       "<polyline clip-path=\"url(#clip8201)\" style=\"stroke:#000000; stroke-width:4; stroke-opacity:1; fill:none\" points=\"\n",
       "  833.065,1440.48 833.065,1419.58 \n",
       "  \"/>\n",
       "<polyline clip-path=\"url(#clip8201)\" style=\"stroke:#000000; stroke-width:4; stroke-opacity:1; fill:none\" points=\"\n",
       "  1310.23,1440.48 1310.23,1419.58 \n",
       "  \"/>\n",
       "<polyline clip-path=\"url(#clip8201)\" style=\"stroke:#000000; stroke-width:4; stroke-opacity:1; fill:none\" points=\"\n",
       "  1787.4,1440.48 1787.4,1419.58 \n",
       "  \"/>\n",
       "<polyline clip-path=\"url(#clip8201)\" style=\"stroke:#000000; stroke-width:4; stroke-opacity:1; fill:none\" points=\"\n",
       "  2264.57,1440.48 2264.57,1419.58 \n",
       "  \"/>\n",
       "<polyline clip-path=\"url(#clip8201)\" style=\"stroke:#000000; stroke-width:4; stroke-opacity:1; fill:none\" points=\"\n",
       "  318.295,1401.34 348.339,1401.34 \n",
       "  \"/>\n",
       "<polyline clip-path=\"url(#clip8201)\" style=\"stroke:#000000; stroke-width:4; stroke-opacity:1; fill:none\" points=\"\n",
       "  318.295,1092.32 348.339,1092.32 \n",
       "  \"/>\n",
       "<polyline clip-path=\"url(#clip8201)\" style=\"stroke:#000000; stroke-width:4; stroke-opacity:1; fill:none\" points=\"\n",
       "  318.295,783.308 348.339,783.308 \n",
       "  \"/>\n",
       "<polyline clip-path=\"url(#clip8201)\" style=\"stroke:#000000; stroke-width:4; stroke-opacity:1; fill:none\" points=\"\n",
       "  318.295,474.292 348.339,474.292 \n",
       "  \"/>\n",
       "<polyline clip-path=\"url(#clip8201)\" style=\"stroke:#000000; stroke-width:4; stroke-opacity:1; fill:none\" points=\"\n",
       "  318.295,165.276 348.339,165.276 \n",
       "  \"/>\n",
       "<g clip-path=\"url(#clip8201)\">\n",
       "<text style=\"fill:#000000; fill-opacity:1; font-family:Arial,Helvetica Neue,Helvetica,sans-serif; font-size:48px; text-anchor:middle;\" transform=\"rotate(0, 355.896, 1494.48)\" x=\"355.896\" y=\"1494.48\">0</text>\n",
       "</g>\n",
       "<g clip-path=\"url(#clip8201)\">\n",
       "<text style=\"fill:#000000; fill-opacity:1; font-family:Arial,Helvetica Neue,Helvetica,sans-serif; font-size:48px; text-anchor:middle;\" transform=\"rotate(0, 833.065, 1494.48)\" x=\"833.065\" y=\"1494.48\">25</text>\n",
       "</g>\n",
       "<g clip-path=\"url(#clip8201)\">\n",
       "<text style=\"fill:#000000; fill-opacity:1; font-family:Arial,Helvetica Neue,Helvetica,sans-serif; font-size:48px; text-anchor:middle;\" transform=\"rotate(0, 1310.23, 1494.48)\" x=\"1310.23\" y=\"1494.48\">50</text>\n",
       "</g>\n",
       "<g clip-path=\"url(#clip8201)\">\n",
       "<text style=\"fill:#000000; fill-opacity:1; font-family:Arial,Helvetica Neue,Helvetica,sans-serif; font-size:48px; text-anchor:middle;\" transform=\"rotate(0, 1787.4, 1494.48)\" x=\"1787.4\" y=\"1494.48\">75</text>\n",
       "</g>\n",
       "<g clip-path=\"url(#clip8201)\">\n",
       "<text style=\"fill:#000000; fill-opacity:1; font-family:Arial,Helvetica Neue,Helvetica,sans-serif; font-size:48px; text-anchor:middle;\" transform=\"rotate(0, 2264.57, 1494.48)\" x=\"2264.57\" y=\"1494.48\">100</text>\n",
       "</g>\n",
       "<g clip-path=\"url(#clip8201)\">\n",
       "<text style=\"fill:#000000; fill-opacity:1; font-family:Arial,Helvetica Neue,Helvetica,sans-serif; font-size:48px; text-anchor:end;\" transform=\"rotate(0, 294.295, 1418.84)\" x=\"294.295\" y=\"1418.84\">0</text>\n",
       "</g>\n",
       "<g clip-path=\"url(#clip8201)\">\n",
       "<text style=\"fill:#000000; fill-opacity:1; font-family:Arial,Helvetica Neue,Helvetica,sans-serif; font-size:48px; text-anchor:start;\" transform=\"rotate(0, 164.154, 1116.05)\" x=\"164.154\" y=\"1116.05\">2×10</text>\n",
       "</g>\n",
       "<g clip-path=\"url(#clip8201)\">\n",
       "<text style=\"fill:#000000; fill-opacity:1; font-family:Arial,Helvetica Neue,Helvetica,sans-serif; font-size:38px; text-anchor:start;\" transform=\"rotate(0, 272.551, 1088.64)\" x=\"272.551\" y=\"1088.64\">4</text>\n",
       "</g>\n",
       "<g clip-path=\"url(#clip8201)\">\n",
       "<text style=\"fill:#000000; fill-opacity:1; font-family:Arial,Helvetica Neue,Helvetica,sans-serif; font-size:48px; text-anchor:start;\" transform=\"rotate(0, 164.154, 807.036)\" x=\"164.154\" y=\"807.036\">4×10</text>\n",
       "</g>\n",
       "<g clip-path=\"url(#clip8201)\">\n",
       "<text style=\"fill:#000000; fill-opacity:1; font-family:Arial,Helvetica Neue,Helvetica,sans-serif; font-size:38px; text-anchor:start;\" transform=\"rotate(0, 272.551, 779.626)\" x=\"272.551\" y=\"779.626\">4</text>\n",
       "</g>\n",
       "<g clip-path=\"url(#clip8201)\">\n",
       "<text style=\"fill:#000000; fill-opacity:1; font-family:Arial,Helvetica Neue,Helvetica,sans-serif; font-size:48px; text-anchor:start;\" transform=\"rotate(0, 164.154, 498.02)\" x=\"164.154\" y=\"498.02\">6×10</text>\n",
       "</g>\n",
       "<g clip-path=\"url(#clip8201)\">\n",
       "<text style=\"fill:#000000; fill-opacity:1; font-family:Arial,Helvetica Neue,Helvetica,sans-serif; font-size:38px; text-anchor:start;\" transform=\"rotate(0, 272.551, 470.609)\" x=\"272.551\" y=\"470.609\">4</text>\n",
       "</g>\n",
       "<g clip-path=\"url(#clip8201)\">\n",
       "<text style=\"fill:#000000; fill-opacity:1; font-family:Arial,Helvetica Neue,Helvetica,sans-serif; font-size:48px; text-anchor:start;\" transform=\"rotate(0, 164.154, 189.004)\" x=\"164.154\" y=\"189.004\">8×10</text>\n",
       "</g>\n",
       "<g clip-path=\"url(#clip8201)\">\n",
       "<text style=\"fill:#000000; fill-opacity:1; font-family:Arial,Helvetica Neue,Helvetica,sans-serif; font-size:38px; text-anchor:start;\" transform=\"rotate(0, 272.551, 161.593)\" x=\"272.551\" y=\"161.593\">4</text>\n",
       "</g>\n",
       "<g clip-path=\"url(#clip8201)\">\n",
       "<text style=\"fill:#000000; fill-opacity:1; font-family:Arial,Helvetica Neue,Helvetica,sans-serif; font-size:66px; text-anchor:middle;\" transform=\"rotate(0, 1319.78, 1590.4)\" x=\"1319.78\" y=\"1590.4\">iterations</text>\n",
       "</g>\n",
       "<g clip-path=\"url(#clip8201)\">\n",
       "<text style=\"fill:#000000; fill-opacity:1; font-family:Arial,Helvetica Neue,Helvetica,sans-serif; font-size:66px; text-anchor:middle;\" transform=\"rotate(-90, 57.6, 743.863)\" x=\"57.6\" y=\"743.863\">cost</text>\n",
       "</g>\n",
       "<polyline clip-path=\"url(#clip8203)\" style=\"stroke:#009af9; stroke-width:4; stroke-opacity:1; fill:none\" points=\"\n",
       "  374.983,86.6754 394.069,215.288 413.156,255.894 432.243,280.012 451.33,296.12 470.417,308.453 489.503,319.574 508.59,335.621 527.677,366.612 546.764,399.669 \n",
       "  565.85,439.769 584.937,494.931 604.024,554.01 623.111,617.618 642.197,681.048 661.284,741.602 680.371,799.561 699.458,854.614 718.544,907.223 737.631,956.744 \n",
       "  756.718,1002.85 775.805,1045.53 794.891,1084.81 813.978,1120.99 833.065,1153.87 852.152,1183.77 871.239,1210.1 890.325,1233.41 909.412,1253.92 928.499,1272 \n",
       "  947.586,1287.82 966.672,1301.73 985.759,1313.76 1004.85,1324.24 1023.93,1333.57 1043.02,1341.57 1062.11,1348.6 1081.19,1354.79 1100.28,1360.16 1119.37,1364.84 \n",
       "  1138.45,1368.95 1157.54,1372.54 1176.63,1375.75 1195.71,1378.51 1214.8,1380.95 1233.89,1383.1 1252.97,1384.99 1272.06,1386.67 1291.15,1388.14 1310.23,1389.47 \n",
       "  1329.32,1390.62 1348.41,1391.67 1367.49,1392.58 1386.58,1393.4 1405.67,1394.14 1424.75,1394.78 1443.84,1395.37 1462.93,1395.9 1482.01,1396.37 1501.1,1396.8 \n",
       "  1520.19,1397.17 1539.28,1397.52 1558.36,1397.84 1577.45,1398.12 1596.54,1398.37 1615.62,1398.61 1634.71,1398.82 1653.8,1399.01 1672.88,1399.18 1691.97,1399.35 \n",
       "  1711.06,1399.49 1730.14,1399.63 1749.23,1399.75 1768.32,1399.86 1787.4,1399.96 1806.49,1400.06 1825.58,1400.15 1844.66,1400.23 1863.75,1400.3 1882.84,1400.37 \n",
       "  1901.92,1400.43 1921.01,1400.49 1940.1,1400.54 1959.18,1400.59 1978.27,1400.64 1997.36,1400.68 2016.44,1400.72 2035.53,1400.76 2054.62,1400.79 2073.7,1400.83 \n",
       "  2092.79,1400.86 2111.88,1400.88 2130.96,1400.91 2150.05,1400.94 2169.14,1400.96 2188.23,1400.98 2207.31,1401 2226.4,1401.02 2245.49,1401.04 2264.57,1401.05 \n",
       "  \n",
       "  \"/>\n",
       "</svg>\n"
      ]
     },
     "execution_count": 37,
     "metadata": {},
     "output_type": "execute_result"
    }
   ],
   "source": [
    "model = SVDModel(100, SGD(nepochs=100, lr=0.01, reg=0.0))\n",
    "costs = Vector{Float64}()\n",
    "@time fit!(model, ratings, cb=(epoch, cost) -> \n",
    "    begin\n",
    "        IJulia.clear_output(true)\n",
    "        println(\"Processed epoch #$(epoch): $(cost)\")\n",
    "        push!(costs, cost)\n",
    "        end)\n",
    "plot(costs, xlabel=\"iterations\", ylabel=\"cost\", legend=false)"
   ]
  },
  {
   "cell_type": "code",
   "execution_count": null,
   "metadata": {},
   "outputs": [],
   "source": [
    "score(model, ratings)"
   ]
  },
  {
   "cell_type": "markdown",
   "metadata": {},
   "source": [
    "### Custom Iterator"
   ]
  },
  {
   "cell_type": "code",
   "execution_count": null,
   "metadata": {},
   "outputs": [],
   "source": [
    "struct Foo\n",
    "    x::Int64\n",
    "end"
   ]
  },
  {
   "cell_type": "code",
   "execution_count": null,
   "metadata": {},
   "outputs": [],
   "source": [
    "function Base.iterate(f::Foo, state=(f.x, 0))\n",
    "    len, count = state\n",
    "    if count >= len\n",
    "        return nothing\n",
    "    end\n",
    "    \n",
    "    return (count+1, (f.x, count+1))\n",
    "end"
   ]
  },
  {
   "cell_type": "code",
   "execution_count": null,
   "metadata": {},
   "outputs": [],
   "source": [
    "f = Foo(10)\n",
    "iterate(f)\n",
    "\n",
    "for i in Foo(5)\n",
    "    println(i)\n",
    "end"
   ]
  },
  {
   "cell_type": "code",
   "execution_count": null,
   "metadata": {},
   "outputs": [],
   "source": [
    "length(Foo(5))"
   ]
  },
  {
   "cell_type": "code",
   "execution_count": null,
   "metadata": {},
   "outputs": [],
   "source": [
    "mutable struct Ratings{T}\n",
    "    src::T\n",
    "end\n",
    "\n",
    "function Base.iterate(ratings::Ratings{IOStream}, state=ratings.src)\n",
    "    s::IOStream = ratings.src\n",
    "    \n",
    "    if eof(s)\n",
    "        return nothing\n",
    "    end\n",
    "    \n",
    "    return (readline(s), ratings.src)\n",
    "end\n",
    "\n",
    "function Base.IteratorSize(t::Type{Ratings{IOStream}})\n",
    "    return Base.SizeUnknown\n",
    "end"
   ]
  },
  {
   "cell_type": "code",
   "execution_count": null,
   "metadata": {},
   "outputs": [],
   "source": [
    "open(\"/Users/guillaume/Downloads/ml-latest-small/ratings.csv\", \"r\") do f\n",
    "    \n",
    "    for line in Ratings(f)\n",
    "        println(line)\n",
    "    end\n",
    "end"
   ]
  }
 ],
 "metadata": {
  "kernelspec": {
   "display_name": "Julia 1.0.1",
   "language": "julia",
   "name": "julia-1.0"
  },
  "language_info": {
   "file_extension": ".jl",
   "mimetype": "application/julia",
   "name": "julia",
   "version": "1.0.2"
  }
 },
 "nbformat": 4,
 "nbformat_minor": 2
}
