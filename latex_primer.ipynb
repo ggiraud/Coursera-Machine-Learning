{
 "cells": [
  {
   "cell_type": "markdown",
   "metadata": {},
   "source": [
    "# Tools\n",
    "\n",
    "- [Detexify](http://detexify.kirelabs.org/classify.html)"
   ]
  },
  {
   "cell_type": "markdown",
   "metadata": {},
   "source": [
    "# Inline style ($)\n",
    "\n",
    "```markdown\n",
    "> La variable $x$ vaut: $\\frac{3}{4}$, $\\sum_{i=1}^{m}x_i^2$.\n",
    "```\n",
    "\n",
    "> La variable $x$ vaut: $\\frac{3}{4}$, $\\sum_{i=1}^{m}x_i^2$."
   ]
  },
  {
   "cell_type": "markdown",
   "metadata": {},
   "source": [
    "# Inline style with Display size\n",
    "\n",
    "```markdown\n",
    "> La variable $x$ vaut: $\\displaystyle\\frac{3}{4}$, \n",
    "$\\displaystyle\\sum_{i=1}^{m}x_i^2$.\n",
    "```\n",
    "\n",
    "> La variable $x$ vaut: $\\displaystyle\\frac{3}{4}$, $\\displaystyle\\sum_{i=1}^{m}x_i^2$."
   ]
  },
  {
   "cell_type": "markdown",
   "metadata": {},
   "source": [
    "# Display style ($$)\n",
    "\n",
    "```markdown\n",
    "> La variable $x$ vaut: $$\\frac{3}{4}$$, $$\\sum_{i=1}^{m}x_i^2$$.\n",
    "```\n",
    "\n",
    "> La variable $x$ vaut: $$\\frac{3}{4}$$, $$\\sum_{i=1}^{m}x_i^2$$."
   ]
  },
  {
   "cell_type": "markdown",
   "metadata": {},
   "source": [
    "# Exposant (superscript)\n",
    "\n",
    "```markdown\n",
    "> $x^2$\n",
    "```\n",
    "\n",
    "> $x^2$"
   ]
  },
  {
   "cell_type": "markdown",
   "metadata": {},
   "source": [
    "# Subscript\n",
    "\n",
    "```markdown\n",
    "> $\\theta_1\\;\\theta_{1}$\n",
    "```\n",
    "\n",
    "> $\\theta_1\\;\\theta_{1}$"
   ]
  },
  {
   "cell_type": "markdown",
   "metadata": {},
   "source": [
    "# Spaces\n",
    "\n",
    "[Spacing in math mode](https://fr.sharelatex.com/learn/Spacing_in_math_mode)\n",
    "\n",
    "```markdown\n",
    "> $0\\qquad0\\quad0\\;0\\:0\\,0\\!0$\n",
    ">\n",
    "> $0\\ 0$\n",
    "```\n",
    "\n",
    "> $0\\qquad0\\quad0\\;0\\:0\\,0\\!0$\n",
    ">\n",
    "> $0\\ 0$"
   ]
  },
  {
   "cell_type": "markdown",
   "metadata": {},
   "source": [
    "# Sum\n",
    "\n",
    "```markdown\n",
    "> $\\displaystyle \\sum_{i=1}^{m}x_{i}^{2}$\n",
    "```\n",
    "\n",
    "> $\\displaystyle \\sum_{i=1}^{m}x_{i}^{2}$"
   ]
  },
  {
   "cell_type": "markdown",
   "metadata": {},
   "source": [
    "# Matrices\n",
    "\n",
    "```markdown\n",
    "> $\\displaystyle I = \\begin{bmatrix}\n",
    "1 & 0 & 0 \\\\\n",
    "0 & 1 & 0 \\\\\n",
    "0 & 0 & 1 \\end{bmatrix}$\n",
    "```\n",
    "\n",
    "> $\\displaystyle I = \\begin{bmatrix}\n",
    "1 & 0 & 0 \\\\\n",
    "0 & 1 & 0 \\\\\n",
    "0 & 0 & 1 \\end{bmatrix}$\n",
    ">\n",
    "\n",
    "```markdown\n",
    "> $\\displaystyle I = \\begin{matrix}\n",
    "1 & 0 & 0 \\\\\n",
    "0 & 1 & 0 \\\\\n",
    "0 & 0 & 1 \\end{matrix}$\n",
    "```\n",
    "\n",
    "> $\\displaystyle I = \\begin{matrix}\n",
    "1 & 0 & 0 \\\\\n",
    "0 & 1 & 0 \\\\\n",
    "0 & 0 & 1 \\end{matrix}$\n",
    ">\n",
    "\n",
    "```markdown\n",
    "> $\\displaystyle I = \\begin{pmatrix}\n",
    "1 & 0 & 0 \\\\\n",
    "0 & 1 & 0 \\\\\n",
    "0 & 0 & 1 \\end{pmatrix}$\n",
    "```\n",
    "\n",
    "> $\\displaystyle I = \\begin{pmatrix}\n",
    "1 & 0 & 0 \\\\\n",
    "0 & 1 & 0 \\\\\n",
    "0 & 0 & 1 \\end{pmatrix}$\n",
    ">\n",
    "\n",
    "```markdown\n",
    "> $\\displaystyle I = \\begin{vmatrix}\n",
    "1 & 0 & 0 \\\\\n",
    "0 & 1 & 0 \\\\\n",
    "0 & 0 & 1 \\end{vmatrix}$\n",
    "```\n",
    "\n",
    "> $\\displaystyle I = \\begin{vmatrix}\n",
    "1 & 0 & 0 \\\\\n",
    "0 & 1 & 0 \\\\\n",
    "0 & 0 & 1 \\end{vmatrix}$\n",
    ">\n",
    "\n",
    "```markdown\n",
    "> $\\displaystyle I = \\begin{Vmatrix}\n",
    "1 & 0 & 0 \\\\\n",
    "0 & 1 & 0 \\\\\n",
    "0 & 0 & 1 \\end{Vmatrix}$\n",
    "```\n",
    "\n",
    "> $\\displaystyle I = \\begin{Vmatrix}\n",
    "1 & 0 & 0 \\\\\n",
    "0 & 1 & 0 \\\\\n",
    "0 & 0 & 1 \\end{Vmatrix}$"
   ]
  },
  {
   "cell_type": "markdown",
   "metadata": {},
   "source": [
    "# Uppercase symbols\n",
    "\n",
    "```markdown\n",
    "> $\\lambda$\n",
    "```\n",
    "\n",
    "> $\\lambda$\n",
    ">\n",
    "\n",
    "```markdown\n",
    "> $\\Lambda$\n",
    "```\n",
    "\n",
    "> $\\Lambda$"
   ]
  },
  {
   "cell_type": "markdown",
   "metadata": {},
   "source": [
    "# Text\n",
    "\n",
    "```markdown\n",
    "> $Un deux trois$\n",
    "```\n",
    "\n",
    "> $Un deux trois$\n",
    ">\n",
    "\n",
    "```markdown\n",
    "> $\\text{Un deux trois } quatre$\n",
    "```\n",
    "\n",
    "> $\\text{Un deux trois } quatre$"
   ]
  },
  {
   "cell_type": "markdown",
   "metadata": {},
   "source": [
    "# Multiplication\n",
    "\n",
    "```markdown\n",
    "> $2 \\times 3 = 6$\n",
    "```\n",
    "\n",
    "> $2 \\times 3 = 6$"
   ]
  },
  {
   "cell_type": "markdown",
   "metadata": {},
   "source": [
    "# Element-wise product\n",
    "\n",
    "```markdown\n",
    "> $$\\begin{bmatrix}\n",
    "1 & 2 \\\\\n",
    "2 & 3 \\end{bmatrix} \\otimes \\begin{bmatrix}\n",
    "2 & 1 \\\\\n",
    "1 & 3 \\end{bmatrix} = \\begin{bmatrix}\n",
    "2 & 2 \\\\\n",
    "2 & 6 \\end{bmatrix}$$\n",
    "```\n",
    "\n",
    "> $$\\begin{bmatrix}\n",
    "1 & 2 \\\\\n",
    "2 & 3 \\end{bmatrix} \\otimes \\begin{bmatrix}\n",
    "2 & 1 \\\\\n",
    "1 & 3 \\end{bmatrix} = \\begin{bmatrix}\n",
    "2 & 2 \\\\\n",
    "2 & 6 \\end{bmatrix}$$"
   ]
  },
  {
   "cell_type": "markdown",
   "metadata": {},
   "source": [
    "# Alignment\n",
    "\n",
    "Align is done according to ampersand position.\n",
    "\n",
    "```markdown\n",
    "> $$\\begin{align}\n",
    "foo &= 3x^2 + 2x + 5 \\\\\n",
    "g &= 5x^2 -x + 2\n",
    "\\end{align}$$\n",
    "```\n",
    "\n",
    "> $$\\begin{align}\n",
    "foo &= 3x^2 + 2x + 5 \\\\\n",
    "g &= 5x^2 -x + 2\n",
    "\\end{align}$$\n",
    "\n",
    "See also [Aligning equations with amsmath](https://fr.sharelatex.com/learn/Aligning_equations_with_amsmath)."
   ]
  },
  {
   "cell_type": "markdown",
   "metadata": {},
   "source": [
    "# Real numbers space\n",
    "\n",
    "```markdown\n",
    "> $x \\in \\mathbb{R}^3$\n",
    "```\n",
    "\n",
    "> $x \\in \\mathbb{R}^3$"
   ]
  },
  {
   "cell_type": "markdown",
   "metadata": {},
   "source": [
    "# Bold\n",
    "\n",
    "```markdown\n",
    "> $x \\rightarrow \\mathbf{x}$\n",
    "```\n",
    "\n",
    "> $x \\rightarrow \\mathbf{x}$"
   ]
  },
  {
   "cell_type": "markdown",
   "metadata": {},
   "source": [
    "# Cases\n",
    "\n",
    "Align is done according to ampersand position.\n",
    "\n",
    "```markdown\n",
    "> $$\n",
    "x = \\begin{cases}\n",
    "0 & \\text{if odd} \\\\\n",
    "1 & \\text{if even} \\end{cases}$$\n",
    "```\n",
    "\n",
    "> $$\n",
    "x = \\begin{cases}\n",
    "0 & \\text{if odd} \\\\\n",
    "1 & \\text{if even} \\end{cases}$$"
   ]
  },
  {
   "cell_type": "markdown",
   "metadata": {},
   "source": [
    "# Expression warp\n",
    "\n",
    "```markdown\n",
    "> $$\\left(\\frac{3}{4}\\right)$$\n",
    "```\n",
    "\n",
    "> $$\\left(\\frac{3}{4}\\right)$$"
   ]
  },
  {
   "cell_type": "markdown",
   "metadata": {},
   "source": [
    "# Bracket sizes\n",
    "\n",
    "[Brackets and Parentheses](https://fr.sharelatex.com/learn/Brackets_and_Parentheses)\n",
    "\n",
    "```markdown\n",
    "> $$\\big( \\Big( \\bigg( \\Bigg($$\n",
    "```\n",
    "\n",
    "> $$\\big( \\Big( \\bigg( \\Bigg($$"
   ]
  },
  {
   "cell_type": "code",
   "execution_count": null,
   "metadata": {},
   "outputs": [],
   "source": []
  }
 ],
 "metadata": {
  "kernelspec": {
   "display_name": "Python 3",
   "language": "python",
   "name": "python3"
  },
  "language_info": {
   "codemirror_mode": {
    "name": "ipython",
    "version": 3
   },
   "file_extension": ".py",
   "mimetype": "text/x-python",
   "name": "python",
   "nbconvert_exporter": "python",
   "pygments_lexer": "ipython3",
   "version": "3.6.3"
  }
 },
 "nbformat": 4,
 "nbformat_minor": 2
}
