{
 "cells": [
  {
   "cell_type": "code",
   "execution_count": 1,
   "metadata": {},
   "outputs": [],
   "source": [
    "%matplotlib inline\n",
    "import matplotlib.pyplot as plt\n",
    "import numpy as np\n",
    "from scipy.io import loadmat\n",
    "from scipy.spatial.distance import pdist, squareform"
   ]
  },
  {
   "cell_type": "markdown",
   "metadata": {},
   "source": [
    "### Load Data\n",
    "\n",
    "> $Y, R \\in \\mathbb{R}^{1682 \\times 943}$"
   ]
  },
  {
   "cell_type": "code",
   "execution_count": 2,
   "metadata": {},
   "outputs": [],
   "source": [
    "data = loadmat('ex8_movies.mat')\n",
    "Y, R = data['Y'].astype(float), data['R'].astype(float)"
   ]
  },
  {
   "cell_type": "markdown",
   "metadata": {},
   "source": [
    "### Item-Based Adjusted Cosine Similarity\n",
    "\n",
    "> $\\displaystyle s_{i,j} = \\frac{\\sum_{x} (r_{xi} - \\bar{r}_x) (r_{xj} - \\bar{r}_x)}\n",
    "{\\sqrt{\\sum_{x}(r_{xi} - \\bar{r}_x)^2} \\sqrt{\\sum_{x}(r_{xj} - \\bar{r}_x)^2}}$\n",
    "\n",
    "$r_{xi}$ is a rating of user $x$ on item $i$.\n",
    "\n",
    "$r_{xj}$ is a rating of user $x$ on item $j$.\n",
    "\n",
    "$\\bar{r}_{x}$ is the mean of all the rating of user $x$."
   ]
  },
  {
   "cell_type": "code",
   "execution_count": 3,
   "metadata": {},
   "outputs": [],
   "source": [
    "def adjusted_cosine_matrix(Y, R):\n",
    "    sum_user_ratings = np.sum(R, axis=0)\n",
    "    mean_user_ratings = np.sum(Y, axis=0) / np.where(sum_user_ratings > 0, sum_user_ratings, np.ones_like(sum_user_ratings))\n",
    "    Y_meaned = np.where(R == 1, Y - mean_user_ratings, np.zeros_like(Y))\n",
    "    Y_norm = np.linalg.norm(Y_meaned, axis=1, keepdims=True)\n",
    "    return (Y_meaned @ Y_meaned.T) / (Y_norm @ Y_norm.T)"
   ]
  },
  {
   "cell_type": "code",
   "execution_count": 4,
   "metadata": {},
   "outputs": [
    {
     "data": {
      "text/plain": [
       "array([[ 1.        , -0.05836654, -0.06555991, ...,  0.        ,\n",
       "         0.05337722, -0.03320282],\n",
       "       [-0.05836654,  1.        ,  0.03355092, ...,  0.        ,\n",
       "         0.00192627,  0.03645238],\n",
       "       [-0.06555991,  0.03355092,  1.        , ...,  0.        ,\n",
       "         0.        ,  0.03323839],\n",
       "       ...,\n",
       "       [ 0.        ,  0.        ,  0.        , ...,  1.        ,\n",
       "         0.        ,  0.        ],\n",
       "       [ 0.05337722,  0.00192627,  0.        , ...,  0.        ,\n",
       "         1.        ,  0.        ],\n",
       "       [-0.03320282,  0.03645238,  0.03323839, ...,  0.        ,\n",
       "         0.        ,  1.        ]])"
      ]
     },
     "execution_count": 4,
     "metadata": {},
     "output_type": "execute_result"
    }
   ],
   "source": [
    "adjusted_cosine_matrix(Y,R)"
   ]
  },
  {
   "cell_type": "code",
   "execution_count": 4,
   "metadata": {},
   "outputs": [],
   "source": [
    "# Too Slow\n",
    "def adj_cos(Y, R):\n",
    "    sum_user_ratings = np.sum(R, axis=0)\n",
    "    mean_user_ratings = np.sum(Y, axis=0) / np.where(sum_user_ratings > 0, sum_user_ratings, np.ones_like(sum_user_ratings))\n",
    "    Y_meaned = np.where(R == 1, Y - mean_user_ratings, np.zeros_like(Y))\n",
    "    return 1-squareform(pdist(Y_meaned, metric='cosine'))"
   ]
  },
  {
   "cell_type": "markdown",
   "metadata": {},
   "source": [
    "### Collaborative Filtering\n",
    "> $\\displaystyle \\hat{r}_{xi} = \\frac{\\sum_{j \\in N(i,x)} s_{ij} \\cdot r_{xj}}{\\sum_{j \\in N(i,x)} s_{ij}}$\n",
    "\n",
    "$s_{ij}$ is the **similarity** of items $i$ and $j$.\n",
    "\n",
    "$r_{xj}$ is the **rating** of user $x$ on item $j$.\n",
    "\n",
    "$N(i,x)$ is the set of **items similar** to item $i$ that were **rated** by user $x$."
   ]
  },
  {
   "cell_type": "code",
   "execution_count": 5,
   "metadata": {},
   "outputs": [],
   "source": [
    "def co_filtering(Y, R, S, x, i, k=10):\n",
    "    user_rated_indexes = np.nonzero(R[:, x] == 1)[0]\n",
    "    user_rated_sims = S[user_rated_indexes, i]\n",
    "    knn_indexes = np.argsort(user_rated_sims)[:-k-1:-1]\n",
    "    knn_sims = user_rated_sims[knn_indexes]\n",
    "    knn_ratings = Y[user_rated_indexes[knn_indexes], x]\n",
    "    return (knn_sims @ knn_ratings) / knn_sims.sum()"
   ]
  },
  {
   "cell_type": "markdown",
   "metadata": {},
   "source": [
    "### Including Global Effects\n",
    "\n",
    "> $\\displaystyle \\hat{r}_{xi} = b_{xi} + \\frac{\\sum_{j \\in N(i,x)} s_{ij} \\cdot (r_{xj} - b_{xj})}{\\sum_{j \\in N(i,x)} s_{ij}}$\n",
    "\n",
    "Where we use the **baseline** $b_{xi}$.\n",
    "\n",
    "$b_{xi} = \\mu + b_x + b_i$\n",
    "\n",
    "$\\mu$ is the **overall mean rating**.\n",
    "\n",
    "$b_x$ is the **rating deviation** of user $x$:\n",
    "> $b_x$ = (average rating of user $x$) - $\\mu$\n",
    "\n",
    "$b_i$ is the **rating deviation** of item $i$:\n",
    "> $b_i$ = (average rating of item $i$) - $\\mu$"
   ]
  },
  {
   "cell_type": "code",
   "execution_count": 6,
   "metadata": {},
   "outputs": [],
   "source": [
    "def baseline_matrix(Y, R):\n",
    "    sum_global_ratings = np.sum(R)\n",
    "    mean_global_ratings = np.sum(Y) / np.where(sum_global_ratings > 0,\n",
    "                                                     sum_global_ratings,\n",
    "                                                     np.ones_like(sum_global_ratings))\n",
    "    sum_user_ratings = np.sum(R, axis=0)\n",
    "    mean_user_ratings = np.sum(Y, axis=0) / np.where(sum_user_ratings > 0,\n",
    "                                                     sum_user_ratings,\n",
    "                                                     np.ones_like(sum_user_ratings))\n",
    "    sum_item_ratings = np.sum(R, axis=1)\n",
    "    mean_item_ratings = np.sum(Y, axis=1) / np.where(sum_item_ratings > 0,\n",
    "                                                     sum_item_ratings,\n",
    "                                                     np.ones_like(sum_item_ratings))\n",
    "    user_deviations = np.reshape(mean_user_ratings - mean_global_ratings, (1,-1))\n",
    "    item_deviations = np.reshape(mean_item_ratings - mean_global_ratings, (-1,1))\n",
    "    return mean_global_ratings + item_deviations + user_deviations"
   ]
  },
  {
   "cell_type": "code",
   "execution_count": 7,
   "metadata": {},
   "outputs": [],
   "source": [
    "def co_filtering_with_baseline(Y, R, B, S, x, i, k=10):\n",
    "    user_rated_indexes = np.nonzero(R[:, x] == 1)[0]\n",
    "    user_rated_sims = S[user_rated_indexes, i]\n",
    "    knn_indexes = np.argsort(user_rated_sims)[:-k-1:-1]\n",
    "    knn_sims = user_rated_sims[knn_indexes]\n",
    "    knn_ratings = Y[user_rated_indexes[knn_indexes], x]\n",
    "    knn_deviations = B[user_rated_indexes[knn_indexes], x]\n",
    "    return (knn_sims @ (knn_ratings - knn_deviations)) / knn_sims.sum()"
   ]
  },
  {
   "cell_type": "code",
   "execution_count": 8,
   "metadata": {},
   "outputs": [],
   "source": [
    "def predict(Y, R, x, i, baseline=True, k=10):\n",
    "    S = adjusted_cosine_matrix(Y, R)\n",
    "    if baseline:\n",
    "        B = baseline_matrix(Y, R)\n",
    "        return B[i, x] + co_filtering_with_baseline(Y, R, B, S, x, i, k)\n",
    "    return co_filtering(Y, R, S, x, i, k)"
   ]
  },
  {
   "cell_type": "code",
   "execution_count": 9,
   "metadata": {},
   "outputs": [],
   "source": [
    "def predict_matrix(Y, R, baseline=True, k=10):\n",
    "    S = adjusted_cosine_matrix(Y, R)\n",
    "    if baseline:\n",
    "        B = baseline_matrix(Y, R)\n",
    "    predictions = np.zeros_like(Y)\n",
    "    for i in np.arange(Y.shape[0]):\n",
    "        for x in np.arange(Y.shape[1]):\n",
    "            if baseline:\n",
    "                predictions[i, x] = B[i, x] + co_filtering_with_baseline(Y, R, B, S, x, i, k)\n",
    "            else:\n",
    "                predictions[i, x] = co_filtering(Y, R, S, x, i, k)\n",
    "    return predictions"
   ]
  },
  {
   "cell_type": "code",
   "execution_count": 10,
   "metadata": {},
   "outputs": [
    {
     "data": {
      "text/plain": [
       "5.0"
      ]
     },
     "execution_count": 10,
     "metadata": {},
     "output_type": "execute_result"
    }
   ],
   "source": [
    "# !!! Virer element initial des rated_indexes !!!\n",
    "predict(Y,R,0,0,k=1)"
   ]
  },
  {
   "cell_type": "markdown",
   "metadata": {},
   "source": [
    "### Root Mean Squared Error (RMSE)\n",
    "\n",
    "> $\\displaystyle RMSE = \\frac{1}{|R|} \\sqrt{\\sum_{(i,x)}(\\hat{r}_{xi} - r_{xi})^2}$\n",
    "\n",
    "$R$ is the ratings matrix, $R \\in \\mathbb{R}^{m \\times n}$.\n",
    "\n",
    "$\\hat{r}_{xi}$ is a **Predicted** rating of user $x$ on item $i$.\n",
    "\n",
    "$r_{xi}$ is a **True** rating of user $x$ on item $i$.\n",
    "\n",
    "$|R|$ is the total number of ratings."
   ]
  },
  {
   "cell_type": "code",
   "execution_count": 11,
   "metadata": {},
   "outputs": [],
   "source": [
    "def cost(Y, R, coords, k=10):\n",
    "    S = adjusted_cosine_matrix(Y, R)\n",
    "    B = baseline_matrix(Y, R)\n",
    "    R_mod = R.copy()\n",
    "    Y_mod = Y.copy()\n",
    "    total = 0\n",
    "    \n",
    "    for i,x in coords:\n",
    "        R_mod[i,x] = 0\n",
    "        Y_mod[i,x] = 0\n",
    "        \n",
    "    for i,x in coords:\n",
    "        prediction = B[i, x] + co_filtering_with_baseline(Y_mod, R_mod, B, S, x, i, k)\n",
    "        rating = Y[i, x]\n",
    "        total += np.square(prediction - rating)\n",
    "        \n",
    "    return np.sqrt(total) / len(coords)"
   ]
  },
  {
   "cell_type": "code",
   "execution_count": 12,
   "metadata": {},
   "outputs": [
    {
     "data": {
      "text/plain": [
       "0.0195511361746001"
      ]
     },
     "execution_count": 12,
     "metadata": {},
     "output_type": "execute_result"
    }
   ],
   "source": [
    "coords = list(zip(*np.nonzero(R==1)))\n",
    "np.random.shuffle(coords)\n",
    "coords = coords[:10000]\n",
    "cost(Y, R, coords, k=15)"
   ]
  },
  {
   "cell_type": "code",
   "execution_count": 13,
   "metadata": {},
   "outputs": [
    {
     "name": "stdout",
     "output_type": "stream",
     "text": [
      "2.9379116465863455 2.0\n",
      "4.587160594896984 2.0\n",
      "3.13093463913136 3.0\n",
      "3.7041781631848636 5.0\n",
      "3.9254043349103314 5.0\n",
      "4.727683178534571 3.0\n",
      "2.386843853820598 3.0\n",
      "3.9686034392912974 4.0\n",
      "1.001655172413793 5.0\n",
      "3.2151162790697674 3.0\n"
     ]
    }
   ],
   "source": [
    "coords = list(zip(*np.nonzero(R==1)))\n",
    "np.random.shuffle(coords)\n",
    "test = coords[:10]\n",
    "R_mod = R.copy()\n",
    "Y_mod = Y.copy()\n",
    "for i,x in test:\n",
    "    R_mod[i,x] = 0\n",
    "    Y_mod[i,x] = 0\n",
    "S = adjusted_cosine_matrix(Y_mod, R_mod)\n",
    "B = baseline_matrix(Y_mod, R_mod)\n",
    "for i, x in test:\n",
    "    p = B[i, x] + co_filtering_with_baseline(Y_mod, R_mod, B, S, x, i, k=1)\n",
    "    v = Y[i, x]\n",
    "    print(p, v)"
   ]
  }
 ],
 "metadata": {
  "kernelspec": {
   "display_name": "Python 3",
   "language": "python",
   "name": "python3"
  },
  "language_info": {
   "codemirror_mode": {
    "name": "ipython",
    "version": 3
   },
   "file_extension": ".py",
   "mimetype": "text/x-python",
   "name": "python",
   "nbconvert_exporter": "python",
   "pygments_lexer": "ipython3",
   "version": "3.6.6"
  }
 },
 "nbformat": 4,
 "nbformat_minor": 2
}
