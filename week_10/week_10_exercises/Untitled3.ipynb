{
 "cells": [
  {
   "cell_type": "code",
   "execution_count": 1,
   "metadata": {},
   "outputs": [],
   "source": [
    "using Distributed, LibPQ, DataStreams, DataFrames, SharedArrays, Suppressor, Distributions, SparseArrays, IJulia, Plots"
   ]
  },
  {
   "cell_type": "markdown",
   "metadata": {},
   "source": [
    "### Create workers"
   ]
  },
  {
   "cell_type": "code",
   "execution_count": 2,
   "metadata": {},
   "outputs": [],
   "source": [
    "addprocs(4)\n",
    "\n",
    "@everywhere using LinearAlgebra, LibPQ, DataFrames, SparseArrays, SharedArrays"
   ]
  },
  {
   "cell_type": "markdown",
   "metadata": {},
   "source": [
    "### Define utility functions"
   ]
  },
  {
   "cell_type": "code",
   "execution_count": null,
   "metadata": {},
   "outputs": [],
   "source": [
    "@inline function predict(i::Int64, u::Int64, μ::Float64, P::SharedMatrix{Float64,}, Q::SharedMatrix{Float64})::Float64\n",
    "    @views μ + P[i,2] + Q[u,2] + dot(P[i, 3:end],Q[u, 3:end])\n",
    "end"
   ]
  },
  {
   "cell_type": "code",
   "execution_count": null,
   "metadata": {},
   "outputs": [],
   "source": [
    "function cost(items_map::SparseVector{Int64,Int64}, users_map::SparseVector{Int64,Int64},\n",
    "        P::SharedMatrix{Float64,}, Q::SharedMatrix{Float64},\n",
    "        μ::Float64)::Float64\n",
    "\n",
    "    LibPQ.Connection(\"host=localhost dbname=postgres\"; type_map=Dict(:int4=>Int64, :float4=>Float64)) do conn\n",
    "        table::String = \"ml_small\"\n",
    "        limit::Int64 = 10000\n",
    "        offset::Int64 = 0\n",
    "        total::Float64 = 0.0\n",
    "        i::Int64 = 0\n",
    "        u::Int64 = 0\n",
    "        \n",
    "        while true\n",
    "            rt = fetch!(Data.RowTable, LibPQ.execute(conn, \"\"\"\n",
    "                SELECT\n",
    "                    \"movieId\" AS \"itemId\",\n",
    "                    \"userId\", \"rating\"\n",
    "                FROM $table\n",
    "                LIMIT $limit\n",
    "                OFFSET $offset;\n",
    "            \"\"\"));\n",
    "\n",
    "            for row in rt\n",
    "                i = items_map[row.itemId]\n",
    "                u = users_map[row.userId]\n",
    "                total += abs2(predict(i, u, μ, P, Q) - row.rating)\n",
    "            end\n",
    "            \n",
    "            if size(rt, 1) < limit\n",
    "                break\n",
    "            end\n",
    "            \n",
    "            offset += limit\n",
    "        end\n",
    "        \n",
    "        total\n",
    "    end\n",
    "end"
   ]
  },
  {
   "cell_type": "code",
   "execution_count": null,
   "metadata": {},
   "outputs": [],
   "source": [
    "@everywhere function lstq(conn::LibPQ.Connection, table::Symbol, item::Int64,\n",
    "        src_column::Symbol, dst_column::Symbol,\n",
    "        src_map::SparseVector{Int64,Int64}, dst_map::SparseVector{Int64,Int64},\n",
    "        S::SharedMatrix{Float64,}, D::SharedMatrix{Float64},\n",
    "        μ::Float64, reg::Float64)\n",
    "    \n",
    "    nt = fetch!(NamedTuple, LibPQ.execute(conn, \"\"\"\n",
    "        SELECT\n",
    "            \"$src_column\",\n",
    "            \"rating\"\n",
    "        FROM $table\n",
    "        WHERE \"$dst_column\" = $item\n",
    "        ORDER BY \"$src_column\";\n",
    "    \"\"\"));\n",
    "    \n",
    "    src_filtered_by_item = src_map[nt[src_column]]\n",
    "    ratings_filtered_by_item = nt[:rating]\n",
    "    A = @view S[src_filtered_by_item,[1; 3:end]]\n",
    "    b = ratings_filtered_by_item .- μ .- @view S[src_filtered_by_item, 2]\n",
    "    D[dst_map[item], 2:end] = cholesky(A'A + reg*I) \\ (A'b)\n",
    "end"
   ]
  },
  {
   "cell_type": "markdown",
   "metadata": {},
   "source": [
    "### Define ALS function"
   ]
  },
  {
   "cell_type": "code",
   "execution_count": null,
   "metadata": {},
   "outputs": [],
   "source": [
    "function als(dbstr::String, table::Symbol, k::Int64=10;\n",
    "        nepochs::Int64=10,\n",
    "        reg::Float64=0.0,\n",
    "        cb::Union{Nothing, Function}=nothing)\n",
    "    \n",
    "    μ::Float64, rating_users::Array, rated_items = LibPQ.Connection(dbstr; type_map=Dict(:int4=>Int64, :float4=>Float64)) do conn\n",
    "        LibPQ.execute(conn, \"\"\"\n",
    "            SET work_mem TO '1 GB';\n",
    "        \"\"\");\n",
    "\n",
    "        μ = fetch!(NamedTuple, LibPQ.execute(conn, \"\"\"\n",
    "            SELECT\n",
    "                AVG(\"rating\")\n",
    "            FROM $table;\n",
    "        \"\"\"))[:avg][1];\n",
    "\n",
    "        rating_users = collect(skipmissing(fetch!(NamedTuple, LibPQ.execute(conn, \"\"\"\n",
    "            SELECT DISTINCT\n",
    "                \"userId\"\n",
    "            FROM $table\n",
    "            ORDER BY \"userId\";\n",
    "        \"\"\"))[:userId]));\n",
    "\n",
    "        rated_items = collect(skipmissing(fetch!(NamedTuple, LibPQ.execute(conn, \"\"\"\n",
    "            SELECT DISTINCT\n",
    "                \"movieId\" AS \"itemId\"\n",
    "            FROM $table\n",
    "            ORDER BY \"movieId\";\n",
    "        \"\"\"))[:itemId]));\n",
    "\n",
    "        μ, rating_users, rated_items;\n",
    "    end;\n",
    "\n",
    "    m::Int64, n::Int64 = length(rated_items), length(rating_users)\n",
    "    \n",
    "    items_map::SparseVector{Int64,Int64} = sparsevec(rated_items, 1:m);\n",
    "    users_map::SparseVector{Int64,Int64} = sparsevec(rating_users, 1:n);\n",
    "    \n",
    "    @everywhere workers() begin\n",
    "        conn = LibPQ.Connection(\"host=localhost dbname=postgres\"; type_map=Dict(:int4=>Int64, :float4=>Float64))\n",
    "\n",
    "        LibPQ.execute(conn, \"\"\"\n",
    "            SET work_mem TO '1GB';\n",
    "        \"\"\");\n",
    "    end\n",
    "    \n",
    "    P::SharedMatrix{Float64} = SharedMatrix{Float64}([ones(m) zeros(m) rand(Normal(0.0, 1e-4), m, k)])\n",
    "    Q::SharedMatrix{Float64} = SharedMatrix{Float64}([ones(n) zeros(n) rand(Normal(0.0, 1e-4), n, k)])\n",
    "    \n",
    "    for epoch::Int64 in 1:nepochs\n",
    "        @sync @distributed for u::Int64 in rating_users\n",
    "            global conn\n",
    "            lstq(conn, table, u,\n",
    "                :movieId, :userId,\n",
    "                items_map, users_map,\n",
    "                P, Q,\n",
    "                μ, reg)\n",
    "        end\n",
    "\n",
    "        @sync @distributed for i::Int64 in rated_items\n",
    "            global conn\n",
    "            lstq(conn, table, i,\n",
    "                :userId, :movieId,\n",
    "                users_map, items_map,\n",
    "                Q, P,\n",
    "                μ, reg)\n",
    "        end\n",
    "\n",
    "        if cb !== nothing\n",
    "            cb(epoch, cost(items_map, users_map, P, Q, μ))\n",
    "        end\n",
    "    end\n",
    "    \n",
    "    @everywhere workers() close(conn)\n",
    "    P, Q\n",
    "end"
   ]
  },
  {
   "cell_type": "markdown",
   "metadata": {},
   "source": [
    "### Compute Latent Factors"
   ]
  },
  {
   "cell_type": "code",
   "execution_count": null,
   "metadata": {},
   "outputs": [],
   "source": [
    "costs = []\n",
    "    \n",
    "@time P, Q = als(\"host=localhost dbname=postgres\", :ml_small, 100;\n",
    "    nepochs=10,\n",
    "    reg=0.001,\n",
    "    cb=(epoch, cost)->begin\n",
    "        IJulia.clear_output(true)\n",
    "        println(\"epoch: $(epoch), cost: $(cost)\")\n",
    "        push!(costs, cost)\n",
    "        end)\n",
    "\n",
    "plot(costs)"
   ]
  },
  {
   "cell_type": "markdown",
   "metadata": {},
   "source": [
    "k = 100\n",
    "nepochs = 5\n",
    "reg = 0.0001\n",
    "\n",
    "m, n = length(rated_items), length(rating_users)\n",
    "P = SharedMatrix{Float64}([ones(m) zeros(m) rand(Normal(0.0, 1e-4), m, k)])\n",
    "Q = SharedMatrix{Float64}([ones(n) zeros(n) rand(Normal(0.0, 1e-4), n, k)])\n",
    "\n",
    "@time for epoch in 1:nepochs\n",
    "    println(\"Processing users in epoch #$epoch...\")\n",
    "    @sync @distributed for u in rating_users\n",
    "        global conn\n",
    "        table = \"ml_small\"\n",
    "        df = dropmissing(fetch!(DataFrame, LibPQ.execute(conn, \"\"\"\n",
    "            SELECT \"movieId\" AS \"itemId\", \"rating\" FROM $table WHERE \"userId\" = $u ORDER BY \"movieId\";\n",
    "        \"\"\")));\n",
    "        items_rated_by_user = items_map[df[:itemId]]\n",
    "        ratings_given_by_user = df[:rating]\n",
    "        A = @view P[items_rated_by_user,[1; 3:end]]\n",
    "        b = ratings_given_by_user .- μ .- @view P[items_rated_by_user, 2]\n",
    "        Q[users_map[u], 2:end] = cholesky(A'A + reg*I) \\ (A'b)\n",
    "    end\n",
    "    \n",
    "    println(\"Processing items in epoch #$epoch...\")\n",
    "    @sync @distributed for i in rated_items\n",
    "        global conn\n",
    "        table = \"ml_small\"\n",
    "        df = dropmissing(fetch!(DataFrame, LibPQ.execute(conn, \"\"\"\n",
    "            SELECT \"userId\", \"rating\" FROM $table WHERE \"movieId\" = $i ORDER BY \"userId\";\n",
    "        \"\"\")));c\n",
    "        users_who_rated_item = users_map[df[:userId]]\n",
    "        ratings_given_to_item = df[:rating]\n",
    "        A = @view Q[users_who_rated_item,[1; 3:end]]\n",
    "        b = ratings_given_to_item .- μ .- @view Q[users_who_rated_item, 2]\n",
    "        P[items_map[i], 2:end] = cholesky(A'A + reg*I) \\ (A'b)\n",
    "    end\n",
    "\n",
    "    println(\"Processing cost in epoch #$epoch...\")\n",
    "    c = cost(items_map, users_map, P, Q, μ)\n",
    "    IJulia.clear_output(true)\n",
    "    println(\"epoch #$(epoch): $(c)\")\n",
    "end"
   ]
  },
  {
   "cell_type": "markdown",
   "metadata": {},
   "source": [
    "### Destroy workers"
   ]
  },
  {
   "cell_type": "code",
   "execution_count": null,
   "metadata": {},
   "outputs": [],
   "source": [
    "@suppress_err rmprocs(workers())"
   ]
  },
  {
   "cell_type": "markdown",
   "metadata": {},
   "source": [
    "### Tests"
   ]
  }
 ],
 "metadata": {
  "kernelspec": {
   "display_name": "Julia 1.1.0",
   "language": "julia",
   "name": "julia-1.1"
  },
  "language_info": {
   "file_extension": ".jl",
   "mimetype": "application/julia",
   "name": "julia",
   "version": "1.1.0"
  }
 },
 "nbformat": 4,
 "nbformat_minor": 2
}
