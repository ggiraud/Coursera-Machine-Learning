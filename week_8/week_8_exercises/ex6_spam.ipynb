{
 "cells": [
  {
   "cell_type": "code",
   "execution_count": 1,
   "metadata": {},
   "outputs": [
    {
     "name": "stdout",
     "output_type": "stream",
     "text": [
      "Populating the interactive namespace from numpy and matplotlib\n"
     ]
    }
   ],
   "source": [
    "%pylab inline\n",
    "from scipy.io import loadmat\n",
    "from sklearn.svm import SVC\n",
    "from nltk.stem.porter import PorterStemmer\n",
    "from nltk.tokenize import word_tokenize\n",
    "import re\n",
    "import pandas as pd"
   ]
  },
  {
   "cell_type": "code",
   "execution_count": 2,
   "metadata": {},
   "outputs": [],
   "source": [
    "with open('emailSample1.txt') as f:\n",
    "    email1_contents = f.read()"
   ]
  },
  {
   "cell_type": "markdown",
   "metadata": {},
   "source": [
    "# Preprocessing Emails"
   ]
  },
  {
   "cell_type": "code",
   "execution_count": 3,
   "metadata": {},
   "outputs": [],
   "source": [
    "vocab_df = pd.read_csv('vocab.txt',\n",
    "            delimiter='\\t',\n",
    "            header=None,\n",
    "           names=['index', 'word'])\n",
    "vocab = vocab_df.word.tolist()"
   ]
  },
  {
   "cell_type": "code",
   "execution_count": 4,
   "metadata": {},
   "outputs": [],
   "source": [
    "def processEmail(text):\n",
    "    # convert to lowercase\n",
    "    text = text.lower()\n",
    "    # strip all html tags\n",
    "    text = re.sub(r'<[^<>]*>', ' ', text)\n",
    "    # handle numbers\n",
    "    text = re.sub(r'[0-9]+', 'number', text)\n",
    "    # handle urls\n",
    "    text = re.sub(r'(http|https)://[^\\s]*', ' httpaddr ', text)\n",
    "    # handle email adrresses\n",
    "    text = re.sub(r'[^\\s]+@[^\\s]+', ' emailaddr ', text)\n",
    "    # handle $ sign\n",
    "    text = re.sub(r'\\$+', 'dollar', text)\n",
    "    # tokenize words\n",
    "    words = word_tokenize(text)\n",
    "    stemmer = PorterStemmer()\n",
    "    stemmed = [stemmer.stem(w) for w in words if w.isalpha()]\n",
    "    return [vocab.index(s) for s in stemmed if s in vocab]"
   ]
  },
  {
   "cell_type": "code",
   "execution_count": 5,
   "metadata": {},
   "outputs": [
    {
     "data": {
      "text/plain": [
       "'85 915 793 1076 882 369 1698 789 1821 1830 882 430 1170 793 1001 1892 591 1675 237 161 88 687 944 1662 1119 1061 1698 374 1161 478 1892 1509 798 1181 1236 809 1894 1439 1546 1698 1757 1895 687 1675 991 960 1476 70 529 1698 530'"
      ]
     },
     "execution_count": 5,
     "metadata": {},
     "output_type": "execute_result"
    }
   ],
   "source": [
    "word_indices = processEmail(email1_contents)\n",
    "' '.join(str(idx) for idx in word_indices)"
   ]
  },
  {
   "cell_type": "markdown",
   "metadata": {},
   "source": [
    "# Extracting Features from Emails"
   ]
  },
  {
   "cell_type": "code",
   "execution_count": 6,
   "metadata": {},
   "outputs": [],
   "source": [
    "def emailFeatures(indices):\n",
    "    features = np.zeros(1899)\n",
    "    for i in indices:\n",
    "        features[i] = 1\n",
    "    return features"
   ]
  },
  {
   "cell_type": "code",
   "execution_count": 7,
   "metadata": {},
   "outputs": [
    {
     "data": {
      "text/plain": [
       "array([0., 0., 0., ..., 0., 0., 0.])"
      ]
     },
     "execution_count": 7,
     "metadata": {},
     "output_type": "execute_result"
    }
   ],
   "source": [
    "emailFeatures(word_indices)"
   ]
  },
  {
   "cell_type": "markdown",
   "metadata": {},
   "source": [
    "# Training SVM for Spam Classification"
   ]
  },
  {
   "cell_type": "code",
   "execution_count": 8,
   "metadata": {},
   "outputs": [],
   "source": [
    "spam_train = loadmat('spamTrain.mat')\n",
    "X_train = spam_train['X']\n",
    "y_train = spam_train['y'].flatten()\n",
    "\n",
    "spam_test = loadmat('spamTest.mat')\n",
    "X_test = spam_test['Xtest']\n",
    "y_test = spam_test['ytest'].flatten()"
   ]
  },
  {
   "cell_type": "code",
   "execution_count": 9,
   "metadata": {},
   "outputs": [
    {
     "data": {
      "text/plain": [
       "(0.99825, 0.989)"
      ]
     },
     "execution_count": 9,
     "metadata": {},
     "output_type": "execute_result"
    }
   ],
   "source": [
    "clf = SVC(C=0.1, kernel=\"linear\")\n",
    "clf.fit(X_train,y_train)\n",
    "clf.score(X_train, y_train), clf.score(X_test, y_test)"
   ]
  },
  {
   "cell_type": "markdown",
   "metadata": {},
   "source": [
    "# Top Predictors forSpam"
   ]
  },
  {
   "cell_type": "code",
   "execution_count": 10,
   "metadata": {},
   "outputs": [
    {
     "data": {
      "text/plain": [
       "'our click remov guarante visit basenumb dollar will price pleas most nbsp lo ga hour al da se want dollarnumb'"
      ]
     },
     "execution_count": 10,
     "metadata": {},
     "output_type": "execute_result"
    }
   ],
   "source": [
    "' '.join([vocab[tup[0]] for tup in sorted(enumerate(clf.coef_[0]), key=lambda x: x[1], reverse=True)][:20])"
   ]
  },
  {
   "cell_type": "markdown",
   "metadata": {},
   "source": [
    "# Predict Spam Samples"
   ]
  },
  {
   "cell_type": "code",
   "execution_count": 11,
   "metadata": {},
   "outputs": [],
   "source": [
    "with open('emailSample1.txt') as f:\n",
    "    email1_contents = f.read()\n",
    "with open('emailSample2.txt') as f:\n",
    "    email2_contents = f.read()\n",
    "with open('spamSample1.txt') as f:\n",
    "    spam1_contents = f.read()\n",
    "with open('spamSample2.txt') as f:\n",
    "    spam2_contents = f.read()"
   ]
  },
  {
   "cell_type": "code",
   "execution_count": 12,
   "metadata": {},
   "outputs": [
    {
     "data": {
      "text/plain": [
       "array([0, 0, 1, 1], dtype=uint8)"
      ]
     },
     "execution_count": 12,
     "metadata": {},
     "output_type": "execute_result"
    }
   ],
   "source": [
    "email1_features = emailFeatures(processEmail(email1_contents))\n",
    "email2_features = emailFeatures(processEmail(email2_contents))\n",
    "spam1_features = emailFeatures(processEmail(spam1_contents))\n",
    "spam2_features = emailFeatures(processEmail(spam2_contents))\n",
    "clf.predict(np.vstack((email1_features,\n",
    "                       email2_features,\n",
    "                       spam1_features,\n",
    "                       spam2_features)))"
   ]
  }
 ],
 "metadata": {
  "kernelspec": {
   "display_name": "Python 3",
   "language": "python",
   "name": "python3"
  },
  "language_info": {
   "codemirror_mode": {
    "name": "ipython",
    "version": 3
   },
   "file_extension": ".py",
   "mimetype": "text/x-python",
   "name": "python",
   "nbconvert_exporter": "python",
   "pygments_lexer": "ipython3",
   "version": "3.6.6"
  }
 },
 "nbformat": 4,
 "nbformat_minor": 2
}
