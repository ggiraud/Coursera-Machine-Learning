{
 "cells": [
  {
   "cell_type": "markdown",
   "metadata": {},
   "source": [
    "# Week 7"
   ]
  },
  {
   "cell_type": "markdown",
   "metadata": {},
   "source": [
    "## Support Vector Machines (SVM)\n",
    "\n",
    "Unlike **Logistic Regression**, $h_\\theta(x)$ doesn't give us a probability, but instead we get a direct prediction of 1 or 0.\n",
    "\n",
    "SVM has a convex optimization problem, so you get a **global minimum**."
   ]
  },
  {
   "cell_type": "markdown",
   "metadata": {},
   "source": [
    "### C regularization\n",
    "\n",
    "- **Large C** gives a hypothesis of **high variance**, very **sensitive to outliers**.\n",
    "- **Small C** gives a hypothesis of **high bias**.\n",
    "\n",
    "> $\\displaystyle C = \\frac{1}{\\lambda}$."
   ]
  },
  {
   "cell_type": "markdown",
   "metadata": {},
   "source": [
    "### Gaussian Kernel (Radial Basis Function Kernel)\n",
    "\n",
    "Choose Gaussian Kernel when **$n$ is small** and/or **$m$ is large**.\n",
    "> e.g. A large 2D training set.\n",
    "\n",
    "Make sure you perform **feature scaling** before using a Gaussian kernel!\n",
    "\n",
    ">$\\displaystyle \\begin{align*}\n",
    "   K(x, x') &= \\exp(-\\frac{\\|x - x'\\|^2}{2\\sigma^2}) &\\\\\n",
    "   & = \\exp(-\\gamma\\|x - x'\\|^2) &\\text{where } \\gamma = \\frac{1}{2\\sigma^2}\n",
    "   \\end{align*}$\n",
    "\n",
    "Define $\\sigma^2$:\n",
    "\n",
    "- **Large $\\sigma^2$ (small $\\gamma$)** gives **high bias**.\n",
    "- **Small $\\sigma^2$ (large $\\gamma$)** gives **high variance**."
   ]
  },
  {
   "cell_type": "markdown",
   "metadata": {},
   "source": [
    "### Linear Kernel\n",
    "\n",
    "Means **No Kernel**!\n",
    "\n",
    "Choose Linear Kernel when **$n$ is large** and **$m$ is small**.\n",
    "> e.g. A training set with lots of features but few examples.\n",
    "\n",
    "If the **number of features is large**, using the **linear kernel is good enough**!"
   ]
  }
 ],
 "metadata": {
  "kernelspec": {
   "display_name": "Python 3",
   "language": "python",
   "name": "python3"
  },
  "language_info": {
   "codemirror_mode": {
    "name": "ipython",
    "version": 3
   },
   "file_extension": ".py",
   "mimetype": "text/x-python",
   "name": "python",
   "nbconvert_exporter": "python",
   "pygments_lexer": "ipython3",
   "version": "3.6.4"
  }
 },
 "nbformat": 4,
 "nbformat_minor": 2
}
