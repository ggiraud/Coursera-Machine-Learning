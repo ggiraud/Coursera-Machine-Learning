{
 "cells": [
  {
   "cell_type": "code",
   "execution_count": 1,
   "metadata": {},
   "outputs": [],
   "source": [
    "using Distributed"
   ]
  },
  {
   "cell_type": "code",
   "execution_count": 2,
   "metadata": {},
   "outputs": [
    {
     "data": {
      "text/plain": [
       "4-element Array{Int64,1}:\n",
       " 2\n",
       " 3\n",
       " 4\n",
       " 5"
      ]
     },
     "execution_count": 2,
     "metadata": {},
     "output_type": "execute_result"
    }
   ],
   "source": [
    "addprocs(4)"
   ]
  },
  {
   "cell_type": "code",
   "execution_count": 3,
   "metadata": {},
   "outputs": [],
   "source": [
    "using CSV, OnlineStats, Base.Threads, Random, Distributions, Plots\n",
    "@everywhere using LinearAlgebra, SparseArrays, SharedArrays"
   ]
  },
  {
   "cell_type": "markdown",
   "metadata": {},
   "source": [
    "filepath = \"/Users/guillaume/Downloads/ml-latest-small/ratings.csv\""
   ]
  },
  {
   "cell_type": "code",
   "execution_count": 17,
   "metadata": {},
   "outputs": [
    {
     "data": {
      "text/plain": [
       "\"/Users/guillaume/Downloads/ml-latest/ratings.csv\""
      ]
     },
     "execution_count": 17,
     "metadata": {},
     "output_type": "execute_result"
    }
   ],
   "source": [
    "filepath = \"/Users/guillaume/Downloads/ml-latest/ratings.csv\""
   ]
  },
  {
   "cell_type": "code",
   "execution_count": 18,
   "metadata": {},
   "outputs": [
    {
     "data": {
      "text/plain": [
       "CSV.File(\"/Users/guillaume/Downloads/ml-latest/ratings.csv\", rows=27753444):\n",
       "Tables.Schema:\n",
       " :userId     Union{Missing, Int64}  \n",
       " :movieId    Union{Missing, Int64}  \n",
       " :rating     Union{Missing, Float64}\n",
       " :timestamp  Union{Missing, Int64}  "
      ]
     },
     "execution_count": 18,
     "metadata": {},
     "output_type": "execute_result"
    }
   ],
   "source": [
    "f = CSV.File(filepath, use_mmap=true)"
   ]
  },
  {
   "cell_type": "code",
   "execution_count": 7,
   "metadata": {},
   "outputs": [],
   "source": [
    "mutable struct Rating\n",
    "    itemId::Int64\n",
    "    userId::Int64\n",
    "    value::Float64\n",
    "end"
   ]
  },
  {
   "cell_type": "code",
   "execution_count": 19,
   "metadata": {},
   "outputs": [
    {
     "data": {
      "text/plain": [
       "als_processes (generic function with 2 methods)"
      ]
     },
     "execution_count": 19,
     "metadata": {},
     "output_type": "execute_result"
    }
   ],
   "source": [
    "# TODO: Pre-allocate A, b and result\n",
    "# TODO: use --track-allocation=user\n",
    "@everywhere function lsq(F::DenseArray{Float64,2}, rows::Vector{Int64}, ratings::Vector{Float64}, μ::Float64, reg::Float64)::Vector{Float64}\n",
    "    @views A::Matrix{Float64} = [ones(length(rows)) F[rows, 2:end]]\n",
    "    @views b::Vector{Float64} = ratings .- μ .- F[rows, 1]\n",
    "    Symmetric(A'A + reg*I) \\ (A'b)\n",
    "end\n",
    "\n",
    "@inline function predict(i::Int64, u::Int64, μ::Float64, P::DenseArray{Float64,2}, Q::DenseArray{Float64,2})::Float64\n",
    "    @views μ + P[i,1] + Q[u,1] + dot(P[i,2:end],Q[u,2:end])\n",
    "end\n",
    "\n",
    "function cost(R::AbstractArray{Float64,2}, P::DenseArray{Float64,2}, Q::DenseArray{Float64,2}, μ::Float64=mean(nonzeros(R)))::Float64\n",
    "    map(zip(findnz(R)...)) do (i,u,r)\n",
    "        abs2(predict(i,u,μ,P,Q) - r)\n",
    "    end |> sum\n",
    "end\n",
    "\n",
    "function als_threads(ratings, k::Int64=10;\n",
    "        nepochs::Int64=10,\n",
    "        reg::Float64=0.0,\n",
    "        cb::Union{Nothing, Function}=nothing)\n",
    "    \n",
    "    o = Mean()\n",
    "    R::SparseMatrixCSC{Float64,Int64} = let items::Vector{Int64} = Int64[],\n",
    "                                            users::Vector{Int64} = Int64[],\n",
    "                                            values::Vector{Float64} = Float64[]\n",
    "        for r::Rating in ratings\n",
    "            push!(items, r.itemId)\n",
    "            push!(users, r.userId)\n",
    "            push!(values, r.value)\n",
    "            fit!(o, r.value)\n",
    "        end\n",
    "        sparse(items, users, values)\n",
    "    end\n",
    "    μ::Float64 = value(o)\n",
    "    \n",
    "    P::Matrix{Float64} = [zeros(R.m) rand(Normal(0.0, 1e-4), R.m, k)]\n",
    "    Q::Matrix{Float64} = [zeros(R.n) rand(Normal(0.0, 1e-4), R.n, k)]\n",
    "    \n",
    "    rated_items::Vector{Int64} = unique(sort(findnz(R)[1]))\n",
    "    rating_users::Vector{Int64} = unique(sort(findnz(R)[2]))\n",
    "    \n",
    "    for epoch::Int64 in 1:nepochs\n",
    "        @threads for u::Int64 in rating_users\n",
    "            items_rated_by_user::Vector{Int64}, ratings_given_by_user::Vector{Float64} = findnz(R[:,u])\n",
    "            q::Vector{Float64} = lsq(P, items_rated_by_user, ratings_given_by_user, μ, reg)\n",
    "            @views Q[u,:] .= q[:]\n",
    "        end\n",
    "        \n",
    "        @threads for i::Int64 in rated_items\n",
    "            users_who_rated_item::Vector{Int64}, ratings_given_to_item::Vector{Float64} = findnz(R[i,:])\n",
    "            p::Vector{Float64} = lsq(Q, users_who_rated_item, ratings_given_to_item, μ, reg)\n",
    "            @views P[i,:] .= p[:]\n",
    "        end\n",
    "\n",
    "        if cb !== nothing\n",
    "            cb(epoch, cost(R,P,Q,μ))\n",
    "        end\n",
    "    end\n",
    "    \n",
    "    return P, Q\n",
    "end\n",
    "\n",
    "@everywhere @inline function lsq(P::SharedMatrix{Float64}, Q::SharedMatrix{Float64}, T::Matrix{Float64},\n",
    "        u::Int64, nz::Tuple{Vector{Int64},Vector{Float64}}, μ::Float64, reg::Float64)::Vector{Float64}\n",
    "    @views begin\n",
    "        A = T[1:length(nz[1]), 2:end]\n",
    "        A[:, 2:end] = P[nz[1], 2:end]\n",
    "        b = T[1:length(nz[1]), 1]\n",
    "        b[:] = nz[2] .- μ .- P[nz[1], 1]\n",
    "        Q[u,:] .= cholesky(A'A + reg*I) \\ (A'b)\n",
    "    end\n",
    "end\n",
    "\n",
    "function als_processes(ratings, k::Int64=10;\n",
    "        nepochs::Int64=10,\n",
    "        reg::Float64=0.0,\n",
    "        cb::Union{Nothing, Function}=nothing)\n",
    "    \n",
    "    println(\"Parsing ratings...\")\n",
    "    o = Mean()\n",
    "    R::SparseMatrixCSC{Float64,Int64} = let items::Vector{Int64} = Int64[],\n",
    "                                            users::Vector{Int64} = Int64[],\n",
    "                                            values::Vector{Float64} = Float64[]\n",
    "        for r::Rating in ratings\n",
    "            push!(items, r.itemId)\n",
    "            push!(users, r.userId)\n",
    "            push!(values, r.value)\n",
    "            fit!(o, r.value)\n",
    "        end\n",
    "        sparse(items, users, values)\n",
    "    end\n",
    "    μ::Float64 = value(o)\n",
    "    \n",
    "    println(\"Creating matrices...\")\n",
    "    P::SharedMatrix{Float64} = SharedMatrix{Float64}([zeros(R.m) rand(Normal(0.0, 1e-4), R.m, k)])\n",
    "    Q::SharedMatrix{Float64} = SharedMatrix{Float64}([zeros(R.n) rand(Normal(0.0, 1e-4), R.n, k)])\n",
    "    \n",
    "    rated_items::Vector{Int64} = unique(sort(findnz(R)[1]))\n",
    "    rating_users::Vector{Int64} = unique(sort(findnz(R)[2]))\n",
    "    \n",
    "    @everywhere workers() T = ones(max($(R.m),$(R.n)), $(k)+2)\n",
    "    \n",
    "    println(\"Compute...\")\n",
    "    for epoch::Int64 in 1:nepochs\n",
    "        @sync @distributed for u::Int64 in rating_users\n",
    "            lsq(P, Q, T, u, findnz(R[:,u]), μ, reg)\n",
    "        end\n",
    "        \n",
    "        @sync @distributed for i::Int64 in rated_items\n",
    "            lsq(Q, P, T, i, findnz(R[i,:]), μ, reg)\n",
    "        end\n",
    "\n",
    "        if cb !== nothing\n",
    "            cb(epoch, cost(R,P,Q,μ))\n",
    "        end\n",
    "    end\n",
    "    \n",
    "    return P, Q\n",
    "end"
   ]
  },
  {
   "cell_type": "code",
   "execution_count": null,
   "metadata": {},
   "outputs": [],
   "source": [
    "let\n",
    "    costs = []\n",
    "    ratings = (Rating(r.movieId, r.userId, r.rating) for r in f)\n",
    "\n",
    "    @time P, Q = als_threads(ratings, 100;\n",
    "        nepochs=10,\n",
    "        reg=0.001,\n",
    "        cb=(epoch, cost)->begin\n",
    "            IJulia.clear_output(true)\n",
    "            println(\"epoch: $(epoch), cost: $(cost)\")\n",
    "            push!(costs, cost)\n",
    "            end)\n",
    "\n",
    "    plot(costs)\n",
    "end"
   ]
  },
  {
   "cell_type": "code",
   "execution_count": null,
   "metadata": {},
   "outputs": [
    {
     "name": "stdout",
     "output_type": "stream",
     "text": [
      "Parsing ratings...\n",
      "Creating matrices...\n",
      "Compute...\n"
     ]
    }
   ],
   "source": [
    "let\n",
    "    costs = []\n",
    "    ratings = (Rating(r.movieId, r.userId, r.rating) for r in f)\n",
    "    \n",
    "    @time P, Q = als_processes(ratings, 100;\n",
    "        nepochs=10,\n",
    "        reg=0.001,\n",
    "        cb=(epoch, cost)->begin\n",
    "            IJulia.clear_output(true)\n",
    "            println(\"epoch: $(epoch), cost: $(cost)\")\n",
    "            push!(costs, cost)\n",
    "            end)\n",
    "\n",
    "    plot(costs)\n",
    "end"
   ]
  },
  {
   "cell_type": "code",
   "execution_count": null,
   "metadata": {},
   "outputs": [],
   "source": [
    "rmprocs(workers)"
   ]
  },
  {
   "cell_type": "markdown",
   "metadata": {},
   "source": [
    "costs = []\n",
    "ratings = (Rating(r.movieId, r.userId, r.rating) for r in f)\n",
    "    \n",
    "@time P, Q = alsbiased(ratings, 100;\n",
    "    nepochs=10,\n",
    "    reg=0.001)"
   ]
  }
 ],
 "metadata": {
  "kernelspec": {
   "display_name": "Julia 1.0.1",
   "language": "julia",
   "name": "julia-1.0"
  },
  "language_info": {
   "file_extension": ".jl",
   "mimetype": "application/julia",
   "name": "julia",
   "version": "1.0.3"
  }
 },
 "nbformat": 4,
 "nbformat_minor": 2
}
