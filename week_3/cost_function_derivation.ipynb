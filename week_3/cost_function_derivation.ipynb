{
 "cells": [
  {
   "cell_type": "markdown",
   "metadata": {},
   "source": [
    " # Derivation of the Logistic Cost Function"
   ]
  },
  {
   "cell_type": "markdown",
   "metadata": {},
   "source": [
    "## Utilities\n",
    "\n",
    "1. Chain Rule\n",
    "> $\\displaystyle \\frac{\\partial\\: f(g(x))}{\\partial\\: x} = \\frac{\\partial\\: f(g(x))}{\\partial\\: g(x)} \\cdot \\frac{\\partial\\: g(x)}{\\partial \\: x}$\n",
    "2. Logarithmic Derivative\n",
    "> $\\displaystyle \\frac{\\partial\\: \\log(x)}{\\partial\\: x} = \\frac{1}{x}$\n",
    "3. Exponential Derivative\n",
    "> $\\displaystyle \\frac{\\partial\\: e^{x}}{\\partial\\: x} = e^{x}$"
   ]
  },
  {
   "cell_type": "markdown",
   "metadata": {},
   "source": [
    "## Derivation of the Sigmoid Function\n",
    "\n",
    "$\\displaystyle \\sigma(x) = \\frac{1}{1 + e^{-x}} = (1 + e^{-x})^{-1}$\n",
    "\n",
    "$\\displaystyle \\frac{\\partial\\: \\sigma(x)}{\\partial\\: x} = -(1 + e^{-x})^{-2}(-e^{-x}) = \\frac{e^{-x}}{(1 + e^{-x})^2} $\n",
    "\n",
    "$\\displaystyle \\frac{\\partial\\: \\sigma(x)}{\\partial\\: x} = \\frac{(1 + e^{-x}) - 1}{(1 + e^{-x})^2} = \\frac{1}{1 + e^{-x}} - \\frac{1}{(1 + e^{-x})^2} = \\frac{1}{1 + e^{-x}}(1 - \\frac{1}{1 + e^{-x}})$\n",
    "\n",
    "$\\displaystyle \\frac{\\partial\\: \\sigma(x)}{\\partial\\: x} = \\sigma(x)(1 - \\sigma(x))$"
   ]
  },
  {
   "cell_type": "markdown",
   "metadata": {},
   "source": [
    "## Derivation of the hypothesis\n",
    "\n",
    "$\\displaystyle h_\\theta(x) = \\frac{1}{1 + e^{-\\theta^\\top x}}$\n",
    "\n",
    "$\\displaystyle \\frac{\\partial\\: h_\\theta(x)}{\\partial\\: \\theta_j} = h_\\theta(x)(1 - h_\\theta(x))x_j$"
   ]
  },
  {
   "cell_type": "markdown",
   "metadata": {},
   "source": [
    "## Derivation of the Cost Function\n",
    "\n",
    "$\\displaystyle J(\\theta) = -\\frac{1}{m}\\bigg[\\sum_{i=1}^{m}y^{(i)} log(h_{\\theta}(\\mathbf{x}^{(i)})) + (1 - y^{(i)}) log(1 - h_{\\theta}(\\mathbf{x}^{(i)}))\\bigg]$\n",
    "\n",
    "$\\displaystyle \\frac{\\partial\\: y\\log(h_\\theta(x))}{\\partial\\: \\theta_j} = \\frac{y}{h_\\theta(x)}  h_\\theta(x)(1 - h_\\theta(x))x_j = yx_j(1 - h_\\theta(x)) = yx_j - yx_jh_\\theta(x)$\n",
    "\n",
    "$\\displaystyle \\frac{\\partial\\: (1 - y)\\log(1 - h_\\theta(x))}{\\partial\\: \\theta_j} = \\frac{1 - y}{1 - h_\\theta(x)}h_\\theta(x)(h_\\theta(x) - 1)x_j = (y - 1)h_\\theta(x)x_j = yx_jh_\\theta(x) - x_jh_\\theta(x)$\n",
    "\n",
    "$\\displaystyle \\frac{\\partial\\: J(\\theta)}{\\partial\\: \\theta_j} = -\\frac{1}{m}\\sum_{i=1}^{m}\\bigg[y^{(i)}x^{(i)}_j - y^{(i)}x^{(i)}_jh_\\theta(x^{(i)}) + y^{(i)}x^{(i)}_jh_\\theta(x^{(i)}) - x^{(i)}_jh_\\theta(x^{(i)})\\bigg] = -\\frac{1}{m}\\sum_{i=1}^{m}\\bigg[y^{(i)}x^{(i)}_j - x^{(i)}_jh_\\theta(x^{(i)})\\bigg]$\n",
    "\n",
    "$\\displaystyle \\frac{\\partial\\: J(\\theta)}{\\partial\\: \\theta_j} = \\frac{1}{m}\\sum_{i=1}^{m}\\bigg[(h_\\theta(x^{(i)}) - y^{(i)})x^{(i)}_j\\bigg]$"
   ]
  }
 ],
 "metadata": {
  "kernelspec": {
   "display_name": "Python 3",
   "language": "python",
   "name": "python3"
  },
  "language_info": {
   "codemirror_mode": {
    "name": "ipython",
    "version": 3
   },
   "file_extension": ".py",
   "mimetype": "text/x-python",
   "name": "python",
   "nbconvert_exporter": "python",
   "pygments_lexer": "ipython3",
   "version": "3.6.4"
  }
 },
 "nbformat": 4,
 "nbformat_minor": 2
}
