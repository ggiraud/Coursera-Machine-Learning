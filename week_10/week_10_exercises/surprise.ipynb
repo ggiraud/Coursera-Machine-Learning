{
 "cells": [
  {
   "cell_type": "code",
   "execution_count": 48,
   "metadata": {},
   "outputs": [],
   "source": [
    "%matplotlib inline\n",
    "import matplotlib.pyplot as plt\n",
    "import numpy as np\n",
    "from surprise import BaselineOnly, Dataset, Reader, Trainset, KNNBaseline, SVD, accuracy\n",
    "from surprise.model_selection import cross_validate, GridSearchCV\n",
    "from scipy.io import loadmat"
   ]
  },
  {
   "cell_type": "markdown",
   "metadata": {},
   "source": [
    "### Load Data"
   ]
  },
  {
   "cell_type": "code",
   "execution_count": 4,
   "metadata": {},
   "outputs": [],
   "source": [
    "# load *.mat file\n",
    "mat = loadmat('ex8_movies.mat')\n",
    "Y, R = mat['Y'], mat['R']\n",
    "\n",
    "# save *.csv file\n",
    "Y_inlined = np.dstack([*np.indices(Y.T.shape), Y.T]).reshape(-1, 3)\n",
    "np.savetxt('ex8_movies.csv', Y_inlined[Y_inlined[:,2] != 0], fmt=\"%f %f %f\")\n",
    "\n",
    "# create dataset from *.csv file\n",
    "reader = Reader(line_format='user item rating', sep=\" \")\n",
    "data = Dataset.load_from_file(\"ex8_movies.csv\", reader)"
   ]
  },
  {
   "cell_type": "code",
   "execution_count": 58,
   "metadata": {},
   "outputs": [
    {
     "name": "stdout",
     "output_type": "stream",
     "text": [
      "Estimating biases using sgd...\n",
      "user: 0.000000   item: 0.000000   r_ui = 5.00   est = 3.42   {'was_impossible': False}\n",
      "RMSE: 0.9716\n"
     ]
    }
   ],
   "source": [
    "def test_baseline_only(data):\n",
    "    bsl_options = {\n",
    "        'method': 'sgd', \n",
    "        'learning_rate': 0.1,\n",
    "        'reg': 0.02\n",
    "    }\n",
    "    algo = BaselineOnly(bsl_options=bsl_options)\n",
    "    trainset = data.build_full_trainset()\n",
    "    testset = trainset.build_testset()\n",
    "    \n",
    "    algo.fit(trainset)\n",
    "    p = algo.predict(uid=trainset.to_raw_uid(0), iid=trainset.to_raw_iid(0), r_ui=5)\n",
    "    predictions =  algo.test(testset)\n",
    "    \n",
    "    print(p)\n",
    "    accuracy.rmse(predictions)\n",
    "    \n",
    "test_baseline_only(data)"
   ]
  },
  {
   "cell_type": "code",
   "execution_count": 59,
   "metadata": {},
   "outputs": [
    {
     "name": "stdout",
     "output_type": "stream",
     "text": [
      "Estimating biases using sgd...\n",
      "Computing the cosine similarity matrix...\n",
      "Done computing similarity matrix.\n",
      "user: 0.000000   item: 0.000000   r_ui = 5.00   est = 4.71   {'actual_k': 10, 'was_impossible': False}\n",
      "RMSE: 0.8288\n"
     ]
    }
   ],
   "source": [
    "def test_knn_baseline(data):\n",
    "    bsl_options = {\n",
    "        'method': 'sgd', \n",
    "        'learning_rate': .000005,\n",
    "        'reg': 0.02\n",
    "    }\n",
    "    sim_options = {\n",
    "        'name': 'cosine',\n",
    "        'user_based': False\n",
    "    }\n",
    "    algo = KNNBaseline(k=10, bsl_options=bsl_options, sim_options=sim_options)\n",
    "    trainset = data.build_full_trainset()\n",
    "    testset = trainset.build_testset()\n",
    "    \n",
    "    algo.fit(trainset)\n",
    "    p = algo.predict(uid=trainset.to_raw_uid(0), iid=trainset.to_raw_iid(0), r_ui=5)\n",
    "    predictions =  algo.test(testset)\n",
    "    \n",
    "    print(p)\n",
    "    accuracy.rmse(predictions)\n",
    "    \n",
    "test_knn_baseline(data)"
   ]
  },
  {
   "cell_type": "code",
   "execution_count": 61,
   "metadata": {},
   "outputs": [
    {
     "name": "stdout",
     "output_type": "stream",
     "text": [
      "user: 0.000000   item: 0.000000   r_ui = 5.00   est = 4.60   {'was_impossible': False}\n",
      "RMSE: 0.2484\n"
     ]
    }
   ],
   "source": [
    "def test_svd(data):\n",
    "    algo = SVD(n_factors=100, n_epochs=100, lr_all=0.1)\n",
    "    trainset = data.build_full_trainset()\n",
    "    testset = trainset.build_testset()\n",
    "    \n",
    "    algo.fit(trainset)\n",
    "    p = algo.predict(uid=trainset.to_raw_uid(0), iid=trainset.to_raw_iid(0), r_ui=5)\n",
    "    predictions =  algo.test(testset)\n",
    "    \n",
    "    print(p)\n",
    "    accuracy.rmse(predictions)\n",
    "    \n",
    "test_svd(data)"
   ]
  }
 ],
 "metadata": {
  "kernelspec": {
   "display_name": "Python 3",
   "language": "python",
   "name": "python3"
  },
  "language_info": {
   "codemirror_mode": {
    "name": "ipython",
    "version": 3
   },
   "file_extension": ".py",
   "mimetype": "text/x-python",
   "name": "python",
   "nbconvert_exporter": "python",
   "pygments_lexer": "ipython3",
   "version": "3.6.6"
  }
 },
 "nbformat": 4,
 "nbformat_minor": 2
}
