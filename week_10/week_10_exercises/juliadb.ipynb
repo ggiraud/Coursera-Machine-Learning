{
 "cells": [
  {
   "cell_type": "code",
   "execution_count": 1,
   "metadata": {},
   "outputs": [],
   "source": [
    "using IJulia, Plots\n",
    "using JuliaDB, CSV, OnlineStats, StatsBase, Random, Distributions, LinearAlgebra\n",
    "using Distributed\n",
    "import StatsBase.predict, StatsBase.score"
   ]
  },
  {
   "cell_type": "markdown",
   "metadata": {},
   "source": [
    "### Total Memory (in Mb)"
   ]
  },
  {
   "cell_type": "code",
   "execution_count": null,
   "metadata": {},
   "outputs": [],
   "source": [
    "Sys.total_memory() / 2^20"
   ]
  },
  {
   "cell_type": "markdown",
   "metadata": {},
   "source": [
    "### Free Memory (in Mb)"
   ]
  },
  {
   "cell_type": "code",
   "execution_count": null,
   "metadata": {},
   "outputs": [],
   "source": [
    "Sys.free_memory() / 2^20"
   ]
  },
  {
   "cell_type": "markdown",
   "metadata": {},
   "source": [
    "# CSV File"
   ]
  },
  {
   "cell_type": "code",
   "execution_count": 185,
   "metadata": {},
   "outputs": [],
   "source": [
    "f = CSV.File(\"/Users/guillaume/Downloads/ml-latest-small/ratings.csv\", use_mmap=false);"
   ]
  },
  {
   "cell_type": "code",
   "execution_count": 2,
   "metadata": {},
   "outputs": [
    {
     "data": {
      "text/plain": [
       "Param"
      ]
     },
     "execution_count": 2,
     "metadata": {},
     "output_type": "execute_result"
    }
   ],
   "source": [
    "mutable struct Param\n",
    "    weights::Vector{Float64}\n",
    "    bias::Float64\n",
    "end\n",
    "\n",
    "User = Param\n",
    "Item = Param"
   ]
  },
  {
   "cell_type": "markdown",
   "metadata": {},
   "source": [
    "### TODO: Utilize Matrix instead of Dict{Int64, Item}, with unrated rows removed!"
   ]
  },
  {
   "cell_type": "code",
   "execution_count": 217,
   "metadata": {},
   "outputs": [
    {
     "data": {
      "text/plain": [
       "sgd (generic function with 2 methods)"
      ]
     },
     "execution_count": 217,
     "metadata": {},
     "output_type": "execute_result"
    }
   ],
   "source": [
    "function sgd(f::CSV.File, k::Int64=10;\n",
    "        nepochs::Int64=10,\n",
    "        lr::Float64=0.01,\n",
    "        reg::Float64=0.0,\n",
    "        cb::Union{Nothing, Function}=nothing)\n",
    "    \n",
    "    μ::Float64 = value(fit!(Mean(), (row.rating for row in f)))\n",
    "    items::Dict{Int64, Item} = Dict{Int64, Item}()\n",
    "    users::Dict{Int64, User} = Dict{Int64, User}()\n",
    "    \n",
    "    for epoch in 1:nepochs\n",
    "        cost::Float64 = zero(Float64)\n",
    "        for r in f\n",
    "            i, u, rating = r.movieId, r.userId, r.rating\n",
    "            \n",
    "            if epoch == 1\n",
    "                haskey(items, i) || (items[i] = Item(rand(MvNormal(k, 1e-4)), zero(Float64)))\n",
    "                haskey(users, u) || (users[u] = User(rand(MvNormal(k, 1e-4)), zero(Float64)))\n",
    "            end\n",
    "            \n",
    "            e::Float64 = μ + items[i].bias + users[u].bias + dot(items[i].weights, users[u].weights) - rating\n",
    "            cost += abs2(e) \n",
    "            \n",
    "            items[i].weights -= lr*2*(e*users[u].weights + reg*items[i].weights)\n",
    "            users[u].weights -= lr*2*(e*items[i].weights + reg*users[u].weights)\n",
    "            items[i].bias -= lr*2*(e + reg*items[i].bias)\n",
    "            users[u].bias -= lr*2*(e + reg*users[u].bias)\n",
    "        end\n",
    "\n",
    "        if cb !== nothing\n",
    "            cb(epoch, cost)\n",
    "        end\n",
    "    end\n",
    "    \n",
    "    return (items, users)\n",
    "end"
   ]
  },
  {
   "cell_type": "code",
   "execution_count": null,
   "metadata": {},
   "outputs": [],
   "source": [
    "costs = []\n",
    "@time items, users = sgd(f, 100;\n",
    "    nepochs=10,\n",
    "    lr=0.01,\n",
    "    cb=(epoch, cost)->begin\n",
    "        IJulia.clear_output(true)\n",
    "        println(\"epoch: $(epoch), cost: $(cost)\")\n",
    "        push!(costs, cost)\n",
    "        end)\n",
    "\n",
    "plot(costs)"
   ]
  },
  {
   "cell_type": "markdown",
   "metadata": {},
   "source": [
    "# Distributed Database"
   ]
  },
  {
   "cell_type": "code",
   "execution_count": 3,
   "metadata": {},
   "outputs": [],
   "source": [
    "addprocs(4)\n",
    "@everywhere using JuliaDB"
   ]
  },
  {
   "cell_type": "code",
   "execution_count": null,
   "metadata": {},
   "outputs": [],
   "source": [
    "rmprocs(workers())"
   ]
  },
  {
   "cell_type": "code",
   "execution_count": null,
   "metadata": {},
   "outputs": [],
   "source": [
    ";ls -lh /Users/guillaume/Downloads/ml-latest-small/ratings"
   ]
  },
  {
   "cell_type": "code",
   "execution_count": null,
   "metadata": {},
   "outputs": [],
   "source": [
    "tm = Int64(Sys.total_memory()) # / 2^20"
   ]
  },
  {
   "cell_type": "code",
   "execution_count": null,
   "metadata": {},
   "outputs": [],
   "source": [
    "let dirpath = \"/Users/guillaume/Downloads/ml-latest-small/ratings\"\n",
    "    reduce(+, filesize(joinpath(dirpath, f)) for f in readdir(dirpath))\n",
    "end"
   ]
  },
  {
   "cell_type": "code",
   "execution_count": null,
   "metadata": {},
   "outputs": [],
   "source": [
    "filesize(\"/Users/guillaume/Downloads/ml-latest-small/ratings/ratings_00\")"
   ]
  },
  {
   "cell_type": "markdown",
   "metadata": {},
   "source": [
    "original_file_size / nchunks\n",
    "\n",
    "nfiles_per_chunk * split_file_size * nworkers <= total_memory"
   ]
  },
  {
   "cell_type": "code",
   "execution_count": null,
   "metadata": {},
   "outputs": [],
   "source": [
    "t = loadndsparse(\"/Users/guillaume/Downloads/ml-latest-small/ratings.csv\";\n",
    "    indexcols=[\"movieId\", \"userId\"], datacols=[\"rating\"], colnames=[\"userId\", \"movieId\", \"rating\", \"timestamp\"],\n",
    "    header_exists=true)\n",
    "tbl = distribute(t, 100)"
   ]
  },
  {
   "cell_type": "code",
   "execution_count": 4,
   "metadata": {},
   "outputs": [
    {
     "data": {
      "text/plain": [
       "2-d Distributed NDSparse with 100836 values (1 field named tuples) in 4 chunks:\n",
       "movieId  userId │ rating\n",
       "────────────────┼───────\n",
       "1        1      │ 4.0\n",
       "1        5      │ 4.0\n",
       "1        7      │ 4.5\n",
       "1        15     │ 2.5\n",
       "1        17     │ 4.5\n",
       "1        18     │ 3.5\n",
       "1        19     │ 4.0\n",
       "1        21     │ 3.5\n",
       "1        27     │ 3.0\n",
       "1        31     │ 5.0\n",
       "1        32     │ 3.0\n",
       "1        33     │ 3.0\n",
       "1        40     │ 5.0\n",
       "1        43     │ 5.0\n",
       "1        44     │ 3.0\n",
       "1        45     │ 4.0\n",
       "1        46     │ 5.0\n",
       "1        50     │ 3.0\n",
       "1        54     │ 3.0\n",
       "1        57     │ 5.0\n",
       "1        63     │ 5.0\n",
       "1        64     │ 4.0\n",
       "1        66     │ 4.0\n",
       "1        68     │ 2.5\n",
       "                ⋮"
      ]
     },
     "execution_count": 4,
     "metadata": {},
     "output_type": "execute_result"
    }
   ],
   "source": [
    "loadndsparse(\"/Users/guillaume/Downloads/ml-latest-small/ratings\";\n",
    "    indexcols=[\"movieId\", \"userId\"], datacols=[\"rating\"], colnames=[\"userId\", \"movieId\", \"rating\", \"timestamp\"],\n",
    "    header_exists=false, output=\"bin\", chunks=4)\n",
    "tbl = load(\"bin\")"
   ]
  },
  {
   "cell_type": "markdown",
   "metadata": {},
   "source": [
    "### SGD"
   ]
  },
  {
   "cell_type": "code",
   "execution_count": null,
   "metadata": {},
   "outputs": [],
   "source": [
    "function sgd(t::JuliaDB.DNDSparse, k::Int64=10;\n",
    "        nepochs::Int64=10,\n",
    "        lr::Float64=0.01,\n",
    "        reg::Float64=0.0,\n",
    "        cb::Union{Nothing, Function}=nothing)\n",
    "    \n",
    "    μ::Float64 = value(reduce(Mean(), t; select = :rating))\n",
    "    items::Dict{Int64, Item} = Dict{Int64, Item}()\n",
    "    users::Dict{Int64, User} = Dict{Int64, User}()\n",
    "    \n",
    "    for epoch in 1:nepochs\n",
    "        cost::Float64 = zero(Float64)\n",
    "        for r in collect(rows(t))\n",
    "            i, u, rating = r.movieId, r.userId, r.rating\n",
    "            \n",
    "            haskey(items, i) || (items[i] = Item(rand(MvNormal(k, 1e-4)), zero(Float64)))\n",
    "            haskey(users, u) || (users[u] = User(rand(MvNormal(k, 1e-4)), zero(Float64)))\n",
    "            \n",
    "            e::Float64 = μ + items[i].bias + users[u].bias + dot(items[i].weights, users[u].weights) - rating\n",
    "            cost += abs2(e) \n",
    "            \n",
    "            items[i].weights -= lr*2*(e*users[u].weights + reg*items[i].weights)\n",
    "            users[u].weights -= lr*2*(e*items[i].weights + reg*users[u].weights)\n",
    "            items[i].bias -= lr*2*(e + reg*items[i].bias)\n",
    "            users[u].bias -= lr*2*(e + reg*users[u].bias)\n",
    "        end\n",
    "\n",
    "        if cb !== nothing\n",
    "            cb(epoch, cost)\n",
    "        end\n",
    "    end\n",
    "    \n",
    "    return (items, users)\n",
    "end"
   ]
  },
  {
   "cell_type": "code",
   "execution_count": null,
   "metadata": {},
   "outputs": [],
   "source": [
    "costs = []\n",
    "@time items, users = sgd(tbl, 100;\n",
    "    nepochs=50,\n",
    "    lr=0.01,\n",
    "    cb=(epoch, cost)->begin\n",
    "        IJulia.clear_output(true)\n",
    "        println(\"epoch: $(epoch), cost: $(cost)\")\n",
    "        push!(costs, cost)\n",
    "        end)\n",
    "\n",
    "plot(costs)"
   ]
  },
  {
   "cell_type": "markdown",
   "metadata": {},
   "source": [
    "### ALS"
   ]
  },
  {
   "cell_type": "code",
   "execution_count": null,
   "metadata": {},
   "outputs": [],
   "source": [
    "function predict(t::JuliaDB.DNDSparse, P::NextTable, Q::NextTable, item::Int64, user::Int64)\n",
    "    item_row = P[item]\n",
    "    user_row = Q[user]\n",
    "    bi = item_row.bias\n",
    "    bu = user_row.bias\n",
    "    item_weights = item.row[3:end]\n",
    "    user_weights = user.row[3:end]\n",
    "    μ = value(reduce(Mean(), t, select=:rating))\n",
    "    \n",
    "    return μ + bi + bu + dot(item_weights, user_weights)\n",
    "end"
   ]
  },
  {
   "cell_type": "code",
   "execution_count": null,
   "metadata": {},
   "outputs": [],
   "source": [
    "function score(t::JuliaDB.DNDSparse, P::NextTable, Q::NextTable)\n",
    "    P_schema = ML.schema(P, hints=Dict(\n",
    "            :movieId => nothing))\n",
    "\n",
    "    Q_schema = ML.schema(Q, hints=Dict(\n",
    "            :userId => nothing))\n",
    "    \n",
    "    μ = value(reduce(Mean(), t, select=:rating))\n",
    "    Pmat, Qmat = ML.featuremat(P_schema, P)', ML.featuremat(Q_schema, Q)'\n",
    "    \n",
    "    reduce(FTSeries(Sum(), transform=r->abs2(μ + Pmat[r.movieId,1] + Qmat[r.userId,1] + dot(Pmat[r.movieId,2:end], Qmat[r.userId,2:end]) - r.rating)), t,\n",
    "    select=(:movieId, :userId, :rating))\n",
    "end    "
   ]
  },
  {
   "cell_type": "code",
   "execution_count": null,
   "metadata": {},
   "outputs": [],
   "source": [
    "reduce(FTSeries(Sum(), transform=x->begin println(x); x end), tbl, select=(:movieId, :userId, :rating))"
   ]
  },
  {
   "cell_type": "code",
   "execution_count": 181,
   "metadata": {},
   "outputs": [
    {
     "data": {
      "text/plain": [
       "als (generic function with 2 methods)"
      ]
     },
     "execution_count": 181,
     "metadata": {},
     "output_type": "execute_result"
    }
   ],
   "source": [
    "function als(t::JuliaDB.DNDSparse, k::Int64=10;\n",
    "        nepochs::Int64=10,\n",
    "        σ::Float64=1e-4,\n",
    "        λ::Float64=0.001,\n",
    "        reg::Float64=0.0,\n",
    "        cb::Union{Nothing, Function}=nothing)\n",
    "    \n",
    "    items::Dict{Int64, Item} = Dict{Int64, Item}()\n",
    "    users::Dict{Int64, User} = Dict{Int64, User}()\n",
    "    \n",
    "    mstat, ustat, rstat = reduce(Group(Extrema(Int64), Extrema(Int64), Mean()), t, select=(:movieId, :userId, :rating)).stats\n",
    "    \n",
    "    μ::Float64 = value(rstat)\n",
    "    ni, nu = last(value(mstat)), last(value(ustat))\n",
    "    \n",
    "    rated_movies = unique(sort(collect(columns(tbl, :movieId))))\n",
    "    rating_users = unique(sort(collect(columns(tbl, :userId))))\n",
    "    \n",
    "    pinit = rand(Normal(0, σ), length(rated_movies), k)\n",
    "    qinit = rand(Normal(0, σ), length(rating_users), k)\n",
    "    \n",
    "    #P = table(rated_movies, zeros(Float64, length(rated_movies)), (pinit[:,i] for i=1:k)...,\n",
    "    #    names=[:movieId, :bias, (Symbol(\"f_\",i) for i=1:k)...], pkey=:movieId)\n",
    "    #Q = table(rating_users, zeros(Float64, length(rating_users)), (qinit[:,i] for i=1:k)...,\n",
    "    #    names=[:userId, :bias, (Symbol(\"f_\",i) for i=1:k)...], pkey=:userId)\n",
    "    \n",
    "    P = ndsparse((movieId=rated_movies,),\n",
    "        (bias=zeros(Float64, length(rated_movies)), (Symbol(\"f_\",i)=>pinit[:,i] for i=1:k)...))\n",
    "    Q = ndsparse((userId=rating_users,),\n",
    "        (bias=zeros(Float64, length(rating_users)), (Symbol(\"f_\",i)=>qinit[:,i] for i=1:k)...))\n",
    "    \n",
    "    \n",
    "    for epoch in 1:nepochs\n",
    "        for u in rating_users\n",
    "            Pjoin = join(P, collect(t[:,u]), how=:inner, lkey=:movieId, rkey=:movieId)\n",
    "            Pbiased = setcol(table(Pjoin), :rating, All(:bias, :rating)=>r->r.rating - μ - r.bias)\n",
    "            o = reduce(LinRegBuilder(), Pbiased, select=Between(3,3+k))\n",
    "            β = coef(o, λ, y=k+1, x=1:k, bias=true)\n",
    "            #qu = rows(Q)[u]\n",
    "            #rows(Q)[u] = Tuple([qu.userId, β[end], (i for i in β[1:end-1])...])\n",
    "            qu = Q[u]\n",
    "            Q[u] = Tuple([β[end], (i for i in β[1:end-1])...])\n",
    "        end\n",
    "        \n",
    "        for i in rated_movies\n",
    "            Qjoin = join(Q, collect(t[i,:]), how=:inner, lkey=:userId, rkey=:userId)\n",
    "            Qbiased = setcol(table(Qjoin), :rating, All(:bias, :rating)=>r->r.rating - μ - r.bias)\n",
    "            o = reduce(LinRegBuilder(), Qbiased, select=Between(3,3+k))\n",
    "            β = coef(o, λ, y=k+1, x=1:k, bias=true)\n",
    "            #pi = rows(P)[i]\n",
    "            #rows(P)[i] = Tuple([pi.movieId, β[end], (i for i in β[1:end-1])...])\n",
    "            pi = P[i]\n",
    "            P[i] = Tuple([β[end], (i for i in β[1:end-1])...])\n",
    "        end\n",
    "        \n",
    "        for r in rows(P)\n",
    "            items[r.movieId] = Item(collect(r)[3:end], r.bias)\n",
    "        end\n",
    "        \n",
    "        for r in rows(Q)\n",
    "            users[r.userId] = Item(collect(r)[3:end], r.bias)\n",
    "        end\n",
    "        \n",
    "        cost::Float64 = zero(Float64)\n",
    "        for r in collect(rows(t))\n",
    "            i, u, rating = r.movieId, r.userId, r.rating\n",
    "            e::Float64 = μ + items[i].bias + users[u].bias + dot(items[i].weights, users[u].weights) - rating\n",
    "            cost += abs2(e)\n",
    "        end\n",
    "        \n",
    "        if cb !== nothing\n",
    "            cb(epoch, cost)\n",
    "        end\n",
    "        \n",
    "    end\n",
    "    \n",
    "    return (P, Q)\n",
    "end"
   ]
  },
  {
   "cell_type": "code",
   "execution_count": 184,
   "metadata": {},
   "outputs": [
    {
     "name": "stdout",
     "output_type": "stream",
     "text": [
      "epoch: 10, cost: 119.34637428764658\n",
      "3529.475265 seconds (1.18 G allocations: 1.625 TiB, 13.57% gc time)\n"
     ]
    },
    {
     "data": {
      "image/svg+xml": [
       "<?xml version=\"1.0\" encoding=\"utf-8\"?>\n",
       "<svg xmlns=\"http://www.w3.org/2000/svg\" xmlns:xlink=\"http://www.w3.org/1999/xlink\" width=\"600\" height=\"400\" viewBox=\"0 0 2400 1600\">\n",
       "<defs>\n",
       "  <clipPath id=\"clip5200\">\n",
       "    <rect x=\"0\" y=\"0\" width=\"2000\" height=\"2000\"/>\n",
       "  </clipPath>\n",
       "</defs>\n",
       "<defs>\n",
       "  <clipPath id=\"clip5201\">\n",
       "    <rect x=\"0\" y=\"0\" width=\"2400\" height=\"1600\"/>\n",
       "  </clipPath>\n",
       "</defs>\n",
       "<polygon clip-path=\"url(#clip5201)\" points=\"\n",
       "0,1600 2400,1600 2400,0 0,0 \n",
       "  \" fill=\"#ffffff\" fill-rule=\"evenodd\" fill-opacity=\"1\"/>\n",
       "<defs>\n",
       "  <clipPath id=\"clip5202\">\n",
       "    <rect x=\"480\" y=\"0\" width=\"1681\" height=\"1600\"/>\n",
       "  </clipPath>\n",
       "</defs>\n",
       "<polygon clip-path=\"url(#clip5201)\" points=\"\n",
       "255.303,1503.47 2321.26,1503.47 2321.26,47.2441 255.303,47.2441 \n",
       "  \" fill=\"#ffffff\" fill-rule=\"evenodd\" fill-opacity=\"1\"/>\n",
       "<defs>\n",
       "  <clipPath id=\"clip5203\">\n",
       "    <rect x=\"255\" y=\"47\" width=\"2067\" height=\"1457\"/>\n",
       "  </clipPath>\n",
       "</defs>\n",
       "<polyline clip-path=\"url(#clip5203)\" style=\"stroke:#000000; stroke-width:2; stroke-opacity:0.1; fill:none\" points=\"\n",
       "  530.331,1503.47 530.331,47.2441 \n",
       "  \"/>\n",
       "<polyline clip-path=\"url(#clip5203)\" style=\"stroke:#000000; stroke-width:2; stroke-opacity:0.1; fill:none\" points=\"\n",
       "  963.445,1503.47 963.445,47.2441 \n",
       "  \"/>\n",
       "<polyline clip-path=\"url(#clip5203)\" style=\"stroke:#000000; stroke-width:2; stroke-opacity:0.1; fill:none\" points=\"\n",
       "  1396.56,1503.47 1396.56,47.2441 \n",
       "  \"/>\n",
       "<polyline clip-path=\"url(#clip5203)\" style=\"stroke:#000000; stroke-width:2; stroke-opacity:0.1; fill:none\" points=\"\n",
       "  1829.67,1503.47 1829.67,47.2441 \n",
       "  \"/>\n",
       "<polyline clip-path=\"url(#clip5203)\" style=\"stroke:#000000; stroke-width:2; stroke-opacity:0.1; fill:none\" points=\"\n",
       "  2262.79,1503.47 2262.79,47.2441 \n",
       "  \"/>\n",
       "<polyline clip-path=\"url(#clip5203)\" style=\"stroke:#000000; stroke-width:2; stroke-opacity:0.1; fill:none\" points=\"\n",
       "  255.303,1465.71 2321.26,1465.71 \n",
       "  \"/>\n",
       "<polyline clip-path=\"url(#clip5203)\" style=\"stroke:#000000; stroke-width:2; stroke-opacity:0.1; fill:none\" points=\"\n",
       "  255.303,1176.6 2321.26,1176.6 \n",
       "  \"/>\n",
       "<polyline clip-path=\"url(#clip5203)\" style=\"stroke:#000000; stroke-width:2; stroke-opacity:0.1; fill:none\" points=\"\n",
       "  255.303,887.482 2321.26,887.482 \n",
       "  \"/>\n",
       "<polyline clip-path=\"url(#clip5203)\" style=\"stroke:#000000; stroke-width:2; stroke-opacity:0.1; fill:none\" points=\"\n",
       "  255.303,598.368 2321.26,598.368 \n",
       "  \"/>\n",
       "<polyline clip-path=\"url(#clip5203)\" style=\"stroke:#000000; stroke-width:2; stroke-opacity:0.1; fill:none\" points=\"\n",
       "  255.303,309.253 2321.26,309.253 \n",
       "  \"/>\n",
       "<polyline clip-path=\"url(#clip5201)\" style=\"stroke:#000000; stroke-width:4; stroke-opacity:1; fill:none\" points=\"\n",
       "  255.303,1503.47 2321.26,1503.47 \n",
       "  \"/>\n",
       "<polyline clip-path=\"url(#clip5201)\" style=\"stroke:#000000; stroke-width:4; stroke-opacity:1; fill:none\" points=\"\n",
       "  255.303,1503.47 255.303,47.2441 \n",
       "  \"/>\n",
       "<polyline clip-path=\"url(#clip5201)\" style=\"stroke:#000000; stroke-width:4; stroke-opacity:1; fill:none\" points=\"\n",
       "  530.331,1503.47 530.331,1481.63 \n",
       "  \"/>\n",
       "<polyline clip-path=\"url(#clip5201)\" style=\"stroke:#000000; stroke-width:4; stroke-opacity:1; fill:none\" points=\"\n",
       "  963.445,1503.47 963.445,1481.63 \n",
       "  \"/>\n",
       "<polyline clip-path=\"url(#clip5201)\" style=\"stroke:#000000; stroke-width:4; stroke-opacity:1; fill:none\" points=\"\n",
       "  1396.56,1503.47 1396.56,1481.63 \n",
       "  \"/>\n",
       "<polyline clip-path=\"url(#clip5201)\" style=\"stroke:#000000; stroke-width:4; stroke-opacity:1; fill:none\" points=\"\n",
       "  1829.67,1503.47 1829.67,1481.63 \n",
       "  \"/>\n",
       "<polyline clip-path=\"url(#clip5201)\" style=\"stroke:#000000; stroke-width:4; stroke-opacity:1; fill:none\" points=\"\n",
       "  2262.79,1503.47 2262.79,1481.63 \n",
       "  \"/>\n",
       "<polyline clip-path=\"url(#clip5201)\" style=\"stroke:#000000; stroke-width:4; stroke-opacity:1; fill:none\" points=\"\n",
       "  255.303,1465.71 286.292,1465.71 \n",
       "  \"/>\n",
       "<polyline clip-path=\"url(#clip5201)\" style=\"stroke:#000000; stroke-width:4; stroke-opacity:1; fill:none\" points=\"\n",
       "  255.303,1176.6 286.292,1176.6 \n",
       "  \"/>\n",
       "<polyline clip-path=\"url(#clip5201)\" style=\"stroke:#000000; stroke-width:4; stroke-opacity:1; fill:none\" points=\"\n",
       "  255.303,887.482 286.292,887.482 \n",
       "  \"/>\n",
       "<polyline clip-path=\"url(#clip5201)\" style=\"stroke:#000000; stroke-width:4; stroke-opacity:1; fill:none\" points=\"\n",
       "  255.303,598.368 286.292,598.368 \n",
       "  \"/>\n",
       "<polyline clip-path=\"url(#clip5201)\" style=\"stroke:#000000; stroke-width:4; stroke-opacity:1; fill:none\" points=\"\n",
       "  255.303,309.253 286.292,309.253 \n",
       "  \"/>\n",
       "<g clip-path=\"url(#clip5201)\">\n",
       "<text style=\"fill:#000000; fill-opacity:1; font-family:Arial,Helvetica Neue,Helvetica,sans-serif; font-size:48px; text-anchor:middle;\" transform=\"rotate(0, 530.331, 1557.47)\" x=\"530.331\" y=\"1557.47\">2</text>\n",
       "</g>\n",
       "<g clip-path=\"url(#clip5201)\">\n",
       "<text style=\"fill:#000000; fill-opacity:1; font-family:Arial,Helvetica Neue,Helvetica,sans-serif; font-size:48px; text-anchor:middle;\" transform=\"rotate(0, 963.445, 1557.47)\" x=\"963.445\" y=\"1557.47\">4</text>\n",
       "</g>\n",
       "<g clip-path=\"url(#clip5201)\">\n",
       "<text style=\"fill:#000000; fill-opacity:1; font-family:Arial,Helvetica Neue,Helvetica,sans-serif; font-size:48px; text-anchor:middle;\" transform=\"rotate(0, 1396.56, 1557.47)\" x=\"1396.56\" y=\"1557.47\">6</text>\n",
       "</g>\n",
       "<g clip-path=\"url(#clip5201)\">\n",
       "<text style=\"fill:#000000; fill-opacity:1; font-family:Arial,Helvetica Neue,Helvetica,sans-serif; font-size:48px; text-anchor:middle;\" transform=\"rotate(0, 1829.67, 1557.47)\" x=\"1829.67\" y=\"1557.47\">8</text>\n",
       "</g>\n",
       "<g clip-path=\"url(#clip5201)\">\n",
       "<text style=\"fill:#000000; fill-opacity:1; font-family:Arial,Helvetica Neue,Helvetica,sans-serif; font-size:48px; text-anchor:middle;\" transform=\"rotate(0, 2262.79, 1557.47)\" x=\"2262.79\" y=\"1557.47\">10</text>\n",
       "</g>\n",
       "<g clip-path=\"url(#clip5201)\">\n",
       "<text style=\"fill:#000000; fill-opacity:1; font-family:Arial,Helvetica Neue,Helvetica,sans-serif; font-size:48px; text-anchor:end;\" transform=\"rotate(0, 231.303, 1483.21)\" x=\"231.303\" y=\"1483.21\">0</text>\n",
       "</g>\n",
       "<g clip-path=\"url(#clip5201)\">\n",
       "<text style=\"fill:#000000; fill-opacity:1; font-family:Arial,Helvetica Neue,Helvetica,sans-serif; font-size:48px; text-anchor:start;\" transform=\"rotate(0, 101.161, 1200.32)\" x=\"101.161\" y=\"1200.32\">1×10</text>\n",
       "</g>\n",
       "<g clip-path=\"url(#clip5201)\">\n",
       "<text style=\"fill:#000000; fill-opacity:1; font-family:Arial,Helvetica Neue,Helvetica,sans-serif; font-size:38px; text-anchor:start;\" transform=\"rotate(0, 209.558, 1172.91)\" x=\"209.558\" y=\"1172.91\">4</text>\n",
       "</g>\n",
       "<g clip-path=\"url(#clip5201)\">\n",
       "<text style=\"fill:#000000; fill-opacity:1; font-family:Arial,Helvetica Neue,Helvetica,sans-serif; font-size:48px; text-anchor:start;\" transform=\"rotate(0, 101.161, 911.21)\" x=\"101.161\" y=\"911.21\">2×10</text>\n",
       "</g>\n",
       "<g clip-path=\"url(#clip5201)\">\n",
       "<text style=\"fill:#000000; fill-opacity:1; font-family:Arial,Helvetica Neue,Helvetica,sans-serif; font-size:38px; text-anchor:start;\" transform=\"rotate(0, 209.558, 883.799)\" x=\"209.558\" y=\"883.799\">4</text>\n",
       "</g>\n",
       "<g clip-path=\"url(#clip5201)\">\n",
       "<text style=\"fill:#000000; fill-opacity:1; font-family:Arial,Helvetica Neue,Helvetica,sans-serif; font-size:48px; text-anchor:start;\" transform=\"rotate(0, 101.161, 622.095)\" x=\"101.161\" y=\"622.095\">3×10</text>\n",
       "</g>\n",
       "<g clip-path=\"url(#clip5201)\">\n",
       "<text style=\"fill:#000000; fill-opacity:1; font-family:Arial,Helvetica Neue,Helvetica,sans-serif; font-size:38px; text-anchor:start;\" transform=\"rotate(0, 209.558, 594.685)\" x=\"209.558\" y=\"594.685\">4</text>\n",
       "</g>\n",
       "<g clip-path=\"url(#clip5201)\">\n",
       "<text style=\"fill:#000000; fill-opacity:1; font-family:Arial,Helvetica Neue,Helvetica,sans-serif; font-size:48px; text-anchor:start;\" transform=\"rotate(0, 101.161, 332.981)\" x=\"101.161\" y=\"332.981\">4×10</text>\n",
       "</g>\n",
       "<g clip-path=\"url(#clip5201)\">\n",
       "<text style=\"fill:#000000; fill-opacity:1; font-family:Arial,Helvetica Neue,Helvetica,sans-serif; font-size:38px; text-anchor:start;\" transform=\"rotate(0, 209.558, 305.57)\" x=\"209.558\" y=\"305.57\">4</text>\n",
       "</g>\n",
       "<polyline clip-path=\"url(#clip5203)\" style=\"stroke:#009af9; stroke-width:4; stroke-opacity:1; fill:none\" points=\"\n",
       "  313.773,88.4582 530.331,1373.13 746.888,1433.9 963.445,1448.08 1180,1454.01 1396.56,1457.35 1613.12,1459.35 1829.67,1460.67 2046.23,1461.6 2262.79,1462.26 \n",
       "  \n",
       "  \"/>\n",
       "<polygon clip-path=\"url(#clip5201)\" points=\"\n",
       "1958.43,251.724 2249.26,251.724 2249.26,130.764 1958.43,130.764 \n",
       "  \" fill=\"#ffffff\" fill-rule=\"evenodd\" fill-opacity=\"1\"/>\n",
       "<polyline clip-path=\"url(#clip5201)\" style=\"stroke:#000000; stroke-width:4; stroke-opacity:1; fill:none\" points=\"\n",
       "  1958.43,251.724 2249.26,251.724 2249.26,130.764 1958.43,130.764 1958.43,251.724 \n",
       "  \"/>\n",
       "<polyline clip-path=\"url(#clip5201)\" style=\"stroke:#009af9; stroke-width:4; stroke-opacity:1; fill:none\" points=\"\n",
       "  1982.43,191.244 2126.43,191.244 \n",
       "  \"/>\n",
       "<g clip-path=\"url(#clip5201)\">\n",
       "<text style=\"fill:#000000; fill-opacity:1; font-family:Arial,Helvetica Neue,Helvetica,sans-serif; font-size:48px; text-anchor:start;\" transform=\"rotate(0, 2150.43, 208.744)\" x=\"2150.43\" y=\"208.744\">y1</text>\n",
       "</g>\n",
       "</svg>\n"
      ]
     },
     "execution_count": 184,
     "metadata": {},
     "output_type": "execute_result"
    }
   ],
   "source": [
    "costs = []\n",
    "@time Pres, Qres = als(tbl, 100;\n",
    "    nepochs=10,\n",
    "    cb=(epoch, cost)->begin\n",
    "        IJulia.clear_output(true)\n",
    "        println(\"epoch: $(epoch), cost: $(cost)\")\n",
    "        push!(costs, cost)\n",
    "        end)\n",
    "\n",
    "plot(costs)"
   ]
  },
  {
   "cell_type": "markdown",
   "metadata": {},
   "source": [
    "### TODO: Create fit! for Unique"
   ]
  },
  {
   "cell_type": "code",
   "execution_count": null,
   "metadata": {},
   "outputs": [],
   "source": [
    "reduce((a,b)->unique([a...,b]), tbl, select=(:movieId, :userId))"
   ]
  },
  {
   "cell_type": "code",
   "execution_count": 168,
   "metadata": {},
   "outputs": [
    {
     "data": {
      "text/plain": [
       "1-d NDSparse with 610 values (11 field named tuples):\n",
       "    \u001b[4mDimensions\u001b[24m\u001b[1m#  \u001b[22m\u001b[1mcolname  \u001b[22m\u001b[1mtype\u001b[22m\n",
       "─────────────────\n",
       "1  userId   Int64\n",
       "    \u001b[4mValues\u001b[24m\u001b[1m#   \u001b[22m\u001b[1mcolname  \u001b[22m\u001b[1mtype\u001b[22m\n",
       "────────────────────\n",
       "2   bias     Float64\n",
       "3   f_1      Float64\n",
       "4   f_2      Float64\n",
       "5   f_3      Float64\n",
       "6   f_4      Float64\n",
       "7   f_5      Float64\n",
       "8   f_6      Float64\n",
       "9   f_7      Float64\n",
       "10  f_8      Float64\n",
       "11  f_9      Float64\n",
       "12  f_10     Float64"
      ]
     },
     "execution_count": 168,
     "metadata": {},
     "output_type": "execute_result"
    }
   ],
   "source": [
    "mstat, ustat, rstat = reduce(Group(Extrema(Int64), Extrema(Int64), Mean()), tbl, select=(:movieId, :userId, :rating)).stats\n",
    "μ = value(rstat)\n",
    "ni, nu = last(value(mstat)), last(value(ustat))\n",
    "k = 10\n",
    "λ = 0.001\n",
    "rated_movies = unique(sort(collect(columns(tbl, :movieId))))\n",
    "rating_users = unique(sort(collect(columns(tbl, :userId))))\n",
    "pinit = rand(Normal(0, 1e-4), length(rated_movies), k)\n",
    "qinit = rand(Normal(0, 1e-4), length(rating_users), k)\n",
    "#P = table(rated_movies, zeros(Float64, length(rated_movies)), (pinit[:,i] for i=1:k)...,\n",
    "#    names=[:movieId, :bias, (Symbol(\"f_\",i) for i=1:k)...], pkey=:movieId)\n",
    "P = ndsparse((movieId=rated_movies,), (bias=zeros(Float64, length(rated_movies)), (Symbol(\"f_\",i)=>pinit[:,i] for i=1:k)...))\n",
    "#Q = table(rating_users, zeros(Float64, length(rating_users)), (qinit[:,i] for i=1:k)...,\n",
    "#    names=[:userId, :bias, (Symbol(\"f_\",i) for i=1:k)...], pkey=:userId)\n",
    "Q = ndsparse((userId=rating_users,), (bias=zeros(Float64, length(rating_users)), (Symbol(\"f_\",i)=>qinit[:,i] for i=1:k)...))\n",
    "#t_mu = map(v->(rating=v.rating - μ,), tbl)"
   ]
  },
  {
   "cell_type": "code",
   "execution_count": 169,
   "metadata": {},
   "outputs": [
    {
     "data": {
      "text/plain": [
       "(bias = 0.0, f_1 = 4.2689931353372975e-5, f_2 = 1.6935738885898e-5, f_3 = 0.00014343336686687016, f_4 = -5.2075473032584774e-5, f_5 = -7.257363264500351e-6, f_6 = 2.360150099701945e-5, f_7 = -5.504001284613426e-5, f_8 = -1.462599926525299e-5, f_9 = 1.4297423351260456e-5, f_10 = 0.0001268587661015752)"
      ]
     },
     "execution_count": 169,
     "metadata": {},
     "output_type": "execute_result"
    }
   ],
   "source": [
    "P[1]"
   ]
  },
  {
   "cell_type": "code",
   "execution_count": 172,
   "metadata": {},
   "outputs": [
    {
     "data": {
      "text/plain": [
       "Table with 232 rows, 13 columns:\n",
       "Columns:\n",
       "\u001b[1m#   \u001b[22m\u001b[1mcolname  \u001b[22m\u001b[1mtype\u001b[22m\n",
       "────────────────────\n",
       "1   movieId  Int64\n",
       "2   bias     Float64\n",
       "3   f_1      Float64\n",
       "4   f_2      Float64\n",
       "5   f_3      Float64\n",
       "6   f_4      Float64\n",
       "7   f_5      Float64\n",
       "8   f_6      Float64\n",
       "9   f_7      Float64\n",
       "10  f_8      Float64\n",
       "11  f_9      Float64\n",
       "12  f_10     Float64\n",
       "13  rating   Float64"
      ]
     },
     "execution_count": 172,
     "metadata": {},
     "output_type": "execute_result"
    }
   ],
   "source": [
    "Pjoin = join(P, collect(tbl[:,1]), how=:inner, lkey=:movieId, rkey=:movieId)\n",
    "Pbiased = setcol(table(Pjoin), :rating, All(:bias, :rating)=>r->r.rating - μ - r.bias)\n",
    "#map(r->(rating=begin r.rating - μ - r.bias end,), Pjoin)"
   ]
  },
  {
   "cell_type": "code",
   "execution_count": 157,
   "metadata": {},
   "outputs": [
    {
     "data": {
      "text/plain": [
       "Table with 232 rows, 13 columns:\n",
       "Columns:\n",
       "\u001b[1m#   \u001b[22m\u001b[1mcolname  \u001b[22m\u001b[1mtype\u001b[22m\n",
       "────────────────────\n",
       "1   movieId  Int64\n",
       "2   bias     Float64\n",
       "3   f_1      Float64\n",
       "4   f_2      Float64\n",
       "5   f_3      Float64\n",
       "6   f_4      Float64\n",
       "7   f_5      Float64\n",
       "8   f_6      Float64\n",
       "9   f_7      Float64\n",
       "10  f_8      Float64\n",
       "11  f_9      Float64\n",
       "12  f_10     Float64\n",
       "13  rating   Float64"
      ]
     },
     "execution_count": 157,
     "metadata": {},
     "output_type": "execute_result"
    }
   ],
   "source": [
    "table(Pjoin)"
   ]
  },
  {
   "cell_type": "code",
   "execution_count": 151,
   "metadata": {},
   "outputs": [
    {
     "ename": "MethodError",
     "evalue": "MethodError: no method matching getindex(::ColDict{NDSparse{NamedTuple{(:a, :b),Tuple{Float64,Float64}},Tuple{Int64},Columns{Tuple{Int64},Tuple{Array{Int64,1}}},Columns{NamedTuple{(:a, :b),Tuple{Float64,Float64}},NamedTuple{(:a, :b),Tuple{Array{Float64,1},Array{Float64,1}}}}}})\nClosest candidates are:\n  getindex(::ColDict, !Matched::AbstractArray) at /Users/guillaume/.julia/packages/IndexedTables/Jw0SP/src/columns.jl:825\n  getindex(::ColDict, !Matched::Any) at /Users/guillaume/.julia/packages/IndexedTables/Jw0SP/src/columns.jl:824",
     "output_type": "error",
     "traceback": [
      "MethodError: no method matching getindex(::ColDict{NDSparse{NamedTuple{(:a, :b),Tuple{Float64,Float64}},Tuple{Int64},Columns{Tuple{Int64},Tuple{Array{Int64,1}}},Columns{NamedTuple{(:a, :b),Tuple{Float64,Float64}},NamedTuple{(:a, :b),Tuple{Array{Float64,1},Array{Float64,1}}}}}})\nClosest candidates are:\n  getindex(::ColDict, !Matched::AbstractArray) at /Users/guillaume/.julia/packages/IndexedTables/Jw0SP/src/columns.jl:825\n  getindex(::ColDict, !Matched::Any) at /Users/guillaume/.julia/packages/IndexedTables/Jw0SP/src/columns.jl:824",
      "",
      "Stacktrace:",
      " [1] pushcol(::NDSparse{NamedTuple{(:a, :b),Tuple{Float64,Float64}},Tuple{Int64},Columns{Tuple{Int64},Tuple{Array{Int64,1}}},Columns{NamedTuple{(:a, :b),Tuple{Float64,Float64}},NamedTuple{(:a, :b),Tuple{Array{Float64,1},Array{Float64,1}}}}}, ::Symbol, ::Vararg{Any,N} where N) at /Users/guillaume/.julia/packages/IndexedTables/Jw0SP/src/columns.jl:943",
      " [2] top-level scope at In[151]:1"
     ]
    }
   ],
   "source": [
    "pushcol(t, :x, 1:5)"
   ]
  },
  {
   "cell_type": "code",
   "execution_count": 138,
   "metadata": {},
   "outputs": [
    {
     "data": {
      "text/plain": [
       "Table with 232 rows, 12 columns:\n",
       "Columns:\n",
       "\u001b[1m#   \u001b[22m\u001b[1mcolname  \u001b[22m\u001b[1mtype\u001b[22m\n",
       "────────────────────\n",
       "1   bias     Float64\n",
       "2   f_1      Float64\n",
       "3   f_2      Float64\n",
       "4   f_3      Float64\n",
       "5   f_4      Float64\n",
       "6   f_5      Float64\n",
       "7   f_6      Float64\n",
       "8   f_7      Float64\n",
       "9   f_8      Float64\n",
       "10  f_9      Float64\n",
       "11  f_10     Float64\n",
       "12  rating   Float64"
      ]
     },
     "execution_count": 138,
     "metadata": {},
     "output_type": "execute_result"
    }
   ],
   "source": [
    "table(values(join(P, collect(tbl[:,1]), how=:inner, lkey=:movieId, rkey=:movieId)))"
   ]
  },
  {
   "cell_type": "code",
   "execution_count": 148,
   "metadata": {},
   "outputs": [
    {
     "data": {
      "text/plain": [
       "1-d NDSparse with 5 values (2 field named tuples):\n",
       "1 │ a          b\n",
       "──┼─────────────────────\n",
       "1 │ -0.416712  -1.32935\n",
       "2 │ 0.880771   0.757857\n",
       "3 │ 0.0275525  -0.281738\n",
       "4 │ 0.0599767  0.412642\n",
       "5 │ 0.260158   1.0212"
      ]
     },
     "execution_count": 148,
     "metadata": {},
     "output_type": "execute_result"
    }
   ],
   "source": [
    "t = ndsparse(1:5, (a=randn(5), b=randn(5)))"
   ]
  },
  {
   "cell_type": "code",
   "execution_count": 125,
   "metadata": {},
   "outputs": [
    {
     "data": {
      "text/plain": [
       "1-d NDSparse with 5 values (2 field named tuples):\n",
       "1 │ foo       bar\n",
       "──┼────────────────────\n",
       "1 │ 2.07341   0.0506998\n",
       "2 │ 0.558361  0.717941\n",
       "3 │ 3.60815   0.157246\n",
       "4 │ 0.110397  0.580803\n",
       "5 │ 0.345117  4.75836"
      ]
     },
     "execution_count": 125,
     "metadata": {},
     "output_type": "execute_result"
    }
   ],
   "source": [
    "map(r->(foo=r.a^2, bar=r.b^2), t)"
   ]
  }
 ],
 "metadata": {
  "kernelspec": {
   "display_name": "Julia 1.0.1",
   "language": "julia",
   "name": "julia-1.0"
  },
  "language_info": {
   "file_extension": ".jl",
   "mimetype": "application/julia",
   "name": "julia",
   "version": "1.0.3"
  }
 },
 "nbformat": 4,
 "nbformat_minor": 2
}
