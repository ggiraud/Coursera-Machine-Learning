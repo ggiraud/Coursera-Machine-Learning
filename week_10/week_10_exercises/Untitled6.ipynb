{
 "cells": [
  {
   "cell_type": "code",
   "execution_count": 10,
   "metadata": {},
   "outputs": [],
   "source": [
    "using Distributed, OnlineStats, LibPQ, DataStreams, DataFrames, SharedArrays, Suppressor, Distributions, SparseArrays, IJulia, Plots, Logging, HDF5"
   ]
  },
  {
   "cell_type": "markdown",
   "metadata": {},
   "source": [
    "### Config Logger"
   ]
  },
  {
   "cell_type": "code",
   "execution_count": 2,
   "metadata": {},
   "outputs": [
    {
     "data": {
      "text/plain": [
       "SimpleLogger(IJulia.IJuliaStdio{Base.PipeEndpoint}(IOContext(Base.PipeEndpoint(RawFD(0x0000002e) open, 0 bytes waiting))), Info, Dict{Any,Int64}())"
      ]
     },
     "execution_count": 2,
     "metadata": {},
     "output_type": "execute_result"
    }
   ],
   "source": [
    "logger = ConsoleLogger(stdout, Logging.Debug)\n",
    "global_logger(logger)"
   ]
  },
  {
   "cell_type": "markdown",
   "metadata": {},
   "source": [
    "### Create workers"
   ]
  },
  {
   "cell_type": "code",
   "execution_count": 3,
   "metadata": {},
   "outputs": [],
   "source": [
    "addprocs(4)\n",
    "@everywhere using LinearAlgebra, LibPQ, DataFrames, SparseArrays, SharedArrays, OnlineStats, DataStreams, TimerOutputs"
   ]
  },
  {
   "cell_type": "markdown",
   "metadata": {},
   "source": [
    "### Cost function"
   ]
  },
  {
   "cell_type": "code",
   "execution_count": 4,
   "metadata": {},
   "outputs": [
    {
     "data": {
      "text/plain": [
       "cost (generic function with 1 method)"
      ]
     },
     "execution_count": 4,
     "metadata": {},
     "output_type": "execute_result"
    }
   ],
   "source": [
    "@inline function predict(i::Int64, u::Int64, μ::Float64, P::SharedMatrix{Float64,}, Q::SharedMatrix{Float64})::Float64\n",
    "    @fastmath @inbounds @views μ + P[i,2] + Q[u,2] + dot(P[i, 3:end],Q[u, 3:end])\n",
    "end\n",
    "\n",
    "function db_get_rows(conn::LibPQ.Connection, table::Symbol, limit::Int64, offset::Int64)::LibPQ.Result\n",
    "    LibPQ.execute(conn, \"\"\"\n",
    "        SELECT\n",
    "            \"movieId\",\n",
    "            \"userId\",\n",
    "            \"rating\"\n",
    "        FROM $table\n",
    "        LIMIT $limit\n",
    "        OFFSET $offset;\n",
    "    \"\"\");\n",
    "end\n",
    "\n",
    "function cost(conn::LibPQ.Connection, table::Symbol,\n",
    "        item_map::SparseVector{Int64,Int64}, user_map::SparseVector{Int64,Int64},\n",
    "        P::SharedMatrix{Float64,}, Q::SharedMatrix{Float64},\n",
    "        μ::Float64)::Float64\n",
    "\n",
    "    limit::Int64 = 10000\n",
    "    offset::Int64 = 0\n",
    "    total::Float64 = 0.0\n",
    "    nrows::Int64 = 0\n",
    "\n",
    "    while true\n",
    "        res = db_get_rows(conn, table, limit, offset)\n",
    "        nrows = num_rows(res)\n",
    "        total += mapreduce((row)->begin\n",
    "                @fastmath @inbounds abs2(predict(item_map[row.movieId], user_map[row.userId], μ, P, Q) - row.rating)\n",
    "            end, +, Data.rows(res))\n",
    "        \n",
    "        if nrows < limit\n",
    "            break\n",
    "        end\n",
    "\n",
    "        offset += limit\n",
    "    end\n",
    "\n",
    "    total\n",
    "end"
   ]
  },
  {
   "cell_type": "markdown",
   "metadata": {},
   "source": [
    "### Lstq function"
   ]
  },
  {
   "cell_type": "code",
   "execution_count": 5,
   "metadata": {},
   "outputs": [],
   "source": [
    "@everywhere function db_select_rows(conn::LibPQ.Connection, table::Symbol,\n",
    "        src_column::Symbol, dst_column::Symbol,\n",
    "        bounds::UnitRange{Int64},\n",
    "        limit::Int64, offset::Int64)::LibPQ.Result\n",
    "    LibPQ.execute(conn, \"\"\"\n",
    "        SELECT\n",
    "            \"$src_column\",\n",
    "            \"$dst_column\",\n",
    "            \"rating\"\n",
    "        FROM $table\n",
    "        WHERE \"$dst_column\" BETWEEN $(minimum(bounds)) AND $(maximum(bounds))\n",
    "        ORDER BY (\"$dst_column\", \"$src_column\")\n",
    "        LIMIT $limit\n",
    "        OFFSET $offset;\n",
    "    \"\"\");\n",
    "end\n",
    "\n",
    "@everywhere function lstq(table::Symbol, bounds::UnitRange{Int64},\n",
    "        src_column::Symbol, dst_column::Symbol,\n",
    "        src_map::SparseVector{Int64,Int64}, dst_map::SparseVector{Int64,Int64},\n",
    "        S::SharedMatrix{Float64,}, D::SharedMatrix{Float64},\n",
    "        μ::Float64, reg::Float64)::Nothing\n",
    "\n",
    "    global conn\n",
    "    \n",
    "    limit::Int64 = 10000\n",
    "    offset::Int64 = 0\n",
    "    current_id::Int64 = minimum(bounds)\n",
    "    src_index::Int64 = 0\n",
    "    m::Int64, n::Int64 = size(S)\n",
    "    X = zeros(n-1, n-1)\n",
    "    y = zeros(n-1)\n",
    "    Z = zeros(n-1, n-1)\n",
    "    eye::Matrix{Float64} = Diagonal(ones(n-1))\n",
    "    nrows::Int64 = 0\n",
    "    \n",
    "    \n",
    "    while true\n",
    "        res = db_select_rows(conn, table, src_column, dst_column, bounds, limit, offset)\n",
    "        nrows = num_rows(res)\n",
    "        \n",
    "        @fastmath @inbounds for row = Data.rows(res)\n",
    "            if row[dst_column] != current_id\n",
    "                BLAS.axpy!(reg,eye,X) # X += reg*I\n",
    "                LAPACK.sysv!('U', X, y) # y = X \\ y\n",
    "                @views D[dst_map[current_id], 2:end] .= y\n",
    "                current_id = row[dst_column]\n",
    "                BLAS.blascopy!(length(X),Z,1,X,1) # fill!(X, zero(Float64))\n",
    "                BLAS.blascopy!(length(y),Z[:,1],1,y,1) # fill!(y, zero(Float64))\n",
    "            end\n",
    "            src_index = src_map[row[src_column]]\n",
    "            a = S[src_index, [1; 3:end]]\n",
    "            b = row[:rating] .- μ .- S[src_index, 2]\n",
    "\n",
    "            BLAS.syr!('U', 1.0, a, X) # X += a * a'\n",
    "            BLAS.axpy!(b,a,y) # y += a * b\n",
    "        end\n",
    "        \n",
    "        @fastmath @inbounds if nrows < limit\n",
    "            BLAS.axpy!(reg,eye,X)\n",
    "            LAPACK.sysv!('U', X, y)\n",
    "            @views D[dst_map[current_id], 2:end] .= y\n",
    "            break\n",
    "        end\n",
    "        \n",
    "        offset += limit\n",
    "    end\n",
    "end"
   ]
  },
  {
   "cell_type": "markdown",
   "metadata": {},
   "source": [
    "### ALS function"
   ]
  },
  {
   "cell_type": "code",
   "execution_count": 12,
   "metadata": {},
   "outputs": [
    {
     "data": {
      "text/plain": [
       "als (generic function with 2 methods)"
      ]
     },
     "execution_count": 12,
     "metadata": {},
     "output_type": "execute_result"
    }
   ],
   "source": [
    "@everywhere function db_set_work_memory(conn::LibPQ.Connection)::Nothing\n",
    "    LibPQ.execute(conn, \"\"\" \n",
    "        SET work_mem TO '1 GB';\n",
    "    \"\"\");\n",
    "    nothing\n",
    "end\n",
    "\n",
    "function db_mean(conn::LibPQ.Connection, table::Symbol, column::Symbol)::Float64\n",
    "    collect(skipmissing(fetch!(NamedTuple, LibPQ.execute(conn, \"\"\"\n",
    "        SELECT\n",
    "            AVG(\"$column\") as mean\n",
    "        FROM $table;\n",
    "    \"\"\"))[:mean]))[1];\n",
    "end\n",
    "\n",
    "function db_unique_ids(conn::LibPQ.Connection, table::Symbol, column::Symbol)::Vector{Int64}\n",
    "    collect(skipmissing(fetch!(NamedTuple, LibPQ.execute(conn, \"\"\"\n",
    "        SELECT DISTINCT\n",
    "            \"$column\"\n",
    "        FROM $table\n",
    "        ORDER BY \"$column\";\n",
    "    \"\"\"))[column]));\n",
    "end\n",
    "\n",
    "function db_split_ids(conn::LibPQ.Connection, table::Symbol, column::Symbol, chunks::Int)::Vector{UnitRange{Int64}}\n",
    "    collect(UnitRange{Int64}(row.min, row.max) for row in skipmissing(Data.rows(LibPQ.execute(conn, \"\"\"\n",
    "        WITH a AS (\n",
    "            SELECT DISTINCT\n",
    "                \"$column\",\n",
    "                trunc(\n",
    "                    cume_dist() OVER (\n",
    "                        ORDER BY \"$column\"\n",
    "                    ) * (\\$1 -  0.00001)\n",
    "                )::int4 + 1 AS chunk\n",
    "            FROM $table\n",
    "            ORDER BY \"$column\"\n",
    "        )\n",
    "\n",
    "        SELECT\n",
    "            min(\"$column\") as min,\n",
    "            max(\"$column\") as max--,\n",
    "            --array_agg(\"$column\")::int8[] AS ids,\n",
    "            --chunk \n",
    "        FROM a\n",
    "        GROUP BY chunk\n",
    "        ORDER BY chunk;\n",
    "    \"\"\", [chunks]))));\n",
    "end\n",
    "\n",
    "function fit_factors(conn::LibPQ.Connection, table::Symbol, nepochs::Int64, μ::Float64, reg::Float64,\n",
    "    item_chunks::Vector{UnitRange{Int64}}, user_chunks::Vector{UnitRange{Int64}},\n",
    "    item_column::Symbol, user_column::Symbol,\n",
    "    item_map::SparseVector{Int64,Int64}, user_map::SparseVector{Int64,Int64},\n",
    "    P::SharedMatrix{Float64}, Q::SharedMatrix{Float64},\n",
    "    cb::Union{Nothing, Function}=nothing,)::Nothing\n",
    "\n",
    "    for epoch::Int64 in 1:nepochs\n",
    "        @sync for (i,w) in enumerate(workers())\n",
    "            @async remotecall_wait(lstq, w, [table, user_chunks[i], item_column, user_column, item_map, user_map, P, Q, μ, reg]...)\n",
    "        end\n",
    "\n",
    "        @sync for (i,w) in enumerate(workers())\n",
    "            @async remotecall_wait(lstq, w, [table, item_chunks[i], user_column, item_column, user_map, item_map, Q, P, μ, reg]...)\n",
    "        end\n",
    "\n",
    "        if cb !== nothing\n",
    "            cb(epoch, cost(conn, table, item_map, user_map, P, Q, μ))\n",
    "        end\n",
    "    end\n",
    "    nothing\n",
    "end\n",
    "\n",
    "function als(dbstr::String, table::Symbol, k::Int64=10;\n",
    "        nepochs::Int64=10,\n",
    "        reg::Float64=0.0,\n",
    "        cb::Union{Nothing, Function}=nothing)\n",
    "    \n",
    "    type_map::Dict{Symbol, Type} = Dict(:int4=>Int64, :float4=>Float64)\n",
    "    \n",
    "    conn = LibPQ.Connection(dbstr; type_map=type_map)\n",
    "    db_set_work_memory(conn)\n",
    "    \n",
    "    μ::Float64 = db_mean(conn, table, :rating)\n",
    "    user_ids::Vector{Int64} = db_unique_ids(conn, table, :userId)\n",
    "    item_ids::Vector{Int64} = db_unique_ids(conn, table, :movieId)\n",
    "    user_chunks::Vector{UnitRange{Int64}} = db_split_ids(conn, table, :userId, nworkers())\n",
    "    item_chunks::Vector{UnitRange{Int64}} = db_split_ids(conn, table, :movieId, nworkers())\n",
    "\n",
    "    m::Int64, n::Int64 = length(item_ids), length(user_ids)\n",
    "    \n",
    "    item_map::SparseVector{Int64,Int64} = sparsevec(item_ids, 1:m);\n",
    "    user_map::SparseVector{Int64,Int64} = sparsevec(user_ids, 1:n);\n",
    "    \n",
    "    temp_dir_name = tempdir()\n",
    "    P_path = joinpath(temp_dir_name, \"P\")\n",
    "    @info \"Created temp file $P_path\"\n",
    "    Q_path = joinpath(temp_dir_name, \"Q\")\n",
    "    @info \"Created temp file $Q_path\"\n",
    "    \n",
    "    P::SharedMatrix{Float64} = SharedMatrix{Float64}(P_path, (m,k+2), mode=\"w+\");\n",
    "    Q::SharedMatrix{Float64} = SharedMatrix{Float64}(Q_path, (n,k+2), mode=\"w+\");\n",
    "    \n",
    "    P[:,:] .= [ones(m) zeros(m) rand(Normal(0.0, 1.0), m, k)];\n",
    "    Q[:,:] .= [ones(n) zeros(n) rand(Normal(0.0, 1.0), n, k)];\n",
    "    \n",
    "    @everywhere workers() begin\n",
    "        conn = LibPQ.Connection($dbstr; type_map=$type_map)\n",
    "        db_set_work_memory(conn)\n",
    "    end\n",
    "    \n",
    "    fit_factors(conn, table, nepochs, μ, reg, item_chunks, user_chunks, :movieId, :userId, item_map, user_map, P, Q, cb)\n",
    "        \n",
    "    @everywhere workers() close(conn)\n",
    "    close(conn)\n",
    "    \n",
    "    # overwrite existing contents (\"cw\" otherwise)\n",
    "    h5open(\"factors.h5\", \"w\") do fid\n",
    "        write(fid, \"P\", P)\n",
    "        write(fid, \"Q\", Q)\n",
    "    end\n",
    "    @info \"Serialized P and Q factors to factors.h5\"\n",
    "    \n",
    "    rm(P_path)\n",
    "    @info \"Removed temp file $P_path\"\n",
    "    rm(Q_path)\n",
    "    @info \"Removed temp file $Q_path\"\n",
    "    nothing\n",
    "end"
   ]
  },
  {
   "cell_type": "markdown",
   "metadata": {},
   "source": [
    "### Compute Latent Factors"
   ]
  },
  {
   "cell_type": "code",
   "execution_count": 7,
   "metadata": {},
   "outputs": [
    {
     "name": "stdout",
     "output_type": "stream",
     "text": [
      "\u001b[36m\u001b[1m[ \u001b[22m\u001b[39m\u001b[36m\u001b[1mInfo: \u001b[22m\u001b[39mCreated temp file /var/folders/yq/8t7k_n_d4b39wmbl31mvkdgm0000gn/T/P\n",
      "\u001b[36m\u001b[1m[ \u001b[22m\u001b[39m\u001b[36m\u001b[1mInfo: \u001b[22m\u001b[39mCreated temp file /var/folders/yq/8t7k_n_d4b39wmbl31mvkdgm0000gn/T/Q\n",
      "\u001b[36m\u001b[1m[ \u001b[22m\u001b[39m\u001b[36m\u001b[1mInfo: \u001b[22m\u001b[39mepoch: 1, cost: 2356.089023710874\n",
      "\u001b[36m\u001b[1m[ \u001b[22m\u001b[39m\u001b[36m\u001b[1mInfo: \u001b[22m\u001b[39mepoch: 2, cost: 975.694757403403\n",
      "\u001b[36m\u001b[1m[ \u001b[22m\u001b[39m\u001b[36m\u001b[1mInfo: \u001b[22m\u001b[39mepoch: 3, cost: 530.8858858293574\n",
      "\u001b[36m\u001b[1m[ \u001b[22m\u001b[39m\u001b[36m\u001b[1mInfo: \u001b[22m\u001b[39mepoch: 4, cost: 326.7118600581202\n",
      "\u001b[36m\u001b[1m[ \u001b[22m\u001b[39m\u001b[36m\u001b[1mInfo: \u001b[22m\u001b[39mepoch: 5, cost: 216.4548565622076\n",
      "\u001b[36m\u001b[1m[ \u001b[22m\u001b[39m\u001b[36m\u001b[1mInfo: \u001b[22m\u001b[39mepoch: 6, cost: 151.31816241818476\n",
      "\u001b[36m\u001b[1m[ \u001b[22m\u001b[39m\u001b[36m\u001b[1mInfo: \u001b[22m\u001b[39mepoch: 7, cost: 109.96714686160493\n",
      "\u001b[36m\u001b[1m[ \u001b[22m\u001b[39m\u001b[36m\u001b[1mInfo: \u001b[22m\u001b[39mepoch: 8, cost: 82.2459530029628\n",
      "\u001b[36m\u001b[1m[ \u001b[22m\u001b[39m\u001b[36m\u001b[1mInfo: \u001b[22m\u001b[39mepoch: 9, cost: 62.935313370359495\n",
      "\u001b[36m\u001b[1m[ \u001b[22m\u001b[39m\u001b[36m\u001b[1mInfo: \u001b[22m\u001b[39mepoch: 10, cost: 49.025604565481544\n"
     ]
    },
    {
     "ename": "UndefVarError",
     "evalue": "UndefVarError: h5open not defined",
     "output_type": "error",
     "traceback": [
      "UndefVarError: h5open not defined",
      "",
      "Stacktrace:",
      " [1] #als#11(::Int64, ::Float64, ::getfield(Main, Symbol(\"##14#15\")), ::Function, ::String, ::Symbol, ::Int64) at ./In[6]:117",
      " [2] (::getfield(Main, Symbol(\"#kw##als\")))(::NamedTuple{(:nepochs, :reg, :cb),Tuple{Int64,Float64,getfield(Main, Symbol(\"##14#15\"))}}, ::typeof(als), ::String, ::Symbol, ::Int64) at ./none:0",
      " [3] top-level scope at util.jl:156",
      " [4] top-level scope at In[7]:2"
     ]
    }
   ],
   "source": [
    "costs = []\n",
    "    \n",
    "@time als(\"host=localhost dbname=postgres\", :ml_small, 100;\n",
    "    nepochs=10,\n",
    "    reg=0.0001,\n",
    "    cb=(epoch, cost)->begin\n",
    "        #IJulia.clear_output(true)\n",
    "        @info \"epoch: $(epoch), cost: $(cost)\"\n",
    "        push!(costs, cost)\n",
    "        end)\n",
    "\n",
    "plot(costs)"
   ]
  },
  {
   "cell_type": "code",
   "execution_count": 18,
   "metadata": {},
   "outputs": [
    {
     "name": "stdout",
     "output_type": "stream",
     "text": [
      "\u001b[36m\u001b[1m[ \u001b[22m\u001b[39m\u001b[36m\u001b[1mInfo: \u001b[22m\u001b[39mCreated temp file /var/folders/yq/8t7k_n_d4b39wmbl31mvkdgm0000gn/T/P\n",
      "\u001b[36m\u001b[1m[ \u001b[22m\u001b[39m\u001b[36m\u001b[1mInfo: \u001b[22m\u001b[39mCreated temp file /var/folders/yq/8t7k_n_d4b39wmbl31mvkdgm0000gn/T/Q\n",
      "\u001b[36m\u001b[1m[ \u001b[22m\u001b[39m\u001b[36m\u001b[1mInfo: \u001b[22m\u001b[39mSerialized P and Q factors to factors.h5\n",
      "\u001b[36m\u001b[1m[ \u001b[22m\u001b[39m\u001b[36m\u001b[1mInfo: \u001b[22m\u001b[39mRemoved temp file /var/folders/yq/8t7k_n_d4b39wmbl31mvkdgm0000gn/T/P\n",
      "\u001b[36m\u001b[1m[ \u001b[22m\u001b[39m\u001b[36m\u001b[1mInfo: \u001b[22m\u001b[39mRemoved temp file /var/folders/yq/8t7k_n_d4b39wmbl31mvkdgm0000gn/T/Q\n",
      " 49.788574 seconds (79.77 k allocations: 20.420 MiB, 1.65% gc time)\n"
     ]
    }
   ],
   "source": [
    "costs = []\n",
    "    \n",
    "@time als(\"host=localhost dbname=postgres\", :ml_small, 100;\n",
    "    nepochs=10,\n",
    "    reg=0.0001)"
   ]
  },
  {
   "cell_type": "markdown",
   "metadata": {},
   "source": [
    "### Destroy workers"
   ]
  },
  {
   "cell_type": "code",
   "execution_count": null,
   "metadata": {},
   "outputs": [],
   "source": [
    "@suppress_err rmprocs(workers())"
   ]
  }
 ],
 "metadata": {
  "jupytext": {
   "formats": "ipynb,jl:light",
   "text_representation": {
    "extension": ".jl",
    "format_name": "light",
    "format_version": "1.3",
    "jupytext_version": "0.8.6"
   }
  },
  "kernelspec": {
   "display_name": "Julia 1.1.0",
   "language": "julia",
   "name": "julia-1.1"
  },
  "language_info": {
   "file_extension": ".jl",
   "mimetype": "application/julia",
   "name": "julia",
   "version": "1.1.0"
  }
 },
 "nbformat": 4,
 "nbformat_minor": 2
}
