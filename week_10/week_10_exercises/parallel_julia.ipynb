{
 "cells": [
  {
   "cell_type": "code",
   "execution_count": 1,
   "metadata": {},
   "outputs": [],
   "source": [
    "using Distributed"
   ]
  },
  {
   "cell_type": "code",
   "execution_count": 2,
   "metadata": {},
   "outputs": [
    {
     "data": {
      "text/plain": [
       "4-element Array{Int64,1}:\n",
       " 2\n",
       " 3\n",
       " 4\n",
       " 5"
      ]
     },
     "execution_count": 2,
     "metadata": {},
     "output_type": "execute_result"
    }
   ],
   "source": [
    "addprocs(4)"
   ]
  },
  {
   "cell_type": "code",
   "execution_count": null,
   "metadata": {},
   "outputs": [],
   "source": [
    "rmprocs(nworkers())"
   ]
  },
  {
   "cell_type": "code",
   "execution_count": 14,
   "metadata": {},
   "outputs": [
    {
     "data": {
      "text/plain": [
       "48-element Array{Int64,1}:\n",
       "  1\n",
       "  1\n",
       "  2\n",
       "  2\n",
       "  2\n",
       "  3\n",
       "  3\n",
       "  3\n",
       "  3\n",
       "  3\n",
       "  3\n",
       "  4\n",
       "  4\n",
       "  ⋮\n",
       "  8\n",
       "  9\n",
       "  9\n",
       "  9\n",
       "  9\n",
       "  9\n",
       "  9\n",
       " 10\n",
       " 10\n",
       " 10\n",
       " 10\n",
       " 10"
      ]
     },
     "execution_count": 14,
     "metadata": {},
     "output_type": "execute_result"
    }
   ],
   "source": [
    "list = [i for i in 1:10 for _ in 1:rand(1:10)]"
   ]
  },
  {
   "cell_type": "code",
   "execution_count": 25,
   "metadata": {},
   "outputs": [
    {
     "name": "stdout",
     "output_type": "stream",
     "text": [
      "3\n",
      "1\n",
      "3\n",
      "1\n",
      "3\n",
      "3\n",
      "2\n",
      "5\n",
      "3\n",
      "2\n",
      "5\n",
      "3\n",
      "2\n",
      "5\n",
      "5\n",
      "6\n",
      "7\n",
      "5\n",
      "6\n",
      "7\n",
      "4\n",
      "6\n",
      "7\n",
      "4\n",
      "6\n",
      "8\n",
      "7\n",
      "4\n",
      "6\n",
      "8\n",
      "4\n",
      "6\n",
      "9\n",
      "4\n",
      "6\n",
      "9\n",
      "10\n",
      "6\n",
      "9\n",
      "10\n",
      "6\n",
      "9\n",
      "10\n",
      "6\n",
      "9\n",
      "ok\n",
      "10\n",
      "9\n",
      "10\n"
     ]
    }
   ],
   "source": [
    "c = RemoteChannel(()->Channel(0))\n",
    "d = RemoteChannel(()->Channel(0))\n",
    "\n",
    "@everywhere function do_work(c, d)\n",
    "    while true\n",
    "        lc = try take!(c) catch nothing end\n",
    "        if lc === nothing\n",
    "            close(c)\n",
    "            break\n",
    "        end\n",
    "        \n",
    "        num = 0\n",
    "        count = 0\n",
    "        while true\n",
    "            val = try take!(lc) catch nothing end\n",
    "            if val === nothing\n",
    "                close(lc)\n",
    "                break\n",
    "            end\n",
    "            \n",
    "            num = val\n",
    "            count += 1\n",
    "            put!(d, val)\n",
    "        end\n",
    "        #put!(d, (num, count))\n",
    "    end\n",
    "    put!(d, nothing)\n",
    "end\n",
    "\n",
    "function make_jobs(c, list)\n",
    "    ts = []\n",
    "    start = 1\n",
    "    \n",
    "    while start <= length(list)\n",
    "        v = list[start]\n",
    "        next = findnext(!isequal(v), list, start)\n",
    "        if next === nothing\n",
    "            next = length(list) + 1\n",
    "        end\n",
    "        lc = RemoteChannel(()->Channel(0))\n",
    "        put!(c, lc)\n",
    "        t = Task(() -> begin\n",
    "                for i in list[start:next-1]\n",
    "                    put!(lc, i)\n",
    "                    yield()\n",
    "                end\n",
    "                put!(lc, nothing)\n",
    "            end)\n",
    "        push!(ts, t)\n",
    "        schedule(t)\n",
    "        yield()\n",
    "        start = next\n",
    "    end\n",
    "    println(\"ok\")\n",
    "    for t in ts\n",
    "        wait(t)\n",
    "        #println(\"Task $t done\")\n",
    "    end\n",
    "    put!(c, nothing)\n",
    "end\n",
    "\n",
    "for p in workers()\n",
    "    remote_do(do_work, p, c, d)\n",
    "end\n",
    "\n",
    "@async make_jobs(c, list)\n",
    "        \n",
    "while true\n",
    "    t = try take!(d) catch nothing end\n",
    "    if t === nothing\n",
    "        #close(d)\n",
    "        break\n",
    "    end\n",
    "    println(t)\n",
    "end"
   ]
  }
 ],
 "metadata": {
  "kernelspec": {
   "display_name": "Julia 1.0.1",
   "language": "julia",
   "name": "julia-1.0"
  },
  "language_info": {
   "file_extension": ".jl",
   "mimetype": "application/julia",
   "name": "julia",
   "version": "1.0.3"
  }
 },
 "nbformat": 4,
 "nbformat_minor": 2
}
