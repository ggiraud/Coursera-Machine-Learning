{
 "cells": [
  {
   "cell_type": "markdown",
   "metadata": {},
   "source": [
    "## Collaborative Filtering Model\n",
    "\n",
    "Derive unknown ratings from similar items, discovered by **k-nearest neighbours** algorithm.\n",
    "\n",
    "> $\\displaystyle \\hat{r}_{xi} = \\frac{\\sum_{j \\in N(i,x)} s_{ij} \\cdot r_{xj}}{\\sum_{j \\in N(i,x)} s_{ij}}$\n",
    "\n",
    "$s_{ij}$ is the **similarity** of items $i$ and $j$.\n",
    "\n",
    "$r_{xj}$ is the **rating** of user $x$ on item $j$.\n",
    "\n",
    "$N(i,x)$ is the set of **items similar** to item $i$ that were **rated** by user $x$."
   ]
  },
  {
   "cell_type": "markdown",
   "metadata": {},
   "source": [
    "### Root Mean Squared Error (RMSE)\n",
    "\n",
    "> $\\displaystyle RMSE = \\sqrt{\\frac{\\sum_{(i,x)}(\\hat{r}_{xi} - r_{xi})^2}{|R|}}$\n",
    "\n",
    "$R$ is the ratings matrix, $R \\in \\mathbb{R}^{m \\times n}$.\n",
    "\n",
    "$\\hat{r}_{xi}$ is a **Predicted** rating of user $x$ on item $i$.\n",
    "\n",
    "$r_{xi}$ is a **True** rating of user $x$ on item $i$.\n",
    "\n",
    "$|R|$ is the total number of ratings."
   ]
  },
  {
   "cell_type": "markdown",
   "metadata": {},
   "source": [
    "### Item-Based Cosine Similarity\n",
    "\n",
    "> $\\displaystyle s_{ij} = \\frac{r_i \\cdot r_j}{\\|r_i\\|_2 * \\|r_j\\|_2}$\n",
    "\n",
    "$r_i$ is the vector of ratings of item $i$.\n",
    "\n",
    "$r_j$ is the vector of ratings of item $j$."
   ]
  },
  {
   "cell_type": "markdown",
   "metadata": {},
   "source": [
    "### Item-Based Adjusted Cosine Similarity\n",
    "\n",
    "Takes into account the difference in rating scale between different users.\n",
    "\n",
    "> $\\displaystyle s_{i,j} = \\frac{\\sum_{x} (r_{xi} - \\bar{r}_x) (r_{xj} - \\bar{r}_x)}\n",
    "{\\sqrt{\\sum_{x}(r_{xi} - \\bar{r}_x)^2} \\sqrt{\\sum_{x}(r_{xj} - \\bar{r}_x)^2}}$\n",
    "\n",
    "$r_{xi}$ is a rating of user $x$ on item $i$.\n",
    "\n",
    "$r_{xj}$ is a rating of user $x$ on item $j$.\n",
    "\n",
    "$\\bar{r}_{x}$ is the mean of all the rating of user $x$."
   ]
  },
  {
   "cell_type": "markdown",
   "metadata": {},
   "source": [
    "### Including Global Effects\n",
    "\n",
    "We get better estimates if we model deviations.\n",
    "\n",
    "> $\\displaystyle \\hat{r}_{xi} = b_{xi} + \\frac{\\sum_{j \\in N(i,x)} s_{ij} \\cdot (r_{xj} - b_{xj})}{\\sum_{j \\in N(i,x)} s_{ij}}$\n",
    "\n",
    "Where we use the **baseline** $b_{xi}$.\n",
    "\n",
    "$b_{xi} = \\mu + b_x + b_i$\n",
    "\n",
    "$\\mu$ is the **overall mean rating**.\n",
    "\n",
    "$b_x$ is the **rating deviation** of user $x$:\n",
    "> $b_x$ = (average rating of user $x$) - $\\mu$\n",
    "\n",
    "$b_i$ is the **rating deviation** of item $i$:\n",
    "> $b_i$ = (average rating of item $i$) - $\\mu$"
   ]
  },
  {
   "cell_type": "markdown",
   "metadata": {},
   "source": [
    "## Latent Factor Model\n",
    "\n",
    "Let's assume we can approximate the rating matrix $R$ as a product of \"thin\" $Q \\cdot P^{\\top}$.\n",
    "\n",
    "> $R \\approx Q \\cdot P^{\\top}$\n",
    ">\n",
    "> $\\displaystyle \\hat{r}_{xi} = q_i \\cdot p^{\\top}_x$\n",
    "\n",
    "$q_i$ is the row $i$ of $q$.\n",
    "\n",
    "$p^{\\top}_x$ is the column $x$ of $p^{\\top}$."
   ]
  },
  {
   "cell_type": "markdown",
   "metadata": {},
   "source": [
    "### Summed Squared Error (SSE)\n",
    "\n",
    "Our goal is to find $P$ and $Q$ such as:\n",
    "\n",
    "> $\\displaystyle min_{P,Q} \\sum_{(i,x) \\in R} (r_{xi} - q_i \\cdot p^{\\top}_x)^2$"
   ]
  },
  {
   "cell_type": "markdown",
   "metadata": {},
   "source": [
    "### Summed Squared Error with Regularization\n",
    "\n",
    "> $\\displaystyle min_{P,Q} \\sum_{(i,x) \\in R} (r_{xi} - q_i \\cdot p^{\\top}_x)^2 + \\lambda\\big(\\sum_{x}\\|p_{x}\\|^2 + \\sum_{i}\\|q_{i}\\|^2\\big)$"
   ]
  },
  {
   "cell_type": "markdown",
   "metadata": {},
   "source": [
    "### Gradient Descent\n",
    "\n",
    "- Initialize $P$ and $Q$ (using **SVD**, pretend missing ratings are $0$).\n",
    "- Do gradient descent:\n",
    "    - $P \\leftarrow P - \\alpha \\cdot \\nabla P$\n",
    "    > $\\displaystyle \\nabla Q = [\\nabla q_{ik}]$\n",
    "    >\n",
    "    > $\\displaystyle \\nabla q_{ik} = \\sum_{(i,x) \\in R} -2(r_{xi} - q_{i} \\cdot p^{\\top}_{x})p_{xk} + 2\\lambda q_{ik}$\n",
    "    >\n",
    "    > $q_{ik}$ is entry $k$ of row $q_i$ of matrix $Q$.\n",
    "    - $Q \\leftarrow Q - \\alpha \\cdot \\nabla Q$\n",
    "    > $\\displaystyle \\nabla P = [\\nabla p_{ik}]$\n",
    "    >\n",
    "    > $\\displaystyle \\nabla p_{xk} = \\sum_{(i,x) \\in R} -2(r_{xi} - q_{i} \\cdot p^{\\top}_{x})q_{ik} + 2\\lambda p_{xk}$\n",
    "    >\n",
    "    > $p_{xk}$ is entry $k$ of row $p_x$ of matrix $P$."
   ]
  },
  {
   "cell_type": "markdown",
   "metadata": {},
   "source": [
    "### Including Global Effects\n",
    "\n",
    "> $\\hat{r}_{xi} = \\mu + b_x + b_i + q_i \\cdot p^{\\top}_{x}$\n",
    "\n",
    "$\\mu$ is the **overall mean rating**.\n",
    "\n",
    "$b_x$ is the **rating deviation** of user $x$:\n",
    "> $b_x$ = (average rating of user $x$) - $\\mu$\n",
    "\n",
    "$b_i$ is the **rating deviation** of item $i$:\n",
    "> $b_i$ = (average rating of item $i$) - $\\mu$"
   ]
  },
  {
   "cell_type": "markdown",
   "metadata": {},
   "source": [
    "### Stochastic Gradient Descent\n",
    "\n",
    "Solve:\n",
    "\n",
    "> $\\displaystyle min_{Q,P} \\sum_{(x,i)\\in R} \\big(r_{xi} - (\\mu + b_x + b_i +q_i \\cdot p^{\\top}_x)\\big)^2\n",
    "+ \\lambda\\big(\\sum_i \\|q_i\\|^2 + \\sum_x \\|p_x\\|^2 + \\sum_x b_x^2 + \\sum_i b_i^2 \\big)$"
   ]
  }
 ],
 "metadata": {
  "kernelspec": {
   "display_name": "Python 3",
   "language": "python",
   "name": "python3"
  },
  "language_info": {
   "codemirror_mode": {
    "name": "ipython",
    "version": 3
   },
   "file_extension": ".py",
   "mimetype": "text/x-python",
   "name": "python",
   "nbconvert_exporter": "python",
   "pygments_lexer": "ipython3",
   "version": "3.6.6"
  }
 },
 "nbformat": 4,
 "nbformat_minor": 2
}
