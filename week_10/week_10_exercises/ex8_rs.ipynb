{
 "cells": [
  {
   "cell_type": "code",
   "execution_count": 2,
   "metadata": {},
   "outputs": [],
   "source": [
    "%matplotlib inline\n",
    "import matplotlib.pyplot as plt\n",
    "import numpy as np\n",
    "from scipy.io import loadmat\n",
    "from scipy.optimize import minimize, fmin_cg\n",
    "from IPython import display"
   ]
  },
  {
   "cell_type": "markdown",
   "metadata": {},
   "source": [
    "## Load Data"
   ]
  },
  {
   "cell_type": "markdown",
   "metadata": {},
   "source": [
    "$Y$ is the **ratings** matrix, $Y(i,j) \\in \\{0,1,2,3,4,5\\}$\n",
    "\n",
    "$R$ is the **rated status** matrix, $R(i,j) \\in \\{0,1\\}$\n",
    "\n",
    "$Y, R \\in \\mathbb{R}^{n_m \\times n_u}$"
   ]
  },
  {
   "cell_type": "code",
   "execution_count": 3,
   "metadata": {},
   "outputs": [],
   "source": [
    "data = loadmat('ex8_movies.mat')\n",
    "Y, R = data['Y'].astype(float), data['R'].astype(float)"
   ]
  },
  {
   "cell_type": "code",
   "execution_count": 4,
   "metadata": {},
   "outputs": [
    {
     "data": {
      "text/plain": [
       "((1682, 943), (1682, 943))"
      ]
     },
     "execution_count": 4,
     "metadata": {},
     "output_type": "execute_result"
    }
   ],
   "source": [
    "Y.shape, R.shape"
   ]
  },
  {
   "cell_type": "markdown",
   "metadata": {},
   "source": [
    "$X$ is the **movie features** matrix, $X \\in \\mathbb{R}^{n_m \\times 10}$\n",
    "\n",
    "$Theta$ is the **user parameters** matrix, $Theta \\in \\mathbb{R}^{n_u \\times 10}$"
   ]
  },
  {
   "cell_type": "code",
   "execution_count": 5,
   "metadata": {},
   "outputs": [],
   "source": [
    "n_features = 100\n",
    "X = np.zeros((Y.shape[0], n_features))\n",
    "Theta = np.zeros((Y.shape[1], n_features))"
   ]
  },
  {
   "cell_type": "code",
   "execution_count": 6,
   "metadata": {},
   "outputs": [
    {
     "data": {
      "text/plain": [
       "((1682, 100), (943, 100))"
      ]
     },
     "execution_count": 6,
     "metadata": {},
     "output_type": "execute_result"
    }
   ],
   "source": [
    "X.shape, Theta.shape"
   ]
  },
  {
   "cell_type": "markdown",
   "metadata": {},
   "source": [
    "## Cost Function\n",
    "\n",
    "$\\displaystyle J(x^{(1)},\\dots,x^{(n_m)},\\theta^{(1)},\\dots,\\theta^{(n_u)}) = \\frac{1}{2} \\sum_{(i,j):r(i,j)=1} ((\\theta^{(j)})^{\\top} x^{(i)} - y^{(i,j)})^2 + \\left(\\frac{\\lambda}{2}\\sum_{j=1}^{n_u}\\sum_{k=1}^{n}(\\theta_{k}^{(j)})^2\\right) + \\left(\\frac{\\lambda}{2}\\sum_{i=1}^{n_m}\\sum_{k=1}^{n}(x_{k}^{(i)})^2\\right)$"
   ]
  },
  {
   "cell_type": "code",
   "execution_count": 7,
   "metadata": {},
   "outputs": [],
   "source": [
    "params = loadmat('ex8_movieParams.mat')\n",
    "X, Theta = params['X'], params['Theta']"
   ]
  },
  {
   "cell_type": "code",
   "execution_count": 8,
   "metadata": {},
   "outputs": [],
   "source": [
    "def cost(X_Theta, Y, R, n_movies, n_users, n_params, lamb=0):\n",
    "    X = X_Theta[:n_movies*n_params].reshape((n_movies, n_params))\n",
    "    Theta = X_Theta[n_movies*n_params:].reshape((n_users, n_params))\n",
    "    X_reg = (lamb/2) * np.sum(X**2)\n",
    "    Theta_reg = (lamb/2) * np.sum(Theta**2)\n",
    "    return (np.sum(np.square(R * (X @ Theta.T - Y))) / 2) + X_reg + Theta_reg"
   ]
  },
  {
   "cell_type": "code",
   "execution_count": 9,
   "metadata": {},
   "outputs": [],
   "source": [
    "def pack(*ts):\n",
    "    return np.concatenate([np.ravel(t) for t in ts])\n",
    "\n",
    "def unpack(p, *dims):\n",
    "    data = []\n",
    "    for i,j in dims:\n",
    "        data.append(np.reshape(p[:i*j], (i,j)))\n",
    "        p = p[i*j:]\n",
    "    return data"
   ]
  },
  {
   "cell_type": "code",
   "execution_count": 10,
   "metadata": {},
   "outputs": [
    {
     "name": "stdout",
     "output_type": "stream",
     "text": [
      "The cost is 22.22\n"
     ]
    }
   ],
   "source": [
    "c = cost(pack(X[:5,:3], Theta[:4,:3]), Y[:5,:4], R[:5,:4], 5, 4, 3)\n",
    "print(f'The cost is {c:.2f}')"
   ]
  },
  {
   "cell_type": "code",
   "execution_count": 11,
   "metadata": {},
   "outputs": [
    {
     "name": "stdout",
     "output_type": "stream",
     "text": [
      "The regularized cost is 31.34\n"
     ]
    }
   ],
   "source": [
    "c = cost(pack(X[:5,:3], Theta[:4,:3]), Y[:5,:4], R[:5,:4], 5, 4, 3, lamb=1.5)\n",
    "print(f'The regularized cost is {c:.2f}')"
   ]
  },
  {
   "cell_type": "code",
   "execution_count": 12,
   "metadata": {},
   "outputs": [
    {
     "data": {
      "text/plain": [
       "27918.64012454421"
      ]
     },
     "execution_count": 12,
     "metadata": {},
     "output_type": "execute_result"
    }
   ],
   "source": [
    "cost(pack(X, Theta), Y, R, Y.shape[0], Y.shape[1], X.shape[1])"
   ]
  },
  {
   "cell_type": "markdown",
   "metadata": {},
   "source": [
    "## Gradient Function\n",
    "\n",
    "$\\displaystyle \\frac{\\partial\\,J}{\\partial\\,x_{k}^{(i)}} = \\sum_{j:r(i,\\,j)=1} ((\\theta^{(j)})^{\\top}x^{(i)}-y^{(i,\\,j)})\\theta_{k}^{(j)} + \\lambda x_{k}^{(i)}$\n",
    "\n",
    "$\\displaystyle \\frac{\\partial\\,J}{\\partial\\,\\theta_{k}^{(j)}} = \\sum_{i:r(i,\\,j)=1} ((\\theta^{(j)})^{\\top}x^{(i)}-y^{(i,\\,j)})x_{k}^{(i)} + \\lambda \\theta_{k}^{(j)}$"
   ]
  },
  {
   "cell_type": "code",
   "execution_count": 13,
   "metadata": {},
   "outputs": [],
   "source": [
    "def gradient(X_Theta, Y, R, n_movies, n_users, n_params, lamb=0):\n",
    "    X, Theta = unpack(X_Theta, (n_movies, n_params), (n_users, n_params))\n",
    "    diffs = R * (X @ Theta.T - Y)\n",
    "    X_reg = lamb * X\n",
    "    Theta_reg = lamb * Theta\n",
    "    X_grad = diffs @ Theta + X_reg\n",
    "    Theta_grad = diffs.T @ X + Theta_reg\n",
    "    return np.concatenate((X_grad.ravel(), Theta_grad.ravel()))"
   ]
  },
  {
   "cell_type": "code",
   "execution_count": 14,
   "metadata": {},
   "outputs": [],
   "source": [
    "def numerical_gradient(X_Theta, Y, R, n_movies, n_users, n_params, lamb=0):\n",
    "    gradients = np.zeros(len(X_Theta))\n",
    "    t = np.zeros(len(X_Theta))\n",
    "    eps = 1e-4\n",
    "    for i in range(len(X_Theta)):\n",
    "        t[i] = eps\n",
    "        xt_high = X_Theta + t\n",
    "        xt_low = X_Theta - t\n",
    "        J_high = cost(xt_high, Y, R, n_movies, n_users, n_params, lamb)\n",
    "        J_low = cost(xt_low, Y, R, n_movies, n_users, n_params, lamb)\n",
    "        gradients[i] = (J_high - J_low)/ (2*eps)\n",
    "        t[i] = 0\n",
    "    return gradients"
   ]
  },
  {
   "cell_type": "code",
   "execution_count": 15,
   "metadata": {},
   "outputs": [],
   "source": [
    "def test_gradient(X_Theta, Y, R, n_movies, n_users, n_params, lamb=0):\n",
    "    g1 = gradient(X_Theta, Y, R, n_movies, n_users, n_params, lamb)\n",
    "    g2 = numerical_gradient(X_Theta, Y, R, n_movies, n_users, n_params, lamb)\n",
    "    rel_diff =  np.linalg.norm(g2-g1)/np.linalg.norm(g2+g1)\n",
    "    print(f'The relative difference is about {rel_diff}.')"
   ]
  },
  {
   "cell_type": "code",
   "execution_count": 16,
   "metadata": {},
   "outputs": [
    {
     "data": {
      "text/plain": [
       "array([-6.26184144,  2.45936046, -6.87560329, ..., -6.56073746,\n",
       "        5.20459188,  2.65003952])"
      ]
     },
     "execution_count": 16,
     "metadata": {},
     "output_type": "execute_result"
    }
   ],
   "source": [
    "gradient(pack(X, Theta), Y, R, Y.shape[0], Y.shape[1], X.shape[1])"
   ]
  },
  {
   "cell_type": "code",
   "execution_count": 83,
   "metadata": {},
   "outputs": [
    {
     "name": "stdout",
     "output_type": "stream",
     "text": [
      "The relative difference is about 4.370660707747889e-09.\n"
     ]
    }
   ],
   "source": [
    "test_gradient(pack(X, Theta), Y, R, Y.shape[0], Y.shape[1], X.shape[1])"
   ]
  },
  {
   "cell_type": "code",
   "execution_count": 17,
   "metadata": {},
   "outputs": [
    {
     "name": "stdout",
     "output_type": "stream",
     "text": [
      "True\n"
     ]
    }
   ],
   "source": [
    "n_movies = 10\n",
    "n_users = 10\n",
    "n_params = 10\n",
    "X_Theta = pack(X[:n_movies,:n_params], Theta[:n_users,:n_params])\n",
    "res = minimize(fun=cost,\n",
    "               x0=X_Theta,\n",
    "               args=(Y[:n_movies,:n_users],\n",
    "                     R[:n_movies,:n_users],\n",
    "                     n_movies,\n",
    "                     n_users,\n",
    "                     n_params),\n",
    "               method='CG',\n",
    "               jac=gradient,\n",
    "               options={\n",
    "                   'maxiter': 100\n",
    "               })\n",
    "print(res.success)\n",
    "unpack(res.x, (n_movies, n_params), (n_users, n_params));"
   ]
  },
  {
   "cell_type": "markdown",
   "metadata": {},
   "source": [
    "### Normalized Ratings"
   ]
  },
  {
   "cell_type": "code",
   "execution_count": 18,
   "metadata": {},
   "outputs": [
    {
     "name": "stdout",
     "output_type": "stream",
     "text": [
      "     fun: 38968.47482897758\n",
      "     jac: array([-0.02976977,  0.04126618,  0.06262536, ..., -0.00537149,\n",
      "        0.00737137,  0.01326238])\n",
      " message: 'Maximum number of iterations has been exceeded.'\n",
      "    nfev: 150\n",
      "     nit: 100\n",
      "    njev: 150\n",
      "  status: 1\n",
      " success: False\n",
      "       x: array([ 0.55412079,  0.68870047,  0.13691496, ..., -0.28400072,\n",
      "       -0.38315075,  0.61468118])\n"
     ]
    },
    {
     "data": {
      "image/png": "[encoded data removed]",
      "text/plain": [
       "<Figure size 432x288 with 1 Axes>"
      ]
     },
     "metadata": {
      "needs_background": "light"
     },
     "output_type": "display_data"
    }
   ],
   "source": [
    "def gradient_descent(Y, R, n_movies, n_users, n_params, lamb=10, iterations=100):\n",
    "    n_movies, n_users = Y.shape\n",
    "    X_Theta = pack(np.random.randn(n_movies, n_params), np.random.randn(n_users, n_params))\n",
    "    \n",
    "    Y_mean = np.average(Y, axis=1, weights=R).reshape((-1,1))\n",
    "    Y_norm = R * (Y - Y_mean)\n",
    "\n",
    "    costs = []\n",
    "\n",
    "    def iteration_cb(xk):\n",
    "        c = cost(xk, Y_norm[:n_movies,:n_users],\n",
    "             R[:n_movies,:n_users],\n",
    "             n_movies, n_users, n_params, 10)\n",
    "        costs.append(c)\n",
    "\n",
    "    res = minimize(fun=cost,\n",
    "                   x0=X_Theta,\n",
    "                   args=(Y_norm,\n",
    "                         R,\n",
    "                         n_movies,\n",
    "                         n_users,\n",
    "                         n_params,\n",
    "                         lamb),\n",
    "                   method='CG',\n",
    "                   jac=gradient,\n",
    "                   options={\n",
    "                       'maxiter': iterations\n",
    "                   },\n",
    "                   callback=iteration_cb)\n",
    "    print(res)\n",
    "    \n",
    "    plt.plot(range(len(costs)), costs)\n",
    "    plt.yscale('log', basey = 100)\n",
    "    plt.xlabel('Iterations')\n",
    "    plt.ylabel('Costs')\n",
    "    # !!!try different values and choose minimum\n",
    "    \n",
    "    X_fit, Theta_fit = unpack(res.x, (n_movies, n_params), (n_users, n_params))\n",
    "    return X_fit, Theta_fit\n",
    "\n",
    "X_fit, Theta_fit = gradient_descent(Y, R, n_movies, n_users, n_params, lamb=10, iterations=100)"
   ]
  },
  {
   "cell_type": "code",
   "execution_count": 19,
   "metadata": {},
   "outputs": [
    {
     "ename": "NameError",
     "evalue": "name 'Y_mean' is not defined",
     "output_type": "error",
     "traceback": [
      "\u001b[0;31m---------------------------------------------------------------------------\u001b[0m",
      "\u001b[0;31mNameError\u001b[0m                                 Traceback (most recent call last)",
      "\u001b[0;32m<ipython-input-19-e02af759bc54>\u001b[0m in \u001b[0;36m<module>\u001b[0;34m()\u001b[0m\n\u001b[0;32m----> 1\u001b[0;31m \u001b[0mR\u001b[0m \u001b[0;34m*\u001b[0m \u001b[0;34m(\u001b[0m\u001b[0;34m(\u001b[0m\u001b[0mX_fit\u001b[0m \u001b[0;34m@\u001b[0m \u001b[0mTheta_fit\u001b[0m\u001b[0;34m.\u001b[0m\u001b[0mT\u001b[0m\u001b[0;34m)\u001b[0m \u001b[0;34m+\u001b[0m \u001b[0mY_mean\u001b[0m\u001b[0;34m)\u001b[0m\u001b[0;34m\u001b[0m\u001b[0m\n\u001b[0m",
      "\u001b[0;31mNameError\u001b[0m: name 'Y_mean' is not defined"
     ]
    }
   ],
   "source": [
    "R * ((X_fit @ Theta_fit.T) + Y_mean)"
   ]
  },
  {
   "cell_type": "code",
   "execution_count": 62,
   "metadata": {},
   "outputs": [],
   "source": [
    "movies = np.fromregex(file='movie_ids.txt',\n",
    "             dtype=[('index', 'i4'), ('title', 'U20')],\n",
    "             regexp=r'(\\d+) (.*)',\n",
    "             encoding='LATIN-1')"
   ]
  }
 ],
 "metadata": {
  "kernelspec": {
   "display_name": "Python 3",
   "language": "python",
   "name": "python3"
  },
  "language_info": {
   "codemirror_mode": {
    "name": "ipython",
    "version": 3
   },
   "file_extension": ".py",
   "mimetype": "text/x-python",
   "name": "python",
   "nbconvert_exporter": "python",
   "pygments_lexer": "ipython3",
   "version": "3.6.6"
  }
 },
 "nbformat": 4,
 "nbformat_minor": 2
}
