{
 "cells": [
  {
   "cell_type": "code",
   "execution_count": 81,
   "metadata": {},
   "outputs": [],
   "source": [
    "%matplotlib inline\n",
    "import matplotlib.pyplot as plt\n",
    "import numpy as np\n",
    "from scipy.io import loadmat\n",
    "from scipy.spatial.distance import pdist, squareform\n",
    "from sklearn.metrics.pairwise import cosine_similarity\n",
    "from sklearn.neighbors import NearestNeighbors\n",
    "from sklearn.base import BaseEstimator"
   ]
  },
  {
   "cell_type": "markdown",
   "metadata": {},
   "source": [
    "### Load Data\n",
    "\n",
    "> $Y, R \\in \\mathbb{R}^{1682 \\times 943}$"
   ]
  },
  {
   "cell_type": "code",
   "execution_count": 2,
   "metadata": {},
   "outputs": [],
   "source": [
    "data = loadmat('ex8_movies.mat')\n",
    "Y, R = data['Y'].astype(float), data['R'].astype(float)"
   ]
  },
  {
   "cell_type": "markdown",
   "metadata": {},
   "source": [
    "### Item-Based Adjusted Cosine Similarity\n",
    "\n",
    "> $\\displaystyle s_{i,j} = \\frac{\\sum_{x} (r_{xi} - \\bar{r}_x) (r_{xj} - \\bar{r}_x)}\n",
    "{\\sqrt{\\sum_{x}(r_{xi} - \\bar{r}_x)^2} \\sqrt{\\sum_{x}(r_{xj} - \\bar{r}_x)^2}}$\n",
    "\n",
    "$r_{xi}$ is a rating of user $x$ on item $i$.\n",
    "\n",
    "$r_{xj}$ is a rating of user $x$ on item $j$.\n",
    "\n",
    "$\\bar{r}_{x}$ is the mean of all the rating of user $x$."
   ]
  },
  {
   "cell_type": "code",
   "execution_count": 3,
   "metadata": {},
   "outputs": [
    {
     "data": {
      "text/plain": [
       "array([[ 1.        , -0.05836654, -0.06555991, ...,  0.        ,\n",
       "         0.05337722, -0.03320282],\n",
       "       [-0.05836654,  1.        ,  0.03355092, ...,  0.        ,\n",
       "         0.00192627,  0.03645238],\n",
       "       [-0.06555991,  0.03355092,  1.        , ...,  0.        ,\n",
       "         0.        ,  0.03323839],\n",
       "       ...,\n",
       "       [ 0.        ,  0.        ,  0.        , ...,  1.        ,\n",
       "         0.        ,  0.        ],\n",
       "       [ 0.05337722,  0.00192627,  0.        , ...,  0.        ,\n",
       "         1.        ,  0.        ],\n",
       "       [-0.03320282,  0.03645238,  0.03323839, ...,  0.        ,\n",
       "         0.        ,  1.        ]])"
      ]
     },
     "execution_count": 3,
     "metadata": {},
     "output_type": "execute_result"
    }
   ],
   "source": [
    "Y_meaned = np.zeros_like(Y)\n",
    "users_mean_rating = np.average(Y, axis=0, weights=R)\n",
    "Y_meaned[R == 1] = (Y - users_mean_rating)[R == 1]\n",
    "cosine_similarity(Y_meaned)"
   ]
  },
  {
   "cell_type": "markdown",
   "metadata": {},
   "source": [
    "### Collaborative Filtering\n",
    "> $\\displaystyle \\hat{r}_{xi} = \\frac{\\sum_{j \\in N(i,x)} s_{ij} \\cdot r_{xj}}{\\sum_{j \\in N(i,x)} s_{ij}}$\n",
    "\n",
    "$s_{ij}$ is the **similarity** of items $i$ and $j$.\n",
    "\n",
    "$r_{xj}$ is the **rating** of user $x$ on item $j$.\n",
    "\n",
    "$N(i,x)$ is the set of **items similar** to item $i$ that were **rated** by user $x$."
   ]
  },
  {
   "cell_type": "code",
   "execution_count": 4,
   "metadata": {},
   "outputs": [
    {
     "data": {
      "text/plain": [
       "0.3629208348880235"
      ]
     },
     "execution_count": 4,
     "metadata": {},
     "output_type": "execute_result"
    }
   ],
   "source": [
    "def co_filtering(item, user, k=10):\n",
    "    Y_meaned_rated_by_user = Y_meaned[R[:, user] == 1]\n",
    "    nn = NearestNeighbors(n_neighbors=k, metric='cosine')\n",
    "    nn.fit(Y_meaned_rated_by_user)\n",
    "    nn_distances, nn_indices = nn.kneighbors(Y[[item],:], n_neighbors=k)\n",
    "    nn_ratings = Y_meaned_rated_by_user[nn_indices, user]\n",
    "    return (nn_distances[0] @ nn_ratings[0]) / nn_distances.sum()\n",
    "\n",
    "co_filtering(3,10)"
   ]
  },
  {
   "cell_type": "markdown",
   "metadata": {},
   "source": [
    "### Including Global Effects\n",
    "\n",
    "> $\\displaystyle \\hat{r}_{xi} = b_{xi} + \\frac{\\sum_{j \\in N(i,x)} s_{ij} \\cdot (r_{xj} - b_{xj})}{\\sum_{j \\in N(i,x)} s_{ij}}$\n",
    "\n",
    "Where we use the **baseline** $b_{xi}$.\n",
    "\n",
    "$b_{xi} = \\mu + b_x + b_i$\n",
    "\n",
    "$\\mu$ is the **overall mean rating**.\n",
    "\n",
    "$b_x$ is the **rating deviation** of user $x$:\n",
    "> $b_x$ = (average rating of user $x$) - $\\mu$\n",
    "\n",
    "$b_i$ is the **rating deviation** of item $i$:\n",
    "> $b_i$ = (average rating of item $i$) - $\\mu$"
   ]
  },
  {
   "cell_type": "code",
   "execution_count": 73,
   "metadata": {},
   "outputs": [
    {
     "data": {
      "text/plain": [
       "2.6563863076335448"
      ]
     },
     "execution_count": 73,
     "metadata": {},
     "output_type": "execute_result"
    }
   ],
   "source": [
    "overall_mean_rating = np.average(Y, weights=R)\n",
    "users_mean_rating = np.average(Y, axis=0, weights=R)\n",
    "users_mean_deviation = users_mean_rating - overall_mean_rating\n",
    "items_mean_rating = np.average(Y, axis=1, weights=R)\n",
    "items_mean_deviation = items_mean_rating - overall_mean_rating\n",
    "\n",
    "def baseline(item, user):\n",
    "    return overall_mean_rating + users_mean_deviation[user] + items_mean_deviation[item]\n",
    "\n",
    "def co_filtering_baselined(item, user, k=10):\n",
    "    Y_meaned_rated_by_user = Y_meaned[R[:, user] == 1] # items - users_mean_rating filtered by user_rating\n",
    "    Y_rated_by_user = Y[R[:, user] == 1] # items filtered by user_rating\n",
    "    nn = NearestNeighbors(n_neighbors=k, metric='cosine')\n",
    "    nn.fit(Y_meaned_rated_by_user)\n",
    "    nn_distances, nn_indices = nn.kneighbors(Y_meaned[[item],:], n_neighbors=k)\n",
    "    nn_baselines = overall_mean_rating + users_mean_deviation[user] + items_mean_deviation[R[:,user]==1][nn_indices]\n",
    "    nn_ratings = Y_rated_by_user[nn_indices, user] - nn_baselines\n",
    "    return baseline(item, user) + (nn_distances[0] @ nn_ratings[0]) / nn_distances.sum()\n",
    "\n",
    "co_filtering_baselined(3,10)"
   ]
  },
  {
   "cell_type": "code",
   "execution_count": 75,
   "metadata": {},
   "outputs": [
    {
     "data": {
      "text/plain": [
       "array([[5., 4., 0., ..., 5., 0., 0.],\n",
       "       [3., 0., 0., ..., 0., 0., 5.],\n",
       "       [4., 0., 0., ..., 0., 0., 0.],\n",
       "       ...,\n",
       "       [0., 0., 0., ..., 0., 0., 0.],\n",
       "       [0., 0., 0., ..., 0., 0., 0.],\n",
       "       [0., 0., 0., ..., 0., 0., 0.]])"
      ]
     },
     "execution_count": 75,
     "metadata": {},
     "output_type": "execute_result"
    }
   ],
   "source": [
    "Y"
   ]
  },
  {
   "cell_type": "code",
   "execution_count": 78,
   "metadata": {},
   "outputs": [
    {
     "data": {
      "text/plain": [
       "3.3193893724887324"
      ]
     },
     "execution_count": 78,
     "metadata": {},
     "output_type": "execute_result"
    }
   ],
   "source": [
    "co_filtering_baselined(1,0,k=10)"
   ]
  },
  {
   "cell_type": "markdown",
   "metadata": {},
   "source": [
    "### Root Mean Squared Error (RMSE)\n",
    "\n",
    "> $\\displaystyle RMSE = \\sqrt{\\frac{\\sum_{(i,x)}(\\hat{r}_{xi} - r_{xi})^2}{|R|}}$\n",
    "\n",
    "$R$ is the ratings matrix, $R \\in \\mathbb{R}^{m \\times n}$.\n",
    "\n",
    "$\\hat{r}_{xi}$ is a **Predicted** rating of user $x$ on item $i$.\n",
    "\n",
    "$r_{xi}$ is a **True** rating of user $x$ on item $i$.\n",
    "\n",
    "$|R|$ is the total number of ratings."
   ]
  }
 ],
 "metadata": {
  "kernelspec": {
   "display_name": "Python 3",
   "language": "python",
   "name": "python3"
  },
  "language_info": {
   "codemirror_mode": {
    "name": "ipython",
    "version": 3
   },
   "file_extension": ".py",
   "mimetype": "text/x-python",
   "name": "python",
   "nbconvert_exporter": "python",
   "pygments_lexer": "ipython3",
   "version": "3.6.6"
  }
 },
 "nbformat": 4,
 "nbformat_minor": 2
}
