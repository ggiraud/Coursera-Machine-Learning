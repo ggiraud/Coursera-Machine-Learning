{
 "cells": [
  {
   "cell_type": "code",
   "execution_count": 38,
   "metadata": {},
   "outputs": [],
   "source": [
    "path, io = mktemp()\n",
    "write(io, \"ls -lh\")\n",
    "close(io)"
   ]
  },
  {
   "cell_type": "code",
   "execution_count": 39,
   "metadata": {},
   "outputs": [
    {
     "data": {
      "text/plain": [
       "\"ls -lh\""
      ]
     },
     "execution_count": 39,
     "metadata": {},
     "output_type": "execute_result"
    }
   ],
   "source": [
    "read(path, String)"
   ]
  },
  {
   "cell_type": "code",
   "execution_count": 32,
   "metadata": {},
   "outputs": [
    {
     "name": "stdout",
     "output_type": "stream",
     "text": [
      "total 8,9M\n",
      "drwxr-xr-x  3 root    root    4,0K juil. 17  2017 amber\n",
      "drwxr-xr-x 24 root    root    4,0K déc.   4 10:07 anaconda3\n",
      "drwxr-xr-x  5 root    root    4,0K nov.  16  2017 apps\n",
      "-rw-r--r--  1 root    root    1,7M sept. 23 11:01 bat_0.7.1_amd64.deb\n"
     ]
    },
    {
     "data": {
      "text/plain": [
       "Base.ProcessChain(Base.Process[Process(`\u001b[4mssh\u001b[24m \u001b[4mroot@37.187.101.175\u001b[24m \u001b[4mbash\u001b[24m \u001b[4m-s\u001b[24m`, ProcessExited(0)), Process(`\u001b[4mhead\u001b[24m \u001b[4m-n\u001b[24m \u001b[4m5\u001b[24m`, ProcessExited(0))], RawFD(0x00000000), RawFD(0x00000001), RawFD(0x00000002))"
      ]
     },
     "execution_count": 32,
     "metadata": {},
     "output_type": "execute_result"
    }
   ],
   "source": [
    "c = `ssh root@37.187.101.175 bash -s`\n",
    "run(pipeline(path, c, `head -n 5`))"
   ]
  },
  {
   "cell_type": "code",
   "execution_count": 33,
   "metadata": {},
   "outputs": [],
   "source": [
    "rm(path)"
   ]
  }
 ],
 "metadata": {
  "kernelspec": {
   "display_name": "Julia 1.0.1",
   "language": "julia",
   "name": "julia-1.0"
  },
  "language_info": {
   "file_extension": ".jl",
   "mimetype": "application/julia",
   "name": "julia",
   "version": "1.0.3"
  }
 },
 "nbformat": 4,
 "nbformat_minor": 2
}
