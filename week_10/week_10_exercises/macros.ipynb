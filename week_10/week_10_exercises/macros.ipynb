{
 "cells": [
  {
   "cell_type": "code",
   "execution_count": 1,
   "metadata": {},
   "outputs": [
    {
     "data": {
      "text/plain": [
       "Union{Array{T,1}, T} where T"
      ]
     },
     "execution_count": 1,
     "metadata": {},
     "output_type": "execute_result"
    }
   ],
   "source": [
    "UnitOrVector{T} = Union{T, Vector{T}} where T"
   ]
  },
  {
   "cell_type": "code",
   "execution_count": 2,
   "metadata": {},
   "outputs": [],
   "source": [
    "mutable struct Foo\n",
    "    a::Int64\n",
    "    b::UnitOrVector{Int64}\n",
    "    c::Float64\n",
    "    d::UnitOrVector{Float64}\n",
    "    \n",
    "    function Foo()\n",
    "        new(0,0,0.0,0.0)\n",
    "    end\n",
    "\n",
    "end"
   ]
  },
  {
   "cell_type": "code",
   "execution_count": 3,
   "metadata": {},
   "outputs": [
    {
     "name": "stdout",
     "output_type": "stream",
     "text": [
      "Int64\n",
      "Union{Int64, Array{Int64,1}}\n",
      "Float64\n",
      "Union{Float64, Array{Float64,1}}\n"
     ]
    }
   ],
   "source": [
    "for n in fieldnames(Foo)\n",
    "    println(fieldtype(Foo, n))\n",
    "end"
   ]
  },
  {
   "cell_type": "code",
   "execution_count": 4,
   "metadata": {},
   "outputs": [
    {
     "data": {
      "text/plain": [
       "@grid (macro with 1 method)"
      ]
     },
     "execution_count": 4,
     "metadata": {},
     "output_type": "execute_result"
    }
   ],
   "source": [
    "macro grid(T)\n",
    "    args = @eval fieldnames($(T))\n",
    "    typename = @eval $(T)\n",
    "    quote\n",
    "        function $(esc(T))($(args...))\n",
    "            indices = CartesianIndices(Tuple(length(i) for i in Any[$(args...)]))\n",
    "            results = Vector{$(esc(T))}()\n",
    "            for ci in indices\n",
    "                obj = $(esc(T))()\n",
    "                for (i,j) in enumerate(ci.I)\n",
    "                    setfield!(obj, $(args)[i], Any[$(args...)][i][j])\n",
    "                end\n",
    "                push!(results, obj)\n",
    "            end\n",
    "            return results\n",
    "        end\n",
    "    end\n",
    "end"
   ]
  },
  {
   "cell_type": "code",
   "execution_count": 49,
   "metadata": {},
   "outputs": [
    {
     "data": {
      "text/plain": [
       "@makegrid (macro with 1 method)"
      ]
     },
     "execution_count": 49,
     "metadata": {},
     "output_type": "execute_result"
    }
   ],
   "source": [
    "macro makegrid(T, args...)\n",
    "    quote\n",
    "        argslist = Any[$(args...)]\n",
    "        fieldslist = fieldnames($T)\n",
    "        indices = CartesianIndices(Tuple(length(i) for i in argslist))\n",
    "        results = Vector{$T}()\n",
    "        for ci in indices\n",
    "            obj = $T()\n",
    "            for (i,j) in enumerate(ci.I)\n",
    "                setfield!(obj, fieldslist[i], argslist[i][j])\n",
    "            end\n",
    "            push!(results, obj)\n",
    "        end\n",
    "        results\n",
    "    end\n",
    "end"
   ]
  },
  {
   "cell_type": "code",
   "execution_count": 50,
   "metadata": {},
   "outputs": [
    {
     "data": {
      "text/plain": [
       "15-element Array{Foo,1}:\n",
       " Foo(1, 2, 3.0, 4.0)\n",
       " Foo(2, 2, 3.0, 4.0)\n",
       " Foo(3, 2, 3.0, 4.0)\n",
       " Foo(1, 2, 3.0, 4.5)\n",
       " Foo(2, 2, 3.0, 4.5)\n",
       " Foo(3, 2, 3.0, 4.5)\n",
       " Foo(1, 2, 3.0, 5.0)\n",
       " Foo(2, 2, 3.0, 5.0)\n",
       " Foo(3, 2, 3.0, 5.0)\n",
       " Foo(1, 2, 3.0, 5.5)\n",
       " Foo(2, 2, 3.0, 5.5)\n",
       " Foo(3, 2, 3.0, 5.5)\n",
       " Foo(1, 2, 3.0, 6.0)\n",
       " Foo(2, 2, 3.0, 6.0)\n",
       " Foo(3, 2, 3.0, 6.0)"
      ]
     },
     "execution_count": 50,
     "metadata": {},
     "output_type": "execute_result"
    }
   ],
   "source": [
    "a = 3.0\n",
    "@makegrid(Foo, 1:3, 2, a, 4.0:0.5:6.0)"
   ]
  },
  {
   "cell_type": "code",
   "execution_count": 61,
   "metadata": {},
   "outputs": [
    {
     "data": {
      "text/plain": [
       "Foo"
      ]
     },
     "execution_count": 61,
     "metadata": {},
     "output_type": "execute_result"
    }
   ],
   "source": [
    "@grid Foo"
   ]
  },
  {
   "cell_type": "code",
   "execution_count": 11,
   "metadata": {},
   "outputs": [
    {
     "data": {
      "text/plain": [
       "quote\n",
       "    #= In[9]:5 =#\n",
       "    function Foo(#31#a, #32#b, #33#c, #34#d)\n",
       "        #= In[9]:6 =#\n",
       "        #25#indices = (Main.CartesianIndices)((Main.Tuple)(((Main.length)(#29#i) for #29#i = (Main.Any)[#31#a, #32#b, #33#c, #34#d])))\n",
       "        #= In[9]:7 =#\n",
       "        #26#results = (Main.Vector){Foo}()\n",
       "        #= In[9]:8 =#\n",
       "        for #27#ci = #25#indices\n",
       "            #= In[9]:9 =#\n",
       "            #28#obj = Foo()\n",
       "            #= In[9]:10 =#\n",
       "            for (#29#i, #30#j) = (Main.enumerate)((#27#ci).I)\n",
       "                #= In[9]:11 =#\n",
       "                (Main.setfield!)(#28#obj, ((:a, :b, :c, :d))[#29#i], (((Main.Any)[#31#a, #32#b, #33#c, #34#d])[#29#i])[#30#j])\n",
       "            end\n",
       "            #= In[9]:13 =#\n",
       "            (Main.push!)(#26#results, #28#obj)\n",
       "        end\n",
       "        #= In[9]:15 =#\n",
       "        return #26#results\n",
       "    end\n",
       "end"
      ]
     },
     "execution_count": 11,
     "metadata": {},
     "output_type": "execute_result"
    }
   ],
   "source": [
    "@macroexpand @grid Foo"
   ]
  },
  {
   "cell_type": "code",
   "execution_count": 8,
   "metadata": {},
   "outputs": [
    {
     "data": {
      "text/plain": [
       "1-element Array{Foo,1}:\n",
       " Foo(1, 2, 3.0, 4.0)"
      ]
     },
     "execution_count": 8,
     "metadata": {},
     "output_type": "execute_result"
    }
   ],
   "source": [
    "Foo(1, 2, 3.0, 4.0)"
   ]
  },
  {
   "cell_type": "code",
   "execution_count": 6,
   "metadata": {},
   "outputs": [
    {
     "data": {
      "text/plain": [
       "9-element Array{Foo,1}:\n",
       " Foo(1, 2, 3.14, 1.0)\n",
       " Foo(1, 3, 3.14, 1.0)\n",
       " Foo(1, 4, 3.14, 1.0)\n",
       " Foo(1, 2, 3.14, 2.9)\n",
       " Foo(1, 3, 3.14, 2.9)\n",
       " Foo(1, 4, 3.14, 2.9)\n",
       " Foo(1, 2, 3.14, 7.8)\n",
       " Foo(1, 3, 3.14, 7.8)\n",
       " Foo(1, 4, 3.14, 7.8)"
      ]
     },
     "execution_count": 6,
     "metadata": {},
     "output_type": "execute_result"
    }
   ],
   "source": [
    "Foo(1, [2,3,4], 3.14, [1.0, 2.9, 7.8])"
   ]
  },
  {
   "cell_type": "code",
   "execution_count": null,
   "metadata": {},
   "outputs": [],
   "source": [
    "args = [[1,2,3], 2.4, [4,5,6], [7,8], [true, false]]\n",
    "eval(quote\n",
    "    Array{NTuple{$length(args), Any}, $length(args)}(undef, $([length(a) for a in args]...))\n",
    "end)[:]\n",
    "for ci in CartesianIndices(Tuple(length(i) for i in args))\n",
    "    println(ci, [args[i][j] for (i,j) in enumerate(ci.I)])\n",
    "end"
   ]
  }
 ],
 "metadata": {
  "kernelspec": {
   "display_name": "Julia 1.0.1",
   "language": "julia",
   "name": "julia-1.0"
  },
  "language_info": {
   "file_extension": ".jl",
   "mimetype": "application/julia",
   "name": "julia",
   "version": "1.0.1"
  }
 },
 "nbformat": 4,
 "nbformat_minor": 2
}
